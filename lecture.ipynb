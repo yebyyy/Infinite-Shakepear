{
  "nbformat": 4,
  "nbformat_minor": 0,
  "metadata": {
    "colab": {
      "provenance": [],
      "toc_visible": true,
      "authorship_tag": "ABX9TyOBflPdF1N1H+RfxHGeEqSJ",
      "include_colab_link": true
    },
    "kernelspec": {
      "name": "python3",
      "display_name": "Python 3"
    },
    "language_info": {
      "name": "python"
    }
  },
  "cells": [
    {
      "cell_type": "markdown",
      "metadata": {
        "id": "view-in-github",
        "colab_type": "text"
      },
      "source": [
        "<a href=\"https://colab.research.google.com/github/yebyyy/Infinite-Shakepear/blob/main/lecture.ipynb\" target=\"_parent\"><img src=\"https://colab.research.google.com/assets/colab-badge.svg\" alt=\"Open In Colab\"/></a>"
      ]
    },
    {
      "cell_type": "markdown",
      "source": [
        "### Building GPT"
      ],
      "metadata": {
        "id": "J0j9oAB1Yfxx"
      }
    },
    {
      "cell_type": "markdown",
      "source": [
        "First let's download the shakespear text"
      ],
      "metadata": {
        "id": "2aWQiTx7YaOh"
      }
    },
    {
      "cell_type": "code",
      "execution_count": 1,
      "metadata": {
        "colab": {
          "base_uri": "https://localhost:8080/"
        },
        "id": "efywur-CYUjB",
        "outputId": "46a3265c-4d52-4e6d-bddf-d52bc7b0906b"
      },
      "outputs": [
        {
          "output_type": "stream",
          "name": "stdout",
          "text": [
            "--2024-06-25 19:41:59--  https://raw.githubusercontent.com/karpathy/char-rnn/master/data/tinyshakespeare/input.txt\n",
            "Resolving raw.githubusercontent.com (raw.githubusercontent.com)... 185.199.110.133, 185.199.108.133, 185.199.111.133, ...\n",
            "Connecting to raw.githubusercontent.com (raw.githubusercontent.com)|185.199.110.133|:443... connected.\n",
            "HTTP request sent, awaiting response... 200 OK\n",
            "Length: 1115394 (1.1M) [text/plain]\n",
            "Saving to: ‘input.txt’\n",
            "\n",
            "input.txt           100%[===================>]   1.06M  5.50MB/s    in 0.2s    \n",
            "\n",
            "2024-06-25 19:42:00 (5.50 MB/s) - ‘input.txt’ saved [1115394/1115394]\n",
            "\n"
          ]
        }
      ],
      "source": [
        "!wget https://raw.githubusercontent.com/karpathy/char-rnn/master/data/tinyshakespeare/input.txt"
      ]
    },
    {
      "cell_type": "code",
      "source": [
        "with open('input.txt', 'r', encoding='utf-8') as f:\n",
        "    text = f.read()"
      ],
      "metadata": {
        "id": "4h-0Mw90YoSo"
      },
      "execution_count": 2,
      "outputs": []
    },
    {
      "cell_type": "code",
      "source": [
        "chars = sorted(list(set(text)))\n",
        "vocab_size = len(chars)\n",
        "print(''.join(chars))\n",
        "print(vocab_size)"
      ],
      "metadata": {
        "colab": {
          "base_uri": "https://localhost:8080/"
        },
        "id": "bckso5XpYqBy",
        "outputId": "690d2b2b-1698-44dc-d115-9cba3a63214d"
      },
      "execution_count": 3,
      "outputs": [
        {
          "output_type": "stream",
          "name": "stdout",
          "text": [
            "\n",
            " !$&',-.3:;?ABCDEFGHIJKLMNOPQRSTUVWXYZabcdefghijklmnopqrstuvwxyz\n",
            "65\n"
          ]
        }
      ]
    },
    {
      "cell_type": "markdown",
      "source": [
        "#### Tokenization"
      ],
      "metadata": {
        "id": "I7IZx41UaGBt"
      }
    },
    {
      "cell_type": "markdown",
      "source": [
        "The tokenizer for this project is very simple"
      ],
      "metadata": {
        "id": "pf2jyye_aqau"
      }
    },
    {
      "cell_type": "code",
      "source": [
        "charInt = {Char:Int for Int, Char in enumerate(chars)}\n",
        "intChar = {Int:Char for Int, Char in enumerate(chars)}"
      ],
      "metadata": {
        "id": "k-x26OPAaH2a"
      },
      "execution_count": 4,
      "outputs": []
    },
    {
      "cell_type": "code",
      "source": [
        "def encode(txt):\n",
        "  li = []\n",
        "  for chr in txt:\n",
        "    li.append(charInt.get(chr))\n",
        "  return li"
      ],
      "metadata": {
        "id": "GrovgjZLb-2u"
      },
      "execution_count": 5,
      "outputs": []
    },
    {
      "cell_type": "code",
      "source": [
        "def decode(intList):\n",
        "  string = \"\"\n",
        "  for i in intList:\n",
        "    string += intChar[i]\n",
        "  return string"
      ],
      "metadata": {
        "id": "YK_JiJmicV9b"
      },
      "execution_count": 6,
      "outputs": []
    },
    {
      "cell_type": "code",
      "source": [
        "encode(\"hello\")"
      ],
      "metadata": {
        "colab": {
          "base_uri": "https://localhost:8080/"
        },
        "id": "9FUEsL1ucqwF",
        "outputId": "2d5ce2b5-e950-4a76-957c-e1ad862658ee"
      },
      "execution_count": 7,
      "outputs": [
        {
          "output_type": "execute_result",
          "data": {
            "text/plain": [
              "[46, 43, 50, 50, 53]"
            ]
          },
          "metadata": {},
          "execution_count": 7
        }
      ]
    },
    {
      "cell_type": "code",
      "source": [
        "decode(encode(\"where are you\"))"
      ],
      "metadata": {
        "colab": {
          "base_uri": "https://localhost:8080/",
          "height": 34
        },
        "id": "d8FjQIDEdnZG",
        "outputId": "cf5e323f-a9dc-4a2e-adfc-344f326f55b5"
      },
      "execution_count": 8,
      "outputs": [
        {
          "output_type": "execute_result",
          "data": {
            "text/plain": [
              "'where are you'"
            ],
            "application/vnd.google.colaboratory.intrinsic+json": {
              "type": "string"
            }
          },
          "metadata": {},
          "execution_count": 8
        }
      ]
    },
    {
      "cell_type": "markdown",
      "source": [
        "Now tokenize the entire text"
      ],
      "metadata": {
        "id": "KltfgyIQdw9L"
      }
    },
    {
      "cell_type": "code",
      "source": [
        "import torch"
      ],
      "metadata": {
        "id": "W_GVvcxadzNv"
      },
      "execution_count": 9,
      "outputs": []
    },
    {
      "cell_type": "code",
      "source": [
        "data = torch.tensor(encode(text), dtype=torch.long)"
      ],
      "metadata": {
        "id": "F-ej3p6Od35I"
      },
      "execution_count": 10,
      "outputs": []
    },
    {
      "cell_type": "code",
      "source": [
        "data.shape, data.dtype"
      ],
      "metadata": {
        "colab": {
          "base_uri": "https://localhost:8080/"
        },
        "id": "a4RUzf2PeF9v",
        "outputId": "1e32d2f9-6e50-4a85-e255-0b09c12a1bfb"
      },
      "execution_count": 11,
      "outputs": [
        {
          "output_type": "execute_result",
          "data": {
            "text/plain": [
              "(torch.Size([1115394]), torch.int64)"
            ]
          },
          "metadata": {},
          "execution_count": 11
        }
      ]
    },
    {
      "cell_type": "code",
      "source": [
        "data[:500]"
      ],
      "metadata": {
        "colab": {
          "base_uri": "https://localhost:8080/"
        },
        "id": "MY51UMMHeQYV",
        "outputId": "731da8da-fc7b-4e6f-f548-443f6ee36085"
      },
      "execution_count": 12,
      "outputs": [
        {
          "output_type": "execute_result",
          "data": {
            "text/plain": [
              "tensor([18, 47, 56, 57, 58,  1, 15, 47, 58, 47, 64, 43, 52, 10,  0, 14, 43, 44,\n",
              "        53, 56, 43,  1, 61, 43,  1, 54, 56, 53, 41, 43, 43, 42,  1, 39, 52, 63,\n",
              "         1, 44, 59, 56, 58, 46, 43, 56,  6,  1, 46, 43, 39, 56,  1, 51, 43,  1,\n",
              "        57, 54, 43, 39, 49,  8,  0,  0, 13, 50, 50, 10,  0, 31, 54, 43, 39, 49,\n",
              "         6,  1, 57, 54, 43, 39, 49,  8,  0,  0, 18, 47, 56, 57, 58,  1, 15, 47,\n",
              "        58, 47, 64, 43, 52, 10,  0, 37, 53, 59,  1, 39, 56, 43,  1, 39, 50, 50,\n",
              "         1, 56, 43, 57, 53, 50, 60, 43, 42,  1, 56, 39, 58, 46, 43, 56,  1, 58,\n",
              "        53,  1, 42, 47, 43,  1, 58, 46, 39, 52,  1, 58, 53,  1, 44, 39, 51, 47,\n",
              "        57, 46, 12,  0,  0, 13, 50, 50, 10,  0, 30, 43, 57, 53, 50, 60, 43, 42,\n",
              "         8,  1, 56, 43, 57, 53, 50, 60, 43, 42,  8,  0,  0, 18, 47, 56, 57, 58,\n",
              "         1, 15, 47, 58, 47, 64, 43, 52, 10,  0, 18, 47, 56, 57, 58,  6,  1, 63,\n",
              "        53, 59,  1, 49, 52, 53, 61,  1, 15, 39, 47, 59, 57,  1, 25, 39, 56, 41,\n",
              "        47, 59, 57,  1, 47, 57,  1, 41, 46, 47, 43, 44,  1, 43, 52, 43, 51, 63,\n",
              "         1, 58, 53,  1, 58, 46, 43,  1, 54, 43, 53, 54, 50, 43,  8,  0,  0, 13,\n",
              "        50, 50, 10,  0, 35, 43,  1, 49, 52, 53, 61,  5, 58,  6,  1, 61, 43,  1,\n",
              "        49, 52, 53, 61,  5, 58,  8,  0,  0, 18, 47, 56, 57, 58,  1, 15, 47, 58,\n",
              "        47, 64, 43, 52, 10,  0, 24, 43, 58,  1, 59, 57,  1, 49, 47, 50, 50,  1,\n",
              "        46, 47, 51,  6,  1, 39, 52, 42,  1, 61, 43,  5, 50, 50,  1, 46, 39, 60,\n",
              "        43,  1, 41, 53, 56, 52,  1, 39, 58,  1, 53, 59, 56,  1, 53, 61, 52,  1,\n",
              "        54, 56, 47, 41, 43,  8,  0, 21, 57,  5, 58,  1, 39,  1, 60, 43, 56, 42,\n",
              "        47, 41, 58, 12,  0,  0, 13, 50, 50, 10,  0, 26, 53,  1, 51, 53, 56, 43,\n",
              "         1, 58, 39, 50, 49, 47, 52, 45,  1, 53, 52,  5, 58, 11,  1, 50, 43, 58,\n",
              "         1, 47, 58,  1, 40, 43,  1, 42, 53, 52, 43, 10,  1, 39, 61, 39, 63,  6,\n",
              "         1, 39, 61, 39, 63,  2,  0,  0, 31, 43, 41, 53, 52, 42,  1, 15, 47, 58,\n",
              "        47, 64, 43, 52, 10,  0, 27, 52, 43,  1, 61, 53, 56, 42,  6,  1, 45, 53,\n",
              "        53, 42,  1, 41, 47, 58, 47, 64, 43, 52, 57,  8,  0,  0, 18, 47, 56, 57,\n",
              "        58,  1, 15, 47, 58, 47, 64, 43, 52, 10,  0, 35, 43,  1, 39, 56, 43,  1,\n",
              "        39, 41, 41, 53, 59, 52, 58, 43, 42,  1, 54, 53, 53, 56])"
            ]
          },
          "metadata": {},
          "execution_count": 12
        }
      ]
    },
    {
      "cell_type": "markdown",
      "source": [
        "#### Train test split"
      ],
      "metadata": {
        "id": "XCKxjzSbebly"
      }
    },
    {
      "cell_type": "code",
      "source": [
        "n = int(0.9 * len(data))\n",
        "train_data = data[:n]\n",
        "val_data = data[n:]"
      ],
      "metadata": {
        "id": "v8FhN3RqeVVC"
      },
      "execution_count": 13,
      "outputs": []
    },
    {
      "cell_type": "markdown",
      "source": [
        "#### Chunk(Block) Size"
      ],
      "metadata": {
        "id": "bKyVjEZlMraq"
      }
    },
    {
      "cell_type": "markdown",
      "source": [
        "In practice, we don't put all the training data set to the transformer all at once, which would be computationally expensive. So we only use chunks of data to train the transformer."
      ],
      "metadata": {
        "id": "IviZuAqfe-OX"
      }
    },
    {
      "cell_type": "markdown",
      "source": [
        "What we do is we sample random chunks and feed them to the transformer. Each chunk has a maximum length, called `block_size`."
      ],
      "metadata": {
        "id": "Bx_U8g0EJ7dj"
      }
    },
    {
      "cell_type": "code",
      "source": [
        "block_size = 8\n",
        "train_data[ : block_size + 1]"
      ],
      "metadata": {
        "colab": {
          "base_uri": "https://localhost:8080/"
        },
        "id": "nAjMVpbjLADG",
        "outputId": "95aaf4a7-5487-4e68-8324-e2d8b1136547"
      },
      "execution_count": 14,
      "outputs": [
        {
          "output_type": "execute_result",
          "data": {
            "text/plain": [
              "tensor([18, 47, 56, 57, 58,  1, 15, 47, 58])"
            ]
          },
          "metadata": {},
          "execution_count": 14
        }
      ]
    },
    {
      "cell_type": "markdown",
      "source": [
        "This is how the training works: predicting the next word"
      ],
      "metadata": {
        "id": "nPJbzFXNLco2"
      }
    },
    {
      "cell_type": "code",
      "source": [
        "x = train_data[:block_size]\n",
        "y = train_data[1:block_size+1]\n",
        "for t in range(block_size):\n",
        "    context = x[:t+1]\n",
        "    target = y[t]\n",
        "    print(f\"when input is {context} the target: {target}\")"
      ],
      "metadata": {
        "colab": {
          "base_uri": "https://localhost:8080/"
        },
        "id": "05DKuFBELcDB",
        "outputId": "3313211f-621e-4f4f-bcea-ef513a9535ba"
      },
      "execution_count": 15,
      "outputs": [
        {
          "output_type": "stream",
          "name": "stdout",
          "text": [
            "when input is tensor([18]) the target: 47\n",
            "when input is tensor([18, 47]) the target: 56\n",
            "when input is tensor([18, 47, 56]) the target: 57\n",
            "when input is tensor([18, 47, 56, 57]) the target: 58\n",
            "when input is tensor([18, 47, 56, 57, 58]) the target: 1\n",
            "when input is tensor([18, 47, 56, 57, 58,  1]) the target: 15\n",
            "when input is tensor([18, 47, 56, 57, 58,  1, 15]) the target: 47\n",
            "when input is tensor([18, 47, 56, 57, 58,  1, 15, 47]) the target: 58\n"
          ]
        }
      ]
    },
    {
      "cell_type": "markdown",
      "source": [
        "This will make the transformer to be able to predict the context length of 1 ~ `block_size`, and more than the maximum length, the text will be truncated"
      ],
      "metadata": {
        "id": "6hcdCZWpMD2j"
      }
    },
    {
      "cell_type": "markdown",
      "source": [
        "#### Batch Size"
      ],
      "metadata": {
        "id": "RgZpQQXUMwOy"
      }
    },
    {
      "cell_type": "markdown",
      "source": [
        "Every time we train the transformer, we will train the transfromer using batches with multiple chunks of data, and they are stacked up in a single tensor."
      ],
      "metadata": {
        "id": "LDpCmNY1Mouc"
      }
    },
    {
      "cell_type": "markdown",
      "source": [
        "This is because GPUs' parallel processing can boost efficiency."
      ],
      "metadata": {
        "id": "GQxcAjmENz5g"
      }
    },
    {
      "cell_type": "markdown",
      "source": [
        "The chunks in a batch are processed individually and do not correlate with one another."
      ],
      "metadata": {
        "id": "CcMbe2c4N0UL"
      }
    },
    {
      "cell_type": "code",
      "source": [
        "torch.manual_seed(1337)\n",
        "batch_size = 4 # how many independent sequences will we process in parallel?\n",
        "block_size = 8 # what is the maximum context length for predictions?\n",
        "\n",
        "def get_batch(split):\n",
        "    # generate a small batch of data of inputs x and targets y\n",
        "    data = train_data if split == 'train' else val_data\n",
        "    ix = torch.randint(len(data) - block_size, (batch_size,))\n",
        "    x = torch.stack([data[i:i+block_size] for i in ix])\n",
        "    y = torch.stack([data[i+1:i+block_size+1] for i in ix])\n",
        "    # stack up the one dimensional tensors, shape is batch_size * block_size\n",
        "    return x, y\n",
        "\n",
        "xb, yb = get_batch('train')\n",
        "print('inputs:')\n",
        "print(xb.shape)\n",
        "print(xb)\n",
        "print('targets:')\n",
        "print(yb.shape)\n",
        "print(yb)\n",
        "\n",
        "print('----')\n",
        "\n",
        "for b in range(batch_size): # batch dimension\n",
        "    for t in range(block_size): # time dimension\n",
        "        context = xb[b, :t+1]\n",
        "        target = yb[b,t]\n",
        "        print(f\"when input is {context.tolist()} the target: {target}\")"
      ],
      "metadata": {
        "colab": {
          "base_uri": "https://localhost:8080/"
        },
        "id": "iJAgkCE5MNt3",
        "outputId": "abd65de1-90b4-40a0-f2c8-053fa7561f24"
      },
      "execution_count": 16,
      "outputs": [
        {
          "output_type": "stream",
          "name": "stdout",
          "text": [
            "inputs:\n",
            "torch.Size([4, 8])\n",
            "tensor([[24, 43, 58,  5, 57,  1, 46, 43],\n",
            "        [44, 53, 56,  1, 58, 46, 39, 58],\n",
            "        [52, 58,  1, 58, 46, 39, 58,  1],\n",
            "        [25, 17, 27, 10,  0, 21,  1, 54]])\n",
            "targets:\n",
            "torch.Size([4, 8])\n",
            "tensor([[43, 58,  5, 57,  1, 46, 43, 39],\n",
            "        [53, 56,  1, 58, 46, 39, 58,  1],\n",
            "        [58,  1, 58, 46, 39, 58,  1, 46],\n",
            "        [17, 27, 10,  0, 21,  1, 54, 39]])\n",
            "----\n",
            "when input is [24] the target: 43\n",
            "when input is [24, 43] the target: 58\n",
            "when input is [24, 43, 58] the target: 5\n",
            "when input is [24, 43, 58, 5] the target: 57\n",
            "when input is [24, 43, 58, 5, 57] the target: 1\n",
            "when input is [24, 43, 58, 5, 57, 1] the target: 46\n",
            "when input is [24, 43, 58, 5, 57, 1, 46] the target: 43\n",
            "when input is [24, 43, 58, 5, 57, 1, 46, 43] the target: 39\n",
            "when input is [44] the target: 53\n",
            "when input is [44, 53] the target: 56\n",
            "when input is [44, 53, 56] the target: 1\n",
            "when input is [44, 53, 56, 1] the target: 58\n",
            "when input is [44, 53, 56, 1, 58] the target: 46\n",
            "when input is [44, 53, 56, 1, 58, 46] the target: 39\n",
            "when input is [44, 53, 56, 1, 58, 46, 39] the target: 58\n",
            "when input is [44, 53, 56, 1, 58, 46, 39, 58] the target: 1\n",
            "when input is [52] the target: 58\n",
            "when input is [52, 58] the target: 1\n",
            "when input is [52, 58, 1] the target: 58\n",
            "when input is [52, 58, 1, 58] the target: 46\n",
            "when input is [52, 58, 1, 58, 46] the target: 39\n",
            "when input is [52, 58, 1, 58, 46, 39] the target: 58\n",
            "when input is [52, 58, 1, 58, 46, 39, 58] the target: 1\n",
            "when input is [52, 58, 1, 58, 46, 39, 58, 1] the target: 46\n",
            "when input is [25] the target: 17\n",
            "when input is [25, 17] the target: 27\n",
            "when input is [25, 17, 27] the target: 10\n",
            "when input is [25, 17, 27, 10] the target: 0\n",
            "when input is [25, 17, 27, 10, 0] the target: 21\n",
            "when input is [25, 17, 27, 10, 0, 21] the target: 1\n",
            "when input is [25, 17, 27, 10, 0, 21, 1] the target: 54\n",
            "when input is [25, 17, 27, 10, 0, 21, 1, 54] the target: 39\n"
          ]
        }
      ]
    },
    {
      "cell_type": "markdown",
      "source": [
        "#### Simplest Language Model: Bigram"
      ],
      "metadata": {
        "id": "pFzoYzmc1RFt"
      }
    },
    {
      "cell_type": "code",
      "source": [
        "import torch\n",
        "import torch.nn as nn\n",
        "from torch.nn import functional as F\n",
        "torch.manual_seed(1337)"
      ],
      "metadata": {
        "colab": {
          "base_uri": "https://localhost:8080/"
        },
        "id": "EhZzOMfTCSE4",
        "outputId": "8576efd7-360d-424d-b739-c5a160593451"
      },
      "execution_count": 17,
      "outputs": [
        {
          "output_type": "execute_result",
          "data": {
            "text/plain": [
              "<torch._C.Generator at 0x7caf90bba730>"
            ]
          },
          "metadata": {},
          "execution_count": 17
        }
      ]
    },
    {
      "cell_type": "code",
      "source": [
        "class BigramLanguageModel(nn.Module):\n",
        "  def __init__(self, vocab_size) -> None:\n",
        "     super().__init__()\n",
        "     self.token_embedding_table = nn.Embedding(vocab_size, vocab_size)  # for every token, in this case char, will have a row of vocab_size to represent its embedding vector\n",
        "\n",
        "  def forward(self, idx, targets=None):\n",
        "    # Target is none because that when we generate we don't have a target\n",
        "\n",
        "    logits = self.token_embedding_table(idx)  # (Batch, Time, Channel) -> (4 * 8 * 65)\n",
        "\n",
        "    if targets is None:\n",
        "      loss = None\n",
        "    else:\n",
        "    # loss = F.cross_entropy(logits, targets)\n",
        "    # This is what we want but we cannot achieve this since pytorch treats the input as (B, C, T) which is not a very good representation of the data\n",
        "    # Thus reshape\n",
        "      B, T, C = logits.shape\n",
        "      logits = logits.view(B*T, C)\n",
        "      targets = targets.view(B*T)\n",
        "      loss = F.cross_entropy(logits, targets)\n",
        "\n",
        "    return logits, loss\n",
        "\n",
        "  def generate(self, idx, max_new_tokens):\n",
        "    # idx: (B, T) the current context\n",
        "    for _ in range(max_new_tokens):\n",
        "      logits, loss = self(idx)\n",
        "      # only care about the last time step since this is a bigram model\n",
        "      logits = logits[:, -1, :]  # B, C\n",
        "      probs = F.softmax(logits, dim=-1)  # B, C\n",
        "      idx_next = torch.multinomial(probs, num_samples=1)  # B, 1, which means that for every batch get the next token\n",
        "      # Again, batch means that we have batch_size number of random start points\n",
        "      idx = torch.cat((idx, idx_next), dim=1)  # B, T+1\n",
        "    return idx\n",
        "\n",
        "\n",
        "m = BigramLanguageModel(vocab_size)\n",
        "out, loss = m(xb, yb)\n",
        "print(out.shape)\n",
        "print(loss)"
      ],
      "metadata": {
        "colab": {
          "base_uri": "https://localhost:8080/"
        },
        "id": "IL62cETS1Qx6",
        "outputId": "bcf43570-1372-4715-aa07-eca9e51a7f9a"
      },
      "execution_count": 18,
      "outputs": [
        {
          "output_type": "stream",
          "name": "stdout",
          "text": [
            "torch.Size([32, 65])\n",
            "tensor(4.8786, grad_fn=<NllLossBackward0>)\n"
          ]
        }
      ]
    },
    {
      "cell_type": "markdown",
      "source": [
        "- -log(1 / 65) = 4.17, so we are actually higher than expected"
      ],
      "metadata": {
        "id": "3n1rHso0F9Li"
      }
    },
    {
      "cell_type": "markdown",
      "source": [
        "Generate from the model"
      ],
      "metadata": {
        "id": "Q7SI1Rr1O2n_"
      }
    },
    {
      "cell_type": "code",
      "source": [
        "idx = torch.zeros((1, 1), dtype=torch.long)\n",
        "print(decode(m.generate(idx, max_new_tokens=100)[0].tolist()))  # [0] because its [[]] shape"
      ],
      "metadata": {
        "colab": {
          "base_uri": "https://localhost:8080/"
        },
        "id": "kChvzFuZO1_P",
        "outputId": "bd9f011a-a43e-41da-f220-949dbb4eeca2"
      },
      "execution_count": 19,
      "outputs": [
        {
          "output_type": "stream",
          "name": "stdout",
          "text": [
            "\n",
            "Sr?qP-QWktXoL&jLDJgOLVz'RIoDqHdhsV&vLLxatjscMpwLERSPyao.qfzs$Ys$zF-w,;eEkzxjgCKFChs!iWW.ObzDnxA Ms$3\n"
          ]
        }
      ]
    },
    {
      "cell_type": "markdown",
      "source": [
        "#### Train the Bigram Model"
      ],
      "metadata": {
        "id": "AAZTd1hxPtVJ"
      }
    },
    {
      "cell_type": "markdown",
      "source": [
        "Create an AdamW optimizer"
      ],
      "metadata": {
        "id": "SkKrB4MoQG5i"
      }
    },
    {
      "cell_type": "code",
      "source": [
        "optimizer = torch.optim.AdamW(m.parameters(), lr=1e-3)  # Usually 1e-4, but for small network can be larger"
      ],
      "metadata": {
        "id": "omDr1IIjDAy6"
      },
      "execution_count": 20,
      "outputs": []
    },
    {
      "cell_type": "markdown",
      "source": [
        "Use a bigger Batch Size"
      ],
      "metadata": {
        "id": "BjZ0xbPNQ5MZ"
      }
    },
    {
      "cell_type": "code",
      "source": [
        "batch_size = 32"
      ],
      "metadata": {
        "id": "4UfCCIGJQmtm"
      },
      "execution_count": 21,
      "outputs": []
    },
    {
      "cell_type": "code",
      "source": [
        "for steps in range(10000):\n",
        "  # sample a batch of data\n",
        "  xb, yb = get_batch('train')\n",
        "\n",
        "  # evaluate loss\n",
        "  logits, loss = m(xb, yb)\n",
        "  optimizer.zero_grad(set_to_none=True)\n",
        "  loss.backward()\n",
        "  optimizer.step()\n",
        "\n",
        "print(loss.item())"
      ],
      "metadata": {
        "colab": {
          "base_uri": "https://localhost:8080/"
        },
        "id": "T-KcN7C3Q7tk",
        "outputId": "a46fbbf1-7e7c-4873-d833-f3087da8dc1c"
      },
      "execution_count": 22,
      "outputs": [
        {
          "output_type": "stream",
          "name": "stdout",
          "text": [
            "2.5727508068084717\n"
          ]
        }
      ]
    },
    {
      "cell_type": "markdown",
      "source": [
        "Generate to see how we doin'"
      ],
      "metadata": {
        "id": "OxC-bAwRSVcg"
      }
    },
    {
      "cell_type": "code",
      "source": [
        "idx = torch.zeros((1, 1), dtype=torch.long)\n",
        "print(decode(m.generate(idx, max_new_tokens=300)[0].tolist()))  # [0] because its [[]] shape"
      ],
      "metadata": {
        "colab": {
          "base_uri": "https://localhost:8080/"
        },
        "id": "qgcO21ciRKYE",
        "outputId": "dd07a0fe-7520-4a3f-e0fc-f43c23d2ddf0"
      },
      "execution_count": 23,
      "outputs": [
        {
          "output_type": "stream",
          "name": "stdout",
          "text": [
            "\n",
            "Iyoteng h hasbe pave pirance\n",
            "Rie hicomyonthar's\n",
            "Plinseard ith henoure wounonthioneir thondy, y heltieiengerofo'dsssit ey\n",
            "KIN d pe wither vouprrouthercc.\n",
            "hathe; d!\n",
            "My hind tt hinig t ouchos tes; st yo hind wotte grotonear 'so it t jod weancotha:\n",
            "h hay.JUCle n prids, r loncave w hollular s O:\n",
            "HIs; ht \n"
          ]
        }
      ]
    },
    {
      "cell_type": "markdown",
      "source": [
        "#### Self Attention Version 1: for loop"
      ],
      "metadata": {
        "id": "ImkIpc1eLmB0"
      }
    },
    {
      "cell_type": "markdown",
      "source": [
        "Example:"
      ],
      "metadata": {
        "id": "CDKOXsghMzWC"
      }
    },
    {
      "cell_type": "code",
      "source": [
        "torch.manual_seed(1337)\n",
        "B, T, C = 4, 8, 2 # batch, time, channels\n",
        "x = torch.randn(B, T, C)\n",
        "x.shape"
      ],
      "metadata": {
        "colab": {
          "base_uri": "https://localhost:8080/"
        },
        "id": "STkC-DkYSYoY",
        "outputId": "39905ae9-f15e-43c1-e734-52b30b62a102"
      },
      "execution_count": 24,
      "outputs": [
        {
          "output_type": "execute_result",
          "data": {
            "text/plain": [
              "torch.Size([4, 8, 2])"
            ]
          },
          "metadata": {},
          "execution_count": 24
        }
      ]
    },
    {
      "cell_type": "markdown",
      "source": [
        "For each token as the target, we cannot let it talk to future tokens, and it can only be paired with the previous tokens. Now, since we are pairing things up, we can average up the previous tokens and pair it with the target token"
      ],
      "metadata": {
        "id": "ogZtYE5FNdUK"
      }
    },
    {
      "cell_type": "markdown",
      "source": [
        "But this is pretty lossy\n",
        "- This is not a strong relation\n",
        "- This also loses information about the position"
      ],
      "metadata": {
        "id": "8FO3_ygIOY9m"
      }
    },
    {
      "cell_type": "code",
      "source": [
        "# We want x[b, t] = mean {i <= t} x[b, i]\n",
        "xbow = torch.zeros((B, T, C))  # BOW is short for bag of words, which is a term used to describe averaging up words\n",
        "for b in range(B):\n",
        "  for t in range(T):\n",
        "    xprev = x[b, : t + 1]  # (t, C) since we have chosen the batch to be b\n",
        "    xbow[b, t] = torch.mean(xprev, 0)"
      ],
      "metadata": {
        "id": "MMqzmRuyM72S"
      },
      "execution_count": 25,
      "outputs": []
    },
    {
      "cell_type": "code",
      "source": [
        "x[0]"
      ],
      "metadata": {
        "colab": {
          "base_uri": "https://localhost:8080/"
        },
        "id": "qj4Cs3lJPiua",
        "outputId": "79f2f499-aa92-490e-9a3e-7d6637a7f388"
      },
      "execution_count": 26,
      "outputs": [
        {
          "output_type": "execute_result",
          "data": {
            "text/plain": [
              "tensor([[ 0.1808, -0.0700],\n",
              "        [-0.3596, -0.9152],\n",
              "        [ 0.6258,  0.0255],\n",
              "        [ 0.9545,  0.0643],\n",
              "        [ 0.3612,  1.1679],\n",
              "        [-1.3499, -0.5102],\n",
              "        [ 0.2360, -0.2398],\n",
              "        [-0.9211,  1.5433]])"
            ]
          },
          "metadata": {},
          "execution_count": 26
        }
      ]
    },
    {
      "cell_type": "code",
      "source": [
        "xbow[0]"
      ],
      "metadata": {
        "colab": {
          "base_uri": "https://localhost:8080/"
        },
        "id": "wRSwjZfXP2wk",
        "outputId": "c8ddfe47-82fe-44cc-83f3-29f1dd4ec68b"
      },
      "execution_count": 27,
      "outputs": [
        {
          "output_type": "execute_result",
          "data": {
            "text/plain": [
              "tensor([[ 0.1808, -0.0700],\n",
              "        [-0.0894, -0.4926],\n",
              "        [ 0.1490, -0.3199],\n",
              "        [ 0.3504, -0.2238],\n",
              "        [ 0.3525,  0.0545],\n",
              "        [ 0.0688, -0.0396],\n",
              "        [ 0.0927, -0.0682],\n",
              "        [-0.0341,  0.1332]])"
            ]
          },
          "metadata": {},
          "execution_count": 27
        }
      ]
    },
    {
      "cell_type": "markdown",
      "source": [
        "However, this implementation still uses a loop, which is not efficient enough"
      ],
      "metadata": {
        "id": "G7ksAxGQP5sX"
      }
    },
    {
      "cell_type": "markdown",
      "source": [
        "#### Self Attention Version 2: matrix multiplication"
      ],
      "metadata": {
        "id": "ITZgwP9vU3RG"
      }
    },
    {
      "cell_type": "markdown",
      "source": [
        "Example of matrix multiplication"
      ],
      "metadata": {
        "id": "5Xu24U9yQIGa"
      }
    },
    {
      "cell_type": "code",
      "source": [
        "torch.manual_seed(42)\n",
        "a = torch.ones(3, 3)\n",
        "b = torch.randint(0, 10, (3, 2)).float()\n",
        "c = a @ b\n",
        "print(a)\n",
        "print(b)\n",
        "print(c)"
      ],
      "metadata": {
        "colab": {
          "base_uri": "https://localhost:8080/"
        },
        "id": "iWZI4fzbP33u",
        "outputId": "49b847d8-afa4-4010-a92d-bb4745f7cceb"
      },
      "execution_count": 28,
      "outputs": [
        {
          "output_type": "stream",
          "name": "stdout",
          "text": [
            "tensor([[1., 1., 1.],\n",
            "        [1., 1., 1.],\n",
            "        [1., 1., 1.]])\n",
            "tensor([[2., 7.],\n",
            "        [6., 4.],\n",
            "        [6., 5.]])\n",
            "tensor([[14., 16.],\n",
            "        [14., 16.],\n",
            "        [14., 16.]])\n"
          ]
        }
      ]
    },
    {
      "cell_type": "markdown",
      "source": [
        "`torch.tril` returns the lower triangular matrix"
      ],
      "metadata": {
        "id": "hxR8sYMVRUUa"
      }
    },
    {
      "cell_type": "code",
      "source": [
        "torch.tril(torch.ones(3, 3))"
      ],
      "metadata": {
        "colab": {
          "base_uri": "https://localhost:8080/"
        },
        "id": "-_LTFK8zQcZg",
        "outputId": "0afc30e7-4756-4b6a-fd86-01bb8eb294e4"
      },
      "execution_count": 29,
      "outputs": [
        {
          "output_type": "execute_result",
          "data": {
            "text/plain": [
              "tensor([[1., 0., 0.],\n",
              "        [1., 1., 0.],\n",
              "        [1., 1., 1.]])"
            ]
          },
          "metadata": {},
          "execution_count": 29
        }
      ]
    },
    {
      "cell_type": "markdown",
      "source": [
        "Now we can also normalize the torch.tril ones thus to get an average of this\n",
        "- Remember to set keepdim = True! So that we divide correctly"
      ],
      "metadata": {
        "id": "ahpOYQAlTVLO"
      }
    },
    {
      "cell_type": "code",
      "source": [
        "torch.manual_seed(42)\n",
        "a = torch.tril(torch.ones(3, 3))\n",
        "a = a / torch.sum(a, 1, keepdim=True)\n",
        "b = torch.randint(0, 10, (3, 2)).float()\n",
        "c = a @ b\n",
        "print(a)\n",
        "print(b)\n",
        "print(c)"
      ],
      "metadata": {
        "colab": {
          "base_uri": "https://localhost:8080/"
        },
        "id": "n9BwMfe5StdA",
        "outputId": "fdb3bf0d-3b1c-412b-9b90-d5d730b3fd3c"
      },
      "execution_count": 30,
      "outputs": [
        {
          "output_type": "stream",
          "name": "stdout",
          "text": [
            "tensor([[1.0000, 0.0000, 0.0000],\n",
            "        [0.5000, 0.5000, 0.0000],\n",
            "        [0.3333, 0.3333, 0.3333]])\n",
            "tensor([[2., 7.],\n",
            "        [6., 4.],\n",
            "        [6., 5.]])\n",
            "tensor([[2.0000, 7.0000],\n",
            "        [4.0000, 5.5000],\n",
            "        [4.6667, 5.3333]])\n"
          ]
        }
      ]
    },
    {
      "cell_type": "markdown",
      "source": [
        "Matrix self attention:"
      ],
      "metadata": {
        "id": "wF4VLSLgVA9y"
      }
    },
    {
      "cell_type": "code",
      "source": [
        "torch.manual_seed(1337)\n",
        "B, T, C = 4, 8, 2 # batch, time, channels\n",
        "x = torch.randn(B, T, C)\n",
        "x.shape"
      ],
      "metadata": {
        "colab": {
          "base_uri": "https://localhost:8080/"
        },
        "id": "1o8TEX0DVydG",
        "outputId": "0ab66cad-8b18-4036-8602-4d2b17daeebd"
      },
      "execution_count": 31,
      "outputs": [
        {
          "output_type": "execute_result",
          "data": {
            "text/plain": [
              "torch.Size([4, 8, 2])"
            ]
          },
          "metadata": {},
          "execution_count": 31
        }
      ]
    },
    {
      "cell_type": "code",
      "source": [
        "weights = torch.tril(torch.ones(T, T))\n",
        "weights = weights / weights.sum(1, keepdim=True)\n",
        "weights"
      ],
      "metadata": {
        "colab": {
          "base_uri": "https://localhost:8080/"
        },
        "id": "ZOmvzbfiS05x",
        "outputId": "258e8df9-3600-4294-fd91-2033145307f1"
      },
      "execution_count": 32,
      "outputs": [
        {
          "output_type": "execute_result",
          "data": {
            "text/plain": [
              "tensor([[1.0000, 0.0000, 0.0000, 0.0000, 0.0000, 0.0000, 0.0000, 0.0000],\n",
              "        [0.5000, 0.5000, 0.0000, 0.0000, 0.0000, 0.0000, 0.0000, 0.0000],\n",
              "        [0.3333, 0.3333, 0.3333, 0.0000, 0.0000, 0.0000, 0.0000, 0.0000],\n",
              "        [0.2500, 0.2500, 0.2500, 0.2500, 0.0000, 0.0000, 0.0000, 0.0000],\n",
              "        [0.2000, 0.2000, 0.2000, 0.2000, 0.2000, 0.0000, 0.0000, 0.0000],\n",
              "        [0.1667, 0.1667, 0.1667, 0.1667, 0.1667, 0.1667, 0.0000, 0.0000],\n",
              "        [0.1429, 0.1429, 0.1429, 0.1429, 0.1429, 0.1429, 0.1429, 0.0000],\n",
              "        [0.1250, 0.1250, 0.1250, 0.1250, 0.1250, 0.1250, 0.1250, 0.1250]])"
            ]
          },
          "metadata": {},
          "execution_count": 32
        }
      ]
    },
    {
      "cell_type": "markdown",
      "source": [
        "Since weights is of shapa(T, T), torch will automatically make it (B, T, C) when doing matrix multiplication, therefore xbow2 is (B, T, C)"
      ],
      "metadata": {
        "id": "VvvjG7c-XWgy"
      }
    },
    {
      "cell_type": "code",
      "source": [
        "xbow2 = weights @ x  #(T, T) * (B, T, C)\n",
        "xbow2.shape"
      ],
      "metadata": {
        "colab": {
          "base_uri": "https://localhost:8080/"
        },
        "id": "V4ELN40HVn5z",
        "outputId": "253a852e-6925-4d43-fadf-1fc5c5e0c23e"
      },
      "execution_count": 33,
      "outputs": [
        {
          "output_type": "execute_result",
          "data": {
            "text/plain": [
              "torch.Size([4, 8, 2])"
            ]
          },
          "metadata": {},
          "execution_count": 33
        }
      ]
    },
    {
      "cell_type": "markdown",
      "source": [
        "#### Self Attention Version 3: adding softmax"
      ],
      "metadata": {
        "id": "ljTG6NMlZtZO"
      }
    },
    {
      "cell_type": "code",
      "source": [
        "torch.manual_seed(1337)\n",
        "B, T, C = 4, 8, 2 # batch, time, channels\n",
        "x = torch.randn(B, T, C)\n",
        "x.shape"
      ],
      "metadata": {
        "colab": {
          "base_uri": "https://localhost:8080/"
        },
        "id": "FQw_5h5tXFPe",
        "outputId": "5a163cf8-9bdb-431e-c2ba-f17ea24510b6"
      },
      "execution_count": 34,
      "outputs": [
        {
          "output_type": "execute_result",
          "data": {
            "text/plain": [
              "torch.Size([4, 8, 2])"
            ]
          },
          "metadata": {},
          "execution_count": 34
        }
      ]
    },
    {
      "cell_type": "code",
      "source": [
        "tril = torch.tril(torch.ones(T, T))\n",
        "weights = torch.zeros((T, T))  # sort of telling us the context window: How much past tokens can I look at\n",
        "weights = weights.masked_fill(tril == 0, float('-inf'))  # dont allow looking at tokens from the future\n",
        "print(weights)\n",
        "weights = F.softmax(weights, dim=-1)  # e ^ z / sum(e ^ z), and e^-inf == 0\n",
        "print(weights)"
      ],
      "metadata": {
        "colab": {
          "base_uri": "https://localhost:8080/"
        },
        "id": "U3cgsFRTZ_mT",
        "outputId": "f2b7207e-6f78-4fe0-e01d-52302bbcbe11"
      },
      "execution_count": 35,
      "outputs": [
        {
          "output_type": "stream",
          "name": "stdout",
          "text": [
            "tensor([[0., -inf, -inf, -inf, -inf, -inf, -inf, -inf],\n",
            "        [0., 0., -inf, -inf, -inf, -inf, -inf, -inf],\n",
            "        [0., 0., 0., -inf, -inf, -inf, -inf, -inf],\n",
            "        [0., 0., 0., 0., -inf, -inf, -inf, -inf],\n",
            "        [0., 0., 0., 0., 0., -inf, -inf, -inf],\n",
            "        [0., 0., 0., 0., 0., 0., -inf, -inf],\n",
            "        [0., 0., 0., 0., 0., 0., 0., -inf],\n",
            "        [0., 0., 0., 0., 0., 0., 0., 0.]])\n",
            "tensor([[1.0000, 0.0000, 0.0000, 0.0000, 0.0000, 0.0000, 0.0000, 0.0000],\n",
            "        [0.5000, 0.5000, 0.0000, 0.0000, 0.0000, 0.0000, 0.0000, 0.0000],\n",
            "        [0.3333, 0.3333, 0.3333, 0.0000, 0.0000, 0.0000, 0.0000, 0.0000],\n",
            "        [0.2500, 0.2500, 0.2500, 0.2500, 0.0000, 0.0000, 0.0000, 0.0000],\n",
            "        [0.2000, 0.2000, 0.2000, 0.2000, 0.2000, 0.0000, 0.0000, 0.0000],\n",
            "        [0.1667, 0.1667, 0.1667, 0.1667, 0.1667, 0.1667, 0.0000, 0.0000],\n",
            "        [0.1429, 0.1429, 0.1429, 0.1429, 0.1429, 0.1429, 0.1429, 0.0000],\n",
            "        [0.1250, 0.1250, 0.1250, 0.1250, 0.1250, 0.1250, 0.1250, 0.1250]])\n"
          ]
        }
      ]
    },
    {
      "cell_type": "markdown",
      "source": [
        "#### Most Important: Self Attention Version 4: Self Attention"
      ],
      "metadata": {
        "id": "tuw6P1SSlrED"
      }
    },
    {
      "cell_type": "markdown",
      "source": [
        "Making weights all zeros isn't what we really want and need, because some tokens may have higher affinity than others."
      ],
      "metadata": {
        "id": "-sPkhBhm-iw9"
      }
    },
    {
      "cell_type": "markdown",
      "source": [
        "Self attention: every single token at each position will emit two vectors: Query Q and Key K. Q: What am I looking for, K: What do I contain. We do dot product between keys and queries in order to get the Affinities between the tokens."
      ],
      "metadata": {
        "id": "cJEdVHt3-zfq"
      }
    },
    {
      "cell_type": "markdown",
      "source": [
        "My Q dot product with every other K will be the weights"
      ],
      "metadata": {
        "id": "AMNZrhYV_xYV"
      }
    },
    {
      "cell_type": "markdown",
      "source": [
        "Value V is like an information matrix of X"
      ],
      "metadata": {
        "id": "68Jru4uAGyY_"
      }
    },
    {
      "cell_type": "code",
      "source": [
        "torch.manual_seed(1337)\n",
        "B, T, C = 4, 8, 32 # batch, time, channels\n",
        "x = torch.randn(B, T, C)\n",
        "\n",
        "# implement a single head of self attention\n",
        "head_size = 16\n",
        "key = nn.Linear(C, head_size, bias=False)\n",
        "query = nn.Linear(C, head_size, bias=False)\n",
        "value = nn.Linear(C, head_size, bias=False)\n",
        "k = key(x)  # (B, T, 16)\n",
        "q = query(x)  # (B, T, 16)\n",
        "v = value(x)  # (B, T, 16)\n",
        "\n",
        "# Now do the dot product, but we cannot directly matrix multiply since the size and intuition is wrong\n",
        "weights = q @ k.transpose(-2, -1)  # (B, T, 16) * (B, 16, T)  --> (B, T, T), which is exactly (T, T) affinity\n",
        "\n",
        "\n",
        "tril = torch.tril(torch.ones(T, T))\n",
        "weights = weights.masked_fill(tril == 0, float('-inf'))\n",
        "weights = F.softmax(weights, dim=-1)\n",
        "\n",
        "out = weights @ v\n",
        "out.shape"
      ],
      "metadata": {
        "colab": {
          "base_uri": "https://localhost:8080/"
        },
        "id": "Raj7471AaaZT",
        "outputId": "bc0d7bde-7166-499d-d231-22c0c948a95d"
      },
      "execution_count": 39,
      "outputs": [
        {
          "output_type": "execute_result",
          "data": {
            "text/plain": [
              "torch.Size([4, 8, 16])"
            ]
          },
          "metadata": {},
          "execution_count": 39
        }
      ]
    },
    {
      "cell_type": "markdown",
      "source": [
        "We can see now weights instead of only being constants now it has different weights to different tokens"
      ],
      "metadata": {
        "id": "ZUv0iDPFFJb_"
      }
    },
    {
      "cell_type": "code",
      "source": [
        "weights"
      ],
      "metadata": {
        "colab": {
          "base_uri": "https://localhost:8080/"
        },
        "id": "1wx1VO3SBHsl",
        "outputId": "1aefc183-5e88-488b-856f-c7827264dc9e"
      },
      "execution_count": 40,
      "outputs": [
        {
          "output_type": "execute_result",
          "data": {
            "text/plain": [
              "tensor([[[1.0000, 0.0000, 0.0000, 0.0000, 0.0000, 0.0000, 0.0000, 0.0000],\n",
              "         [0.1574, 0.8426, 0.0000, 0.0000, 0.0000, 0.0000, 0.0000, 0.0000],\n",
              "         [0.2088, 0.1646, 0.6266, 0.0000, 0.0000, 0.0000, 0.0000, 0.0000],\n",
              "         [0.5792, 0.1187, 0.1889, 0.1131, 0.0000, 0.0000, 0.0000, 0.0000],\n",
              "         [0.0294, 0.1052, 0.0469, 0.0276, 0.7909, 0.0000, 0.0000, 0.0000],\n",
              "         [0.0176, 0.2689, 0.0215, 0.0089, 0.6812, 0.0019, 0.0000, 0.0000],\n",
              "         [0.1691, 0.4066, 0.0438, 0.0416, 0.1048, 0.2012, 0.0329, 0.0000],\n",
              "         [0.0210, 0.0843, 0.0555, 0.2297, 0.0573, 0.0709, 0.2423, 0.2391]],\n",
              "\n",
              "        [[1.0000, 0.0000, 0.0000, 0.0000, 0.0000, 0.0000, 0.0000, 0.0000],\n",
              "         [0.1687, 0.8313, 0.0000, 0.0000, 0.0000, 0.0000, 0.0000, 0.0000],\n",
              "         [0.2477, 0.0514, 0.7008, 0.0000, 0.0000, 0.0000, 0.0000, 0.0000],\n",
              "         [0.4410, 0.0957, 0.3747, 0.0887, 0.0000, 0.0000, 0.0000, 0.0000],\n",
              "         [0.0069, 0.0456, 0.0300, 0.7748, 0.1427, 0.0000, 0.0000, 0.0000],\n",
              "         [0.0660, 0.0892, 0.0413, 0.6316, 0.1649, 0.0069, 0.0000, 0.0000],\n",
              "         [0.0396, 0.2288, 0.0090, 0.2000, 0.2061, 0.1949, 0.1217, 0.0000],\n",
              "         [0.3650, 0.0474, 0.0767, 0.0293, 0.3084, 0.0784, 0.0455, 0.0493]],\n",
              "\n",
              "        [[1.0000, 0.0000, 0.0000, 0.0000, 0.0000, 0.0000, 0.0000, 0.0000],\n",
              "         [0.4820, 0.5180, 0.0000, 0.0000, 0.0000, 0.0000, 0.0000, 0.0000],\n",
              "         [0.1705, 0.4550, 0.3745, 0.0000, 0.0000, 0.0000, 0.0000, 0.0000],\n",
              "         [0.0074, 0.7444, 0.0477, 0.2005, 0.0000, 0.0000, 0.0000, 0.0000],\n",
              "         [0.8359, 0.0416, 0.0525, 0.0580, 0.0119, 0.0000, 0.0000, 0.0000],\n",
              "         [0.1195, 0.2061, 0.1019, 0.1153, 0.1814, 0.2758, 0.0000, 0.0000],\n",
              "         [0.0065, 0.0589, 0.0372, 0.3063, 0.1325, 0.3209, 0.1378, 0.0000],\n",
              "         [0.1416, 0.1519, 0.0384, 0.1643, 0.1207, 0.1254, 0.0169, 0.2408]],\n",
              "\n",
              "        [[1.0000, 0.0000, 0.0000, 0.0000, 0.0000, 0.0000, 0.0000, 0.0000],\n",
              "         [0.6369, 0.3631, 0.0000, 0.0000, 0.0000, 0.0000, 0.0000, 0.0000],\n",
              "         [0.2586, 0.7376, 0.0038, 0.0000, 0.0000, 0.0000, 0.0000, 0.0000],\n",
              "         [0.4692, 0.3440, 0.1237, 0.0631, 0.0000, 0.0000, 0.0000, 0.0000],\n",
              "         [0.1865, 0.4680, 0.0353, 0.1854, 0.1248, 0.0000, 0.0000, 0.0000],\n",
              "         [0.0828, 0.7479, 0.0017, 0.0735, 0.0712, 0.0228, 0.0000, 0.0000],\n",
              "         [0.0522, 0.0517, 0.0961, 0.0375, 0.1024, 0.5730, 0.0872, 0.0000],\n",
              "         [0.0306, 0.2728, 0.0333, 0.1409, 0.1414, 0.0582, 0.0825, 0.2402]]],\n",
              "       grad_fn=<SoftmaxBackward0>)"
            ]
          },
          "metadata": {},
          "execution_count": 40
        }
      ]
    },
    {
      "cell_type": "markdown",
      "source": [
        "#### Notes"
      ],
      "metadata": {
        "id": "AZwXzbGjHSDV"
      }
    },
    {
      "cell_type": "markdown",
      "source": [
        "##### Note 1: Attention as communication"
      ],
      "metadata": {
        "id": "H4A6vQbkHTUs"
      }
    },
    {
      "cell_type": "markdown",
      "source": [
        "Attention is like a directed graph and has T nodes.\n",
        "- First node is pointed by itself\n",
        "- Second node is pointed by the first node and itself\n",
        "- ...\n",
        "- Until the eighth node\n",
        "Each node has some vector information and it gets aggregated via a **weighted sum** from all the nodes that points to it"
      ],
      "metadata": {
        "id": "SEbenu-ZIGkA"
      }
    },
    {
      "cell_type": "markdown",
      "source": [
        "##### Note 2: Attention has no notion over space"
      ],
      "metadata": {
        "id": "3lzH_sLsJWBg"
      }
    },
    {
      "cell_type": "markdown",
      "source": [
        "Attention just acts on set, and they correlate with each other. If we need them to have a sense of position, we have to give a positional encoding"
      ],
      "metadata": {
        "id": "HcCsa8a2J4Ng"
      }
    },
    {
      "cell_type": "markdown",
      "source": [
        "##### Note 3: Examples don't communicate between batches"
      ],
      "metadata": {
        "id": "6E3PnV6_KHs7"
      }
    },
    {
      "cell_type": "markdown",
      "source": [
        "##### Note 4: Encoder Block vs Decoder Block"
      ],
      "metadata": {
        "id": "2KoLvtOeKeLS"
      }
    },
    {
      "cell_type": "markdown",
      "source": [
        "The encoder block of self attention need all tokens to talk to each other, thus dont need to mask"
      ],
      "metadata": {
        "id": "EYtpTX_nKsun"
      }
    },
    {
      "cell_type": "markdown",
      "source": [
        "##### Note 5: Attention, Self Attention, and Cross Attention"
      ],
      "metadata": {
        "id": "jsYFs6lJLWmn"
      }
    },
    {
      "cell_type": "markdown",
      "source": [
        "- Self Attention: Q, K, V are all coming from X, the same source. Self Attention is used when we have nodes that need to talk to each other.\n",
        "- Cross Attention: Q from X, K, V from external source, and we are producing queries while reading information from the side. And Cross Attention is used when we want to pull information from an external source into our nodes"
      ],
      "metadata": {
        "id": "755_O9bfLay3"
      }
    },
    {
      "cell_type": "markdown",
      "source": [
        "##### Note 6: Why divide by sqrt(head_size) like in the paper `softmax(QK^T/d_k)V`"
      ],
      "metadata": {
        "id": "kaMDqtFPMuiU"
      }
    },
    {
      "cell_type": "markdown",
      "source": [
        "If k and q are unit guassian, weights /= sqrt(head_size) will preserve the variance to be 1"
      ],
      "metadata": {
        "id": "snIuWod3NtzQ"
      }
    },
    {
      "cell_type": "code",
      "source": [
        "K = torch.randn(B, T, head_size)\n",
        "Q = torch.randn(B, T, head_size)\n",
        "wei = Q @ K.transpose(-2, -1) * head_size ** -0.5\n",
        "K.var(), Q.var(), wei.var()"
      ],
      "metadata": {
        "colab": {
          "base_uri": "https://localhost:8080/"
        },
        "id": "EI8YeRSsFEUT",
        "outputId": "938d2d5d-f949-45c9-9a59-73870a940613"
      },
      "execution_count": 41,
      "outputs": [
        {
          "output_type": "execute_result",
          "data": {
            "text/plain": [
              "(tensor(1.0449), tensor(1.0700), tensor(1.0918))"
            ]
          },
          "metadata": {},
          "execution_count": 41
        }
      ]
    },
    {
      "cell_type": "markdown",
      "source": [
        "Why do we need to preserve the variance?\n",
        "\n",
        "This is because weights is fed into softmax() function. If the input for a softmax function is diffuses too much, softmax will converge to a one hot vector"
      ],
      "metadata": {
        "id": "9h6IdIaHOYm5"
      }
    },
    {
      "cell_type": "code",
      "source": [
        "torch.softmax(torch.tensor([0.1, -0.2, 0.3, -0.2, 0.5]), dim=-1)"
      ],
      "metadata": {
        "colab": {
          "base_uri": "https://localhost:8080/"
        },
        "id": "QIi4IzeDOT4m",
        "outputId": "6754b38e-b7dd-405d-8331-186d8cab32f1"
      },
      "execution_count": 44,
      "outputs": [
        {
          "output_type": "execute_result",
          "data": {
            "text/plain": [
              "tensor([0.1925, 0.1426, 0.2351, 0.1426, 0.2872])"
            ]
          },
          "metadata": {},
          "execution_count": 44
        }
      ]
    },
    {
      "cell_type": "code",
      "source": [
        "torch.softmax(torch.tensor([0.1, -0.2, 0.3, -0.2, 0.5]) * 8, dim=-1)"
      ],
      "metadata": {
        "colab": {
          "base_uri": "https://localhost:8080/"
        },
        "id": "7-mqQmR5PQfG",
        "outputId": "3b69de68-6afb-402d-ee08-70179e8163d2"
      },
      "execution_count": 45,
      "outputs": [
        {
          "output_type": "execute_result",
          "data": {
            "text/plain": [
              "tensor([0.0326, 0.0030, 0.1615, 0.0030, 0.8000])"
            ]
          },
          "metadata": {},
          "execution_count": 45
        }
      ]
    },
    {
      "cell_type": "markdown",
      "source": [
        "When the things fed into softmax gets more negative and more positive, the result will sharpen towards the largest"
      ],
      "metadata": {
        "id": "fD7L4KVCPZHN"
      }
    },
    {
      "cell_type": "markdown",
      "source": [
        "Especially at initialization, this is not what we want for a node to only take information from another single node"
      ],
      "metadata": {
        "id": "YAZvogKyPo4U"
      }
    },
    {
      "cell_type": "markdown",
      "source": [
        "#### Multiheaded Self Attention"
      ],
      "metadata": {
        "id": "YVKEdepmf4fa"
      }
    },
    {
      "cell_type": "markdown",
      "source": [
        "Multiheaded Attention is applying attention in parallel and concatenating the result"
      ],
      "metadata": {
        "id": "xympw7jsf_I1"
      }
    },
    {
      "cell_type": "markdown",
      "source": [
        "#### Feedforward process"
      ],
      "metadata": {
        "id": "JI9LIfZ0lIcG"
      }
    },
    {
      "cell_type": "markdown",
      "source": [
        "The feedforward layer is essentially a MLP"
      ],
      "metadata": {
        "id": "onaU9Ph2lLL0"
      }
    },
    {
      "cell_type": "markdown",
      "source": [
        "#### Block"
      ],
      "metadata": {
        "id": "5zyS-J9GPYTg"
      }
    },
    {
      "cell_type": "markdown",
      "source": [
        "Attention and Feedforward process, since we are only implementing a decoder, becomes a block that is repeated"
      ],
      "metadata": {
        "id": "DWdeLc0NPblZ"
      }
    },
    {
      "cell_type": "markdown",
      "source": [
        "The Transformer block intersperses(穿插) the communication(Attention) with the computation(FeedForward)"
      ],
      "metadata": {
        "id": "AJ5vjXgCQFzL"
      }
    },
    {
      "cell_type": "markdown",
      "source": [
        "#### Residual Connections"
      ],
      "metadata": {
        "id": "RQRY1AiOUNu3"
      }
    },
    {
      "cell_type": "markdown",
      "source": [
        "However, as the deep Neural Network gets deeper since we create Blocks, we start to get into optimization issues like vanishing gradiens and exploding gradients.\n",
        "\n",
        "The depth of the network can also cause gradients to explode if the factors multiplied during backpropagation are greater than one, and the gradients can diminish exponentially if they are less than one, making it difficult for the weights in the earlier layers to update properly.\n"
      ],
      "metadata": {
        "id": "tIfoTZvMSxDM"
      }
    },
    {
      "cell_type": "markdown",
      "source": [
        "Notice that we have a \"Add and Norm\" Layer in the Attention and Transformer Paper, and that is a **skip connection**, or called **residual connection**"
      ],
      "metadata": {
        "id": "4q7xuZSSUJOP"
      }
    },
    {
      "cell_type": "markdown",
      "source": [
        "They come from [Deep Residual Learning for Image Recognition](https://arxiv.org/pdf/1512.03385)"
      ],
      "metadata": {
        "id": "DzRqCDVFUksc"
      }
    },
    {
      "cell_type": "markdown",
      "source": [
        "![Screenshot 2024-06-26 at 11.15.13 AM.png](data:image/png;base64,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)"
      ],
      "metadata": {
        "id": "_oUXo4G9U4XX"
      }
    },
    {
      "cell_type": "markdown",
      "source": [
        "This is called skip connection because we not only transform the data through F(x) but also have a skip connection with addition"
      ],
      "metadata": {
        "id": "sn3TUXq6VLvN"
      }
    },
    {
      "cell_type": "markdown",
      "source": [
        "After the input we can sort of fork off and perform operations on the input and add it back to in the end"
      ],
      "metadata": {
        "id": "MZ8Y4e-TX3Rp"
      }
    },
    {
      "cell_type": "markdown",
      "source": [
        "![Screenshot 2024-06-26 at 11.28.27 AM.png](data:image/png;base64,iVBORw0KGgoAAAANSUhEUgAAAXwAAAMgCAYAAAAgNNlvAAAMP2lDQ1BJQ0MgUHJvZmlsZQAASImVVwdYU8kWnltSIQQIICAl9CaISAkgJYQWQHoRbIQkQCgxBoKKHV1UcO0iAjZ0VUSxA2JH7CyKvS8WFJR1sWBX3qSArvvK9+b75s5//znznzPnztx7BwD6CZ5EkoNqApArzpfGhgQwxySnMEldgAjUAB2QAYPHz5Owo6MjACwD7d/LuxsAkbdXHeVa/+z/r0VLIMzjA4BEQ5wmyOPnQnwAALyKL5HmA0CU8xZT8iVyDCvQkcIAIV4oxxlKXCXHaUq8R2ETH8uBuAUAsjqPJ80AQOMy5JkF/AyoodELsbNYIBIDQGdC7JubO0kAcSrEttBGArFcn5X2g07G3zTTBjV5vIxBrJyLopADRXmSHN60/zMd/7vk5sgGfFjDqp4pDY2Vzxnm7Vb2pHA5Voe4R5wWGQWxNsQfRAKFPcQoNVMWmqC0R434eRyYM6AHsbOAFxgOsRHEweKcyAgVn5YuCuZCDFcIOlWUz42HWB/ihcK8oDiVzUbppFiVL7Q+Xcphq/hzPKnCr9zXA1l2Alul/zpTyFXpYxqFmfFJEFMhtiwQJUZCrAGxU152XLjKZlRhJidywEYqi5XHbwlxrFAcEqDUxwrSpcGxKvuS3LyB+WIbM0XcSBXel58ZH6rMD9bC5ynih3PBLgvF7IQBHWHemIiBuQiEgUHKuWNdQnFCnErngyQ/IFY5FqdKcqJV9ri5MCdEzptD7JpXEKcaiyfmwwWp1MfTJfnR8co48cIsXli0Mh58GYgAHBAImEAGaxqYBLKAqK2noQfeKXuCAQ9IQQYQAkcVMzAiSdEjhtc4UAj+hEgI8gbHBSh6haAA8l8HWeXVEaQregsUI7LBU4hzQTjIgfcyxSjxoLdE8AQyon9458HKh/HmwCrv//f8APudYUMmQsXIBjwy6QOWxCBiIDGUGEy0ww1xX9wbj4BXf1hdcBbuOTCP7/aEp4R2wiPCdUIH4fZEUZH0pyhHgw6oH6zKRdqPucCtoaYbHoD7QHWojOvhhsARd4V+2Lgf9OwGWY4qbnlWmD9p/20GPzwNlR3FmYJShlD8KbY/j9Sw13AbVJHn+sf8KGNNG8w3Z7DnZ/+cH7IvgG34z5bYQmw/dhY7iZ3HjmANgIkdxxqxVuyoHA+urieK1TXgLVYRTzbUEf3D38CTlWcyz7nWudv5i7IvXzhV/o4GnEmSaVJRRmY+kw2/CEImV8x3GsZ0cXZxBUD+fVG+vt7EKL4biF7rd27eHwD4HO/v7z/8nQs7DsBeD7j9D33nbFnw06EGwLlDfJm0QMnh8gsBviXocKcZABNgAWzhfFyAO/AG/iAIhIEoEA+SwQQYfSZc51IwBcwAc0ExKAXLwGpQATaAzWA72AX2gQZwBJwEZ8BFcBlcB3fh6ukEL0AveAc+IwhCQmgIAzFATBErxAFxQViILxKERCCxSDKSimQgYkSGzEDmIaXICqQC2YTUIHuRQ8hJ5DzSjtxGHiLdyGvkE4qh6qgOaoxao8NRFspGw9F4dDyagU5GC9H56BK0HK1Gd6L16En0Inod7UBfoH0YwNQwPcwMc8RYGAeLwlKwdEyKzcJKsDKsGqvDmuBzvop1YD3YR5yIM3Am7ghXcCiegPPxyfgsfDFegW/H6/EW/Cr+EO/FvxFoBCOCA8GLwCWMIWQQphCKCWWErYSDhNNwL3US3hGJRD2iDdED7sVkYhZxOnExcR1xN/EEsZ34mNhHIpEMSA4kH1IUiUfKJxWT1pJ2ko6TrpA6SR/IamRTsgs5mJxCFpOLyGXkHeRj5CvkZ+TPFE2KFcWLEkURUKZRllK2UJoolyidlM9ULaoN1YcaT82izqWWU+uop6n3qG/U1NTM1TzVYtREanPUytX2qJ1Te6j2UV1b3V6doz5OXaa+RH2b+gn12+pvaDSaNc2flkLLpy2h1dBO0R7QPmgwNJw0uBoCjdkalRr1Glc0XtIpdCs6mz6BXkgvo++nX6L3aFI0rTU5mjzNWZqVmoc0b2r2aTG0RmhFaeVqLdbaoXVeq0ubpG2tHaQt0J6vvVn7lPZjBsawYHAYfMY8xhbGaUanDlHHRoerk6VTqrNLp02nV1db11U3UXeqbqXuUd0OPUzPWo+rl6O3VG+f3g29T0OMh7CHCIcsGlI35MqQ9/pD9f31hfol+rv1r+t/MmAaBBlkGyw3aDC4b4gb2hvGGE4xXG942rBnqM5Q76H8oSVD9w29Y4Qa2RvFGk032mzUatRnbGIcYiwxXmt8yrjHRM/E3yTLZJXJMZNuU4apr6nIdJXpcdPnTF0mm5nDLGe2MHvNjMxCzWRmm8zazD6b25gnmBeZ7za/b0G1YFmkW6yyaLbotTS1HG05w7LW8o4VxYpllWm1xuqs1XtrG+sk6wXWDdZdNvo2XJtCm1qbe7Y0Wz/bybbVttfsiHYsu2y7dXaX7VF7N/tM+0r7Sw6og7uDyGGdQ/swwjDPYeJh1cNuOqo7sh0LHGsdHzrpOUU4FTk1OL0cbjk8Zfjy4WeHf3N2c85x3uJ8d4T2iLARRSOaRrx2sXfhu1S6XBtJGxk8cvbIxpGvXB1cha7rXW+5MdxGuy1wa3b76u7hLnWvc+/2sPRI9ajyuMnSYUWzFrPOeRI8Azxnex7x/Ojl7pXvtc/rL29H72zvHd5do2xGCUdtGfXYx9yH57PJp8OX6Zvqu9G3w8/Mj+dX7ffI38Jf4L/V/xnbjp3F3sl+GeAcIA04GPCe48WZyTkRiAWGBJYEtgVpByUEVQQ9CDYPzgiuDe4NcQuZHnIilBAaHro89CbXmMvn1nB7wzzCZoa1hKuHx4VXhD+KsI+QRjSNRkeHjV45+l6kVaQ4siEKRHGjVkbdj7aJnhx9OIYYEx1TGfM0dkTsjNizcYy4iXE74t7FB8Qvjb+bYJsgS2hOpCeOS6xJfJ8UmLQiqWPM8DEzx1xMNkwWJTemkFISU7am9I0NGrt6bOc4t3HF426Mtxk/dfz5CYYTciYcnUifyJu4P5WQmpS6I/ULL4pXzetL46ZVpfXyOfw1/BcCf8EqQbfQR7hC+CzdJ31FeleGT8bKjO5Mv8yyzB4RR1QhepUVmrUh6312VPa27P6cpJzdueTc1NxDYm1xtrhlksmkqZPaJQ6SYknHZK/Jqyf3SsOlW/OQvPF5jfk68Ee+VWYr+0X2sMC3oLLgw5TEKfunak0VT22dZj9t0bRnhcGFv03Hp/OnN88wmzF3xsOZ7JmbZiGz0mY1z7aYPX9255yQOdvnUudmz/29yLloRdHbeUnzmuYbz58z//EvIb/UFmsUS4tvLvBesGEhvlC0sG3RyEVrF30rEZRcKHUuLSv9spi/+MKvI34t/7V/SfqStqXuS9cvIy4TL7ux3G/59hVaKwpXPF45emX9KuaqklVvV09cfb7MtWzDGuoa2ZqO8ojyxrWWa5et/VKRWXG9MqByd5VR1aKq9+sE666s919ft8F4Q+mGTxtFG29tCtlUX21dXbaZuLlg89MtiVvO/sb6rWar4dbSrV+3ibd1bI/d3lLjUVOzw2jH0lq0VlbbvXPczsu7Anc11jnWbdqtt7t0D9gj2/N8b+reG/vC9zXvZ+2vO2B1oOog42BJPVI/rb63IbOhozG5sf1Q2KHmJu+mg4edDm87Ynak8qju0aXHqMfmH+s/Xni874TkRM/JjJOPmyc23z015tS1lpiWttPhp8+dCT5z6iz77PFzPueOnPc6f+gC60LDRfeL9a1urQd/d/v9YJt7W/0lj0uNlz0vN7WPaj92xe/KyauBV89c4167eD3yevuNhBu3bo672XFLcKvrds7tV3cK7ny+O+ce4V7Jfc37ZQ+MHlT/YffH7g73jqMPAx+2Pop7dPcx//GLJ3lPvnTOf0p7WvbM9FlNl0vXke7g7svPxz7vfCF58bmn+E+tP6te2r488Jf/X629Y3o7X0lf9b9e/Mbgzba3rm+b+6L7HrzLfff5fckHgw/bP7I+nv2U9OnZ5ylfSF/Kv9p9bfoW/u1ef25/v4Qn5Sl+BTBY0fR0AF5vA4CWDAADns+oY5XnP0VBlGdWBQL/CSvPiIriDkAd/H+P6YF/NzcB2LMFHr+gPn0cANE0AOI9ATpy5GAdOKspzpXyQoTngI2RX9Ny08C/Kcoz5w9x/9wCuaor+Ln9FyYrfEWz48fsAAAAimVYSWZNTQAqAAAACAAEARoABQAAAAEAAAA+ARsABQAAAAEAAABGASgAAwAAAAEAAgAAh2kABAAAAAEAAABOAAAAAAAAAJAAAAABAAAAkAAAAAEAA5KGAAcAAAASAAAAeKACAAQAAAABAAABfKADAAQAAAABAAADIAAAAABBU0NJSQAAAFNjcmVlbnNob3RkrICAAAAACXBIWXMAABYlAAAWJQFJUiTwAAAB1mlUWHRYTUw6Y29tLmFkb2JlLnhtcAAAAAAAPHg6eG1wbWV0YSB4bWxuczp4PSJhZG9iZTpuczptZXRhLyIgeDp4bXB0az0iWE1QIENvcmUgNi4wLjAiPgogICA8cmRmOlJERiB4bWxuczpyZGY9Imh0dHA6Ly93d3cudzMub3JnLzE5OTkvMDIvMjItcmRmLXN5bnRheC1ucyMiPgogICAgICA8cmRmOkRlc2NyaXB0aW9uIHJkZjphYm91dD0iIgogICAgICAgICAgICB4bWxuczpleGlmPSJodHRwOi8vbnMuYWRvYmUuY29tL2V4aWYvMS4wLyI+CiAgICAgICAgIDxleGlmOlBpeGVsWURpbWVuc2lvbj44MDA8L2V4aWY6UGl4ZWxZRGltZW5zaW9uPgogICAgICAgICA8ZXhpZjpQaXhlbFhEaW1lbnNpb24+MzgwPC9leGlmOlBpeGVsWERpbWVuc2lvbj4KICAgICAgICAgPGV4aWY6VXNlckNvbW1lbnQ+U2NyZWVuc2hvdDwvZXhpZjpVc2VyQ29tbWVudD4KICAgICAgPC9yZGY6RGVzY3JpcHRpb24+CiAgIDwvcmRmOlJERj4KPC94OnhtcG1ldGE+Cr8aoxEAAAAcaURPVAAAAAIAAAAAAAABkAAAACgAAAGQAAABkAAAtEnJJhxcAABAAElEQVR4Aey9+bcUxbbvm4tOEWxpBJROULFBdKu7OWfve99ffMYZ79zxxv1tn33u3We3dqjYgSigIK0gSC9vfmbkNysqK6sqq1urFjUTYkVkNDMiZmR+Y9aMGZFLD+wq4goOBAeCA8GBh54DSwH4D/0YRweDA8GB4IBzIAA/HoTgQHAgOLAgHAjAX5CBjm4GB4IDwYEA/HgGggPBgeDAgnAgAH9BBjq6GRwIDgQHAvDjGQgOBAeCAwvCgQD8BRno6GZwIDgQHAjAj2cgOBAcCA4sCAcC8BdkoKObwYHgQHAgAD+egeBAcCA4sCAcCMBfkIGObgYHggPBgQD8eAaCA8GB4MCCcCAAf0EGOroZHAgOBAcC8OMZCA4EB4IDC8KBAPwFGejoZnAgOBAcCMCPZyA4EBwIDiwIBwLwF2Sgo5vBgeBAcCAAP56B4EBwIDiwIBwIwF+QgY5uBgeCA8GBAPx4BoIDwYHgwIJwIAB/QQY6uhkcCA4EBwLw4xkIDgQHggMLwoEA/AUZ6OhmcCA4EBwIwI9nIDgQHAgOLAgHAvAXZKCjm8GB4EBwIAA/noHgQHAgOLAgHAjAX5CBjm4GB4IDwYEA/HgGggPBgeDAgnAgAH9BBjq6GRwIDgQHAvDjGQgOBAeCAwvCgQD8BRno6GZwIDgQHAjAj2cgOBAcCA4sCAcC8BdkoKObwYHgQHAgAD+egeBAcCA4sCAcCMBfkIGObgYHggPBgQD8eAaCA8GB4MCCcCAAf0EGOroZHAgOBAcC8OMZCA4EB4IDC8KBAPwFGejoZnAgOBAcCMCPZyA4EBwIDiwIBwLwF2Sgo5vBgeBAcCAAP56B4EBwIDiwIBwIwF+QgY5uBgeCA8GBAPx4BoIDwYHgwIJwIAB/QQY6uhkcCA4EBwLw4xkIDgQHggMLwoEA/AUZ6OhmcCA4EBwIwI9nIDgQHAgOLAgHAvAXZKCjm8GB4EBwIAA/noHgQHAgOLAgHAjAX5CBjm4GB4IDwYEA/HgGggPBgeDAgnAgAH9BBjq6GRwIDgQHAvDjGQgOBAeCAwvCgQD8BRno6GZwIDgQHAjAj2cgOBAcCA4sCAcC8BdkoKObwYHgQHAgAD+egeBAcCA4sCAcCMBfkIGObgYHggPBgQD8eAaCA8GB4MCCcCAAf0EGOroZHAgOBAcC8OMZCA4EB4IDC8KBAPwFGejoZnAgOBAcCMBfJc/AgwcPvKVLS0urpMXRzOBAcGDeOBCAv4wjItAet0rKC/DlD6KV15fnz+MHlV+JtLydK1F/1BkceJg5EIC/DKMLwMpNozpAUcAov4nuOMCel8nDTfRnEVfvj+7lz6LOoBkcWBQOBOBPcaQHAeT9+/eLX375ZaLaAD05CCncDwzVHvl55U1lyCdH3qZyg+JFv4m20tr4Kp/7hHXfhkbkCQ4EB3o5EIDfy5OxYwYB5L179wpAf9DVBtDIs2bNmgrsFa7TVVvk19O5h5bSc5+wXL2c8tXjm+7b9Eflcroqhy9HP3FxBQeCA+NzIAB/fN71lMxBK09Esgfw7969m0e3DtcBUOBHvABfeUQ0B+ymduX5lbfJh169fP1edeZ+Tj+PHxSGrsrh5+F169YVa9euHVQ80oIDwYEhHAjAH8KgtslS2QDuAkT50CB9mITfpi4BYe43lcvrFnCSj/hBaaKV51Gc/H5peT3KO4ovuqKDr8kNwMfFFRwIDozPgQD88XlXlQSokN5xAvY6eHGvuKrghAHRq9Pmvg6aVEUcE5ImJeXTrwTlUbNyGoob5qvMsHz19LwP0JBDqscJ8MelX68v7oMDi8iBAPwpjDpgdfv27eLOnTsO+Khv6gDWppomMINOfumeiYV6pCpSWOkCyg0bNhQ4AShtxJEfGnm+9evXV/fKX29T/T5vG+Fh6fX8uqfdTEQqj48T0NM2HJfyqGz4wYHgQDsOBOC349PAXAAVgI8T8EqSpqDAaxBQDUrLK5d0DmhT382bN4uff/65uHXrljulP/LIIwVu8+bNxWOPPVbp+smr/NAQkJJv06ZNfs8EIVVK3i5AOb/P29UvPs8zKAxtTVbkgx5tAPBpI23CJ37Suga1I9KCAw8zBwLwpzC6OeCj1pH0TDxXG5BqC2LQzOu7fv16gbt8+XJx5coVB30mgieeeKJ4/PHHi23bthVbtmxxwESav3r1qrtr164VN27cKDZu3OgTwtNPP1089dRTxaOPPuoThQA/B+Fp98WZU/5pAnx4ogmJySv/pZKXjXBwIDjQjgMB+O34NDAXACyJGx8nYKZgWzAfWEmZCF1UMYA6Uv1PP/3kAH7mzJkCB+gD5gD99u3bi7179xbPP/+8S++A5sWLF91duHDB8zIx4Hbs2OFlmABwtBnQVz/UB+IUbmrvoLSm/MPiAHmcAH9Y/cPoRXpwYJE5EIA/hdEHFAFggT0+oEw8VxsQrEvS/ZolAOaXBPUgpQP6J0+eLL7++msH/XPnzlWA/+KLLxYvvPBC8eSTTzroA/jnz58vLl26VPz4448u/fMLgMlh69atlYSv+tUP+iCwxe93telrm7LwA1o54AP6akM/GhEfHAgO9OdAAH5/3rROEeAD+gJiAWVbIsMAX+kCfHxJ+qh0jh8/Xnz11VfF559/7mFAHCn/tddeKwB9wByVDZI9oM8vAcoh2T/77LPFM8884w6ARY0CferUmgTqIMBWLu9XHeTr93neQeG8nPorwOdXRwD+IO5FWnBgOAcC8IfzaGiOHPCRumWeSXy/S4CWpzfF1dPJIwd9ABnVzunTp4tvv/22+Oyzz4ovvvjCrW0ASMB+//79Dv7o6fk1ANDTRsoD9kwG6PtZuGWRFHCnDiYU8uF0CfAHTQDKO4qfg31eToDP2gIuJPycOxEODozGgQD80fjVmLsO+IA+cbimqwnYm+LysgJ54vK8hAF9qWoAfKR8FmexxkF//9xzzzngI8UD4jjp6gF74qUjB3hx0FW/6E8u6QP2WkwlzCQx6RWAPykHo3xwYDgHAvCH82hoDgFjrsdvA/g5cA+txDKQPy+jMHUhtQPy6PGly//+++9db4/0jo4eFQ8mmjhAHhUPC7ZI9gA4wC3gVfu1OMxCMHUI7LXYq3JqS5t+NOVRvfW0kPDrHIn74MD4HAjAH593VcnlBHwqFbjKJw4pHHA+e/asL9wi5eNQ96CSQVefu127drk6R4AKcAPmXNDF0S/Z+UP3hx9+8ImBXwP18srvBMb4E4A/BtOiSHBgRA4E4I/IsHp2gSNgO2sJn7qpL/f9xv6gpkHtwmIs6p1PP/20OHbsmIM0FjlI97gDBw64Tn/37t0O2lLJSDcvepLwsQJCsmeN4LvvvnM9Or8QKI+qiAmDXwbig8qP6gfgj8qxyB8cGJ0DAfij86yrhCRbSdj4OAFmV+byph9oN+VtiutXnnj09izMAvaAPuodTDZR36DGef3114tDhw65fT6ADeDXwZZ7aDGJAPaoc7755hsHfXbjogLat2+fg36+yNvU1lHi6u2grH6BxKLtKJyMvMGBZg4E4DfzpXUswAi4Lyfg0zjqxdUvVDiAPiaaX375pZtoAvqAKeCJmebLL79cHDx40EGbONQ5oiXQpU8APrb6/Go4deqUS/jY8zN5aENX/ZdBvT2j3KvuvEwAfs6NCAcHJuNAAP5k/HOgnCfAR62E3h0TTaRyLeIipRP/0ksvOdgD/IRRz2hnrVihSQzARz2E7T7qHDZ0YdWDQ6Wzc+fOqZpJBuBrBMIPDsyGAwH4E/JV4JhL+LJxZyKQ5Fyvpl98PV9+n5chrHuAUhI5Khgcu2nlWGzFAd7Y4gPYkvSx3mGTFqodnOgC9vQJSx/AnrN6sAIC5LVZizUB6m4C6rzdbcNNdELCb8u9yBccGM6BAPzhPBqYA4CsS/izBnyBshoGULJgC0DrEDVAnwVXqXhQyeDIQ/lXX33VJXwWcVHPYHkj1Q7p9IFfCydOnPA1AOhQx549e1y6R62DemcWgE/9XNAOwNcohx8cmJwDAfgT8hBwygEfoARUicMJvCapRjSafNWDugaHvh1JnLzKTx6sbHBI+kwKbMhCLQPwo8/XTltJ2QA8EwZHNgD6xLNAu69crGXxFrfcgE99rBvEFRwIDozOgQD80XnWVQJQBVABeSTiWQG+wFs+jSBMfTh09DgsdFi0RS+vo44BaqlmAHD0+ljaIKUfOXLEQR+1jlQ7gCpgDz0Wf8kPLQCeYxqQ8vOduWII5aZ5QS+X8Klz0CIx/Jh2G6bZn6AVHFhpDgTgTzgCgMxyAj7NBdRUL+CO+gb9PPb2qF1I0/n2AD+gycIr0j2bsbDeYYLikmoHiR/9PMBOfiYOLHSYIFj8za1zMOfUDtscYPOwE5/wD/RGAfwJq4viwYGHngMB+BMOsYC3ScJn4XMaF3XguABBpFzutdEKFQ0Lq+yGRQrG8oaFVRZkkcoBccCbCQHA57wdqXY4OnmfqWlQ6yC9c2QCZVALQRcbflRB2rgF2DMxsMBLOwTy8qfRX9EIwBcnwg8OTIcDAfgT8nG5AJ9mUhcgiCOcm03y8RMAH118/kETwBspn18BgDgqGqR28iL1y+JGi7dI8qh7+MWAQxXE5CCgJ3/dOkdgL39CllbFoRcSfsWOCAQHJuZAAP6ELFwJwKfJ1IuEL1UNEj7AjCoHByijkxfgs6CLXh77fBx5AXQmCEAevTxqHUn4pCsPuvx99iuAPDpdk/pxugDnAHxxI/zgwHxyIAB/wnER4OscnXzRdhSVTg6e/ZqU52HdAPqoanCoXwBm1DmAPECOQ7pHzUP7cNjmM0logZc0nICc/OjnmUBwTBKU0y8ArQ2o32prAL44EX5wYH45EIA/4dgAvFq0RY8/DuDnQN6vOXkegS31yhxTdcuKBVUIwK3FVSYH2gaAs9BLfn4hKL8serQ+8I0t1PJLgDoAcx3FwK8BfgWoDXl7Q8LPuRHh4MD8cSAAf8IxmSbg56A+qFnKR92ANg5A516XgBwfICaNPAA9Dho40sijQ9CgRTp6fhZsWZxl0mBBlw1aAvy8LtU5bZ+2hQ5/2lwNeovMgQD8CUcf4MMJSCeR8AXkg5okkCYPgCjgVhnRkE/bCKud8gX0+HmYXwws8GpxF8BFzaMdtgJ80Ve9s/BpVwD+LDgbNBeVAwH4E468AHQY4OcACZDll9Lk52kKk4YTQMtXOr7KKy9xah8+8foloPI6QwefOFQ+2ODrSAUBPlY6fPQEdQ5WPFzkn/XF+gJtyFVO/CKJKzgQHBidAwH4o/Osq4QAdRDgC4hVsA6USpevfLkvwKas1DRNdERDvtrHPU7qH9FGlSNdP6AP2LOgi/4eU0/SAF1s7/ngOQvCOLVDdGblB+DPirNBdxE5EIA/4agLUJsAXyAt8FVVTUBNWj2f8iuNdMqqvPymfIrL20CYdqJ2UrsF9tphi0qHRV0seTDbJB0JW4elAcA4Jp3lkLQD8DWS4QcHJudAAP6EPBRwzhrwaWY+ITSBfT2P8uPTTtQ5Ms8E9JH2BfioadDVEydrHsCfdH4FALyEpQIKwJ/wwYniwYEV4EAA/oRMbwP4VCHwJdwE1nl6HiZ//RqWnudXXgE+0juO0zCZpAB5pHts9rHhV380IQDwgLt8wrRfLq+rqV95+jjhkPDH4VqUCQ40cyAAv5kvrWMFkP0kfAgBugJe7puAMU/Pw+SvX8PS6/m5Vzu14YrFWUBfG7SQ8HGiLT9vax3k8zTqqN8TN+kVgD8pB6N8cKDDgQD8Di/GCglIJwV8VS6g5T4PKz33h6XneWknKh0tygL4qGywuhHosxirqx94D4rvlyaa4/gB+ONwLcoEB5o5EIDfzJfWsasF8AF79PP6EhY+gC+wxw/Abz3skTE4sCo5EIA/4bBNG/DVnFx6z8NKH+Q35ZeED9DLocuXhI86ZxDgD5PeSR+WZ1Cb+6WFhN+PMxEfHBidAwH4o/Osq8RqAXwaTVtR6cgF4HcNZdwEBx56DgTgTzjEswJ8NSuX1vOw0pv8pnxI38Rr0RYfPT5HJUitM0jCb6onjwsJP+dGhIMD88mBAPwJx2U1AH4OxnwEBbDvB/jjqmXyOiZkaVfxUOl0sSNuggMTcSAAfyL2dcwdp2Wl0685udSeh/vlr8cLyAF8HGodJHx0+NLjI+ErX738sPsA/GEcivTgwMpzIAB/wjGYtYSv5uUgn4eVPsxnwxTlBPi5hB+AP4x7kR4ceDg4EIA/4TguF+CrmTnY52GlN/mSvgX4fCFLgM8ZOQH4TVyLuODAw8eBAPwJx3S1AT5gLz2+Fm21cKtF23HUOppUJmRnT/HQ4fewJCKCA2NzIAB/bNalgssN+GpuLt3nYaXnvsCYfAJ8QB/A1ymYWOpwlo7AXn5OZ1BYdQzKM05aAP44XIsywYFmDgTgN/OldexqBnw2YPFRckn48wb4TCLxxavWj2JkDA4M5UAA/lAWDc6wUoCvVuXSfR5WOr6k77qEj6UOgI+UP48SfgB+PooRDg5MzoEA/Al5GICfGKhJZUJ2dhUPwO9iR9wEBybmQAD+hCxcacCn+ZLs5de7JDCepoQPzfrVFFfPM8p9AP4o3Iq8wYHhHAjAH86jgTkC8DvsCcDv8CJCwYF55EAA/oSjMg+ATxdy6T4PkwYQ44jHOkeWOm10+INAfFAa9U56QT8WbSflYpQPDnQ4EIDf4cVYoQD8sdjWqlAAfis2RabgQGsOBOC3ZlVzxnkBfFonyV6+Wgxw4iThS8rvZ5ZJXq66L3rL5VN/SPjLxe2oZxE4EIA/4SivJsCnqwJ7fKl06nb4AK3AnjJ5mPvlugLwl4vTUc+icCAAf8KRXo2AL9BHws932uZHK9RBf0I2jVU8AH8stkWh4EBfDgTg92VNu4TVBPgAqMBeEn4AfrtxjlzBgYeBAwH4E47iSgN+XV9PdxQHwHPhczwyF0Av0EelkwM+37XlUjm/WcE/tCN0+Cs4AFH1Q8eBAPwJh3TeAR/QxK1du9Z7KrDXEcn5WToAPnmZHOiXJo4JWTR28QD8sVkXBYMDjRwIwG9kS/vIeQX8+/fvO2jLB8QBUKR6nM7D5wwdzsNHf8/haeRjcsBXGcpxyW/PnclyBuBPxr8oHRyocyAAv86REe/nFfBv375d8NnFW7duFYQBb66bN2+642hkwgL6jRs3FhxFvG7dOneEcYC/fh0E4I/4cET24MCccSAAf8IBWWnArzcfNQzu559/9vPuUd3g7t27V9y9e9cnASYAJgImhEcffdSBff369a4vZwLAodtH8td59PV6luM+JPzl4HLUsUgcCMCfcLTnFfBR2aCv//77791hgolUD+jLMQkA9Ej1SPH4W7duLbZt21bs2rWr2LFjh6t5kP5XQp8fgD/hwxnFgwM1DgTg1xgy6u28AT7tp03o6ZHsT5065e6HH34ozp8/X6l0AHvyCeixhgHY9+3bV+zdu7fYvXt38dxzz7m0H4A/6lMR+YMD88mBAPwJx2VeAR+JHin/m2++Kb7++uvi5MmT7l+5cqXAsZiLk84e9Q0WO4cPHy4OHTrkoP/888+7hI/aZyWukPBXgutR58PMgQD8CUe3LeBTjdQis1r8hG5dh3/69GmX8D///PPis88+K86ePeuOdpMXlQ7WOTt37nQ1DoD/yiuvVCqdXIev9k/IstbWPgH4k3I6ygcHujkQgN/Nj5HvBPhaEGUhFEc8EnR+CTCXA/BloYMqBz3+xx9/XBw9etQlfSYB2scFoLNAe/DgweKFF14oXnvtteLll18utmzZ4hK/fgGo7Xl/xg237X8A/rgcjnLBgWYOBOA386V17CiA35roBBkBZhyTDZMQ6ptLly4Vn3zyiQP+l19+WXzxxRdutUMe7PBZqJUq58UXX3TgJ56NWLLLp0nTAH1APAB/ggGOosGBCTgQgD8B8yg6b4BPewT6hLG1ZwEXdQ6g/+mnnzrwY7HDr4BnnnnG1TnvvPNO8cYbb7junsVa9PYs5GoD1oRsqooH4FesiEBwYNk5EIA/IcvnCfAF9LmPlI/N/YkTJ4rjx49Xqp2LFy/6oi7mlyzO/uY3vymOHDni4L99+/Zqw5UAuq1UPoydojcsH+nkjbN02nAq8gQH2nEgAL8dn/rmmlfAp8EAv1Q7LNaeOXPGpfuPPvrI9fqYae7fv7/YZ6aYv/71rx3wpbunLJcAOgDf2RF/ggOrmgMB+BMO3zwBPl0RUEvKp33Y3KPHv3Dhgqt2jh075pY63AP2e/bscbDHOgfzTPT36te0AD+fMPLwIPaTLyT8QRyKtODAaBwIwB+NXz25BYxtrHR6Cs8wIgd8pHz0+Oy8lWoH6x0mAW2yYrEWaR8TTTZaUQYXgD/DQQrSwYFl5kAA/oQMnyfAB5xzCV9tE+CzEUubsNDhY8GD/h6HSSaSvgBfZSWNyx+XXZo4RilPGSR8TEflpr2IPEp7Im9wYLVzIAB/whEUMK60hC9AFuCrXfiodHQOPjtvv/322+Ly5cu+aMuGKxzSPYCv0zNhi2iJRapD96P44wK+Nn4F4I/C7cgbHGjmQAB+M19axwpYVxrw8wbn6hxMLzHNRIVz7tw5B3tAnwmA4xc4IO3ZZ58tDhw4UOwzfT5mmhyxwBk7SNM56Afg51yOcHBg9XEgAH/CMZsnwM/BmW7RNkAdcOcsHfT3gD0OnT4TASdjAvgvvfSS77ZFvYPEjyqFYxe4oDsJ2EMjJHy4EFdwYGU5EIA/If/nDfAFzLQLVQ66eswvdZaOTs/kvHzOxUeixxSTA9M4XkGLt6h2WLzV1Qaw6xOOyuK3KZ/nV5lQ6dS5EvfBgfE5EIA/Pu+85DwBvroCuAL2ADrn5qCz11k63333ndvgywoHQMUUE8BHyme3LWF93Fw0Ue9oMlFc3Q/Ar3Mk7oMD88WBAPwJx2NeAb++w5aD09hwxQYsFmzVbn3pSoenvf32236uDufrIP3LKkZ+P3YB9sMAX2WHTRx5vpDwxY3wgwOTcyAAf0IeCjjnadEWQNViLQel6RwdAJ/FW8wzuQBofQCF83Ow0uGIhTfffLPgeAX0+5yWyaSw3IBPH3DaeBVWOhM+qFE8OGAcCMCf8DGYN8CX9CwJn/NzAH1J+Fjq8CUs2g3gC9Bljw/Yv/rqq76QC+ALaJkYcAJi+blUn4fVjpy9pKtcHk84z5/nC8CvcyrugwPjcyAAf3zeecl5BXx09OjwschhsxXS/QcffOD6e45UIB1gRXrnZEztuEW1s8/MM7HcAfBll69fAjnwI/UL5OWLnTmAKy4HcsXJz/Pn+ZoAv9+kIVrhBweCA80cCMBv5kvr2HkB/BwwaTztQspHZ88HUDgWGcciLo4TNEnn3Jwnn3yy2niFSSZgz0IuDgmfCUG/BJggcNznEr8YRjuYCLjyNuUTQh6fl1M4AF+cCD84MF0OBOBPyM95AnyAFLCUQ4rHBp9F2q+++qrg4ydY7CD1Y5+PHT6brFiclWQP+OMkyQPehCVpA/5aSCVO+agbJ12/7nOgH8Rq8usKwBcnwg8OTJcDAfgT8nOeAF9dEcjSNuzt+diJJH2OSMaxcAvoyw6fBVsWbnWWjmgwaUBHF5I9TqCve4BfUr984tpeOeCrDHGaaLSWwISiyUT5wg8OBAfacSAAvx2f+uaaF8BvaiCgjT0+qhvAnd21LNriODiNezZd4ThiAZ29VDb0C7DH2oe1AH4N4KCJA4iVF18TgABaaW3BOQC/aQQjLjgwXQ4E4E/Iz3kGfLqWtw/gZuctToenAfaS8tlsJRVNDvgy8QTwmUCYCLgAaalwJOEL8FH95Lp/5VU5J1D+YQIJwM85EuHgwGw4EIA/IV9zQAUY5QSYE5KfSnEAlYs2YZKJdI9Dv48OH6cPn0hlon4J4Jks1Dd+McgpnUlAkj+gzwfQUQ9JRaSJBGCvg3sA/lSGOYgEB4ZyIAB/KIsGZxAwAoACRPyVBnyBqsCeXhAG5AF9HCodpHoc1jqYYAqQyYtTPwB0HP0E5NVXwoojrPKS9OWj4iEsVQ8TgCYXlVGbxXHuVV4qo7yM8oUfHAgOtONAAH47PvXNNe+Ar4YD3gC2AB+wZ0FX5pcCfPIDtOTXRVhxmgByCV8TgOLwNUGInlQ8kvoF4LnkD5hzqb4c8DVZaKLI83mh+BMcCA4M5UAA/lAWDc4wr4BPqwFMLgAUBwgj2QP6LOLmgA/wI+E3XaKDT39FC3qaACTpS/WDnT9h4skHUGO9wwmcMu0E9CXx45MO6Oeu6ZcBtLg0MTS1OeKCA8GBXg4E4PfyZKSYeQb8vCO0E/AF7HFI+CzCYnOfS/l5mWFhAJcrnwBQ9QD0TCY4Ab8mB0n0gD1Okr98TQCaIJgEFKdJQYBfb5/aU4/P7zV55XERDg4sCgcC8Ccc6dUA+AAhjrZKwscOH0DWRit8FlrbXnXgzPkgFY+kfU0C+AA/Dike4BaYC/xR3WgyUDj3NRG0bWc9X73d9fS4nycOdNSK89Sq5rZ0Ng42p89HbAD+hOOQA50WMvGJB9jm6aJN0uFLysdCR6A/LuBrQpFPPZpgCDMB8GsCaZ9NYIQF/OKPgF/qHp3hg86fOKmCcsDPwTsPi2aT3zZfU9mIW04OrCawF1/mH/QD8DVWY/oAGo6FynkHfEBYFjqy0gHwsdKRWeaYbHCApyx1cAlYBfzwBokf0MdxD8+k4ycfDkDHyZxTi7zykfZx2s1LParLKx7yZ5S8Q0hF8kw5wHO0mkAfsA/An+kjMQ/EVxPgwy/Z4Avw2XQ1TcDXmKCyAVwF5AJ+Abx0+5ok9QuAdJwkfQE9vz5wSPqS9lH9aIEX+m2uNoAPrTb52tQXecblQAD+uJwbVC4k/EHcaZG2GgEfsNfRCm0AfxwABDAF+DkbBfwy4RTgS/qX3l9Anqt6mAQ0AUjlg6SPU32aaKizH2j3i6dMPnEMykfeuIZxoN0k3J/KpOX7U55+yjDpflj69FvURDEAv4krI8StNsAX2OOzcCvAH7RoOy7gN7FRICq+SaLHZxIA8HGaEMin+nNVjyyLtKArVZBUPdStuurhpnaNG5fXMS6Nh7PcpGA9afmV4OowUB+WPvs2B+BPyGMBFwAlaRWf+HlbtKWr4wD+hCzy4gBjDo6SpMU/8Us8FOCTT3khJGCXLj/3UfHonnyS9lW3/Gn0J6eR9yuPX+wwgL0aQXtWowbYB+DPirvLRleAtZoAX6CPLb4WbQdJ+NNgZhPY5kAuYGeSRNoXX+vlmBD0K4CwbPOl4kHlg45f8ZogoFOfAPr1K29Xvzz1+AD9OkcC8Ls5EoDfzY9VeidgCsAfPIB14G7KDdDCT4E/vlQ0AlQBPou8OOUF4CXdE86lfeIBftHS+oBo0haFoaeLsOIVN8gfJe8gOqsnrcOr5jYPS28u9XDGDpPuh6VPhyuh0pmQjwH47RgIGLYBxBxwyS8gl3TOLwAmV6R8AB8fix/Z9as8C7yy38+tegT6ucqHHtTbBp1BgF/PX+fCsPR6/tV3PwzMh6Wvvh5P3uJhoD4sfQotsIc6RmYCPgbgt2MeADgOCMo8UwAtIJauX+ad+oWlRWBJ8UwYmjSQ+hVWvOjKpze0U/X0612/vuTxebgfndUbD2wEdExv/AD7APzp8XNGlFYr4MtKZyV1+G2GRJI6kjkul/Rl2QP4K4zEL7WP4pH+BfCAPk5SP+oe0qCND0hTh+SgQcDfBOiKk68+1u8Vv3r9APzpjl0A/nT5OSNqDwPgA/qYObKxaRAwAX6D0oexeFBZAWxOg/wCfIGyJHHxXaocfIE+0j6Sv6R/gF+Xyuf6fmhrIiCM0y+EvF1qv+LkQ1th8uA0MaleldX96vCHSfDD0ldHL+ejlcOk+2Hp7XoROvx2fOqbS8AjlQLggiMeEJq3C8leLrfDn0fAh3c54APEAmzxFaCF1/gKw3dZ8kjHr/HRpKDy+uWgDV11yZ98AnF8AbvqUr26V/vwcav3Ggbmw9KXo+fz0Ab1cxqAPIzGsHS1pb8fgN+fN61SHkbAb5JGBWwCv1bMGSGT6OdFqCsHfKRySd5qY72c7gF2HJMvYF9X9RCHU35J+KqPuogTcGtikOROOcZeE4gmGCYl8jJx4LjU1rxv8x8GTOcJUJs4Nk/tmxyMm3rYiYP+5HUE4Hc4OlYoAH8stvUUEvDmCTngS9eeAz7peTndQ0PxAmb98hLwczS0rHyI46K8VD2aAHSviUAqH427zEP5tcS+Bk0UnE+EqgyauGFXmzzDaEw3PQB/NH4OH+PR6NVzB+DXObIi93rxpTIQsBC/WlU6TeAjAG0LYKMOhujn5ahLQCvAR+JWG/BVjnC/izxI4owH40Q46fjTkc2E797lF8Fdo80Xt5IOfs0abPdx601ax8yTr3WlRV/aweQDyOPOnj3rLk0QjxTPPfdcsWvXTvuVQLlHyjanTzg2tTM1v38fmspMP64uMdfvp1/j+BTrbavfj0+5fcn6eNXv21MannMY7WHpqYYuCZ8XY9CLM7xRi5cjAH86Yy7gzqnxLOaAD5jmEj55KadLz27+HNfpcs+YAe6Av1QxN2/aF7o4p1+qoFLlA21epUew6zfwTrr+zomdHEJ3+fKV4ssvvzT3hatzaOfLL79cHDz4op1E+qR9b+CpSjWkttb91PZ2L2297HTuO3xM9Or306llMJVJ6qTsJOUHt6w3lbEaNF6D0nqptYsZRnNYurX4l1/0xiRm6aVp14DIFYA/nWegDsxQrQM+ahbp0PPnlLLKr7BHlH+IIz9O6b/8kr7He9eA/55J97dvp2/wMgngpKpJ9/e83rVr15QTEID/qOv4L12+XFy6eLH49NNPi48//rj45cEvXuvh1w8Xr7zyikn5zxU7d+4oNpZHPvR9JWlfBSB9c+XdmlI4B8k8PCXyI5GZpH7KTlJ+pIZaZsZo0DgNShu1rjb5h7Un0Vi6fz+9LUtLiVn5i9SmmkXPE4A/nScAIBYYiyLPoiR8wD6X8JUHv15OaXl8v+da9TIB3L+fFnoBeb7MhUPXj6+JQDp8Lc5eunSpuHDhgoP9hx9+aPn5otet4s233ixef+314iWX9A8Wz/ChGXT6/GvEAkUmv1971bdp+B3+MCFOg+KkNCYB7AD8wRNQGpule/d/cS4z4D7mFpiLsZ/02Vmm8qsZ8PPD03KzzCawETCS1pQ+KbtFX3RUxySA3y3xdT/VdYBL4JfWXdD137plRzaY1C97/ju3Mbe97ZMLP4rv2EIv6qDvvz9r7rvi2LFjxdGPjxbX0elfv1G8cuiV4sUXDxZvvPFG8eqrr5lOf5dJ+rvSovAjGxz41ddun3b2mxS6c056l0S9BJSJH908mpT+aOUF9vJHK9091qOWHTf/IH4NSmuqb9T8dRqUH05j6e49A3zLx4B7kfqbUKdb3g8n3afgQxYdgD+dAW0CfEAfwM8tZqTDb6oVGpooEgAMAo/6E5yAT+1I45o+uK7F3jsm+d8y6f3WrZsu1Z83yf7k118XJ06cKL766qvi8y8+L3669pNJ+LeL7c9uLXbu2Fm8++t3izePvGng/2LxwgsH0qckn3jc29ksWvlb6O9jmxe4iQ/t4vhFRc7U75UHfLU6tUd3o/jWo1GyTyFv/RkSyX7xSm/wH6Rxb0jpiuoPzy3L35WEb2SdmLc1NTj97aqvuhmUVmVagEAA/nQGWUAragD3bAFfNeELKORbjKEh+vgHJg/hA/q/3P+lkvq/++674syZ08WXX3xRHPvss+LE8eMO+Ldu2i8BmxjQ8T/55OPFG4ffKA6ZtP/qq68WLx86VOwyKX/Hjh3pOAez2e/UXbanfPGXA4A7AInMt9JvtHgvv+RHS6/Tl5YFZpatxkfvTi2use42ecDofvmI75fWqXAJwK+ymR7fB76KgER20ynXJzbLsCDBAPzpDPQ0AL+7JbxpbcADqPAfuVV+jymBPgF+Scs89Pws9J46dar49ttvik8/+bQ4evSj4qvjJuF//oVZ/9hH7e8/KNbYAi8mnXt2P1/sMhPNI28cKV4znT7WO0j72tlLm7vByt43eyOXA/A7ANGGT7R0llcah3ZjNst2TJt2Gs/hVJtxtl5uYsC/c8+eTmC9WrSligzmkbTqtXqOhsgFjArAn2zQAXpdeXgcCV90kg/dDu3eNOXq5DMbnlTC2qQJSD65yXkfc05zSPSocT49lgD/O5P2T50+VapJloq1ZsOPrT4LtZhlvvKKSfgvvVS8fvhw8aqFn3jSzDXt/CK/eqQ23rmmty5l7/e3e+IoSQ+kk9fRj1f9aptufGr7yrZhuj3KqeV8zuMt7F1Wuvxanux2YsC/eefug/RyGcxbfSJYPXIB+Bm7e4MPC+A//vjj1eFp6Mnrl4BPQFxPH/U+B3eVzeNUzyg6fNFJPm9SHUBSXHdsns/CgD0E3Oe+pFZOAnfu8sWtW75I++mnnxSfmzrnE/OvXv3R3dq1nOiZTvbkiIVHNph1kVkY7d27r9izZ7ct4h5x650tW7b494S9n138Ti99DvhlE1JD+v1Vu2vpUNM7XUvqe9uqvr6lx01QrfLHpTOP5QYBuaV1dCxZ45vL9B9LH+msfHNw6frNWw+W7IHjmdNLhs8r7w+d0ckfPpFpbo5SF8cPwB9vrDWB9CutZ3F6gA+QCMyp1e6rhzileZwFPVcNQB/YZi2scwB7LHeOmwrnq6++dNXOqVPfFnfv2DeNTXe/fn06bnm97c5dtx7gt9M3DfifKQH+hRdeKPYZ+D9pRy88ZVJ+evfyCbbz4hKiZYMvb7C32ZpXXeqa+FglWMCzdf6USVaiXYU5qSmGs8bnvVZHpljT8pKiA4M6UaZ59/N8ebjTYsaz+SK+X1qnxNKP1288cMuHteV2csDepXqDeSvfD/SHk+5U8jCHAvDHG93lBPwEhPZGobYUrrgKUzf0gTDpwL38Tt80zm6maTtyvz/7vR2l8F3BTlscxzDgtF8AO/0NBv6APmEdsfDUU2aPb2Cvw9V0REPnZR3xzfL20mxrdeqoN9qp8B6XrupJmT/1tYq1AC/7iHXnxScO18ciERT+TEx+xQgM4mmeZuEuST9P6zR+YsC/dO0nA3zTOZq+MT18AL5J/FZHGn9nud/kTcjDneYsXkhAwMYcnaODTzyWHfN26Whk/NwOfxSVjvrU/+FTjo7fBUb2YNUBqpMzhQRUk0r4CbyhKUAxv3p4Fad0u3fQ7AV9jfPt0j7/KsdMX73im6ww00SSR53jZ+kYwK81qV4nbK7j3bIFXNKZEB41t96OX+DXQDIzpUFytGWEqwTwip/lvXexBPsqbHWQzzfXez76m+riDKElw4EOc8q0VLjDMrJ7XCrX87ekl8fnUSW5jEhZjxewcAPtVKYhIa9k1YXpT94nCy8H4J//8aoDvh7Otah3/EFJzQHuvVnEZUzNw1n0wgUFBAH4g4d+OQE/1SWYwVfYgj2SvdqtfGVeTDLLcg6SqHTM5ZM6m68w2bTjSSqByd8jA3ipagB0FnABU01iCeRtAiDe3iskK71jak1rvwb4tFW8Fk2o0x7q8ufVzEs9H/3z/2ZVZG3h3actfpV06u0Tzb7tK9tTpds9V8lVb4PzgUirK2+vR5GzbAL3upxDDfFKXz2+OiGflhM2tzyA/6Mt2q4xaaP8hJxOC6QJ1gZ/WLxNznJCfuXNVdwi+g874As8GNs87EAw4oBT3l/2hhe9Tkr5RpXwUxsFL/hZuHpoFZfXqrxlWg3wpcPnpE2cxh0KkMUMM6l18BO4qg85r7wJ1n9PoyQvmb9leJ5qgVEuay//S4CufCeRzKypy3tlf+7Zr04OiKMutYWs/gu/DvgWr7bneZ10+acxHpAv6Xu93sBUIN0bv0i3+ny8aHsXvbyGFE71EPZQb4ZVFZP3QWF8c86IMtzQJ41Hb1L/MnnepfNXTcI35kvCd3UOg2Hl+YXHYwEpDaAKe5xuFtjXi7+aJfwnbfEwP1oBwNKVADTd5eH+D55K9vqUpxyOcE6vnlv5RgH8RE/Qga+wBQdK9tRey18H/LK9D0qJnhJcvCf+lpT9SnGpj+KR+olPHO9bp2UQ6LxjlB/ngnaTE7AC8r5jGLNSOyzOf8nbLxGlS6XrdRstOubtt6DgmJY6l0i3y8eItudgUN54WleCF0kb2OyXUlUf7Sap9BM7c4KpnP4OS1e+1ePTI/W3DLukr7junviYdEeVdzmdxgwe6YAPkfRTFJOyUodv5QPw+zNOKdMCfIGC6I7j938YOtSadPh1wK/TmUbb1IKc9iC65MONB/gJkCoQr94dxas1+MTJKT7dp/Z1Jia1t8TDMnMN8BRL++2fwDJhZGfCo0pqSRc57bIy417eNqsE/Txh3YvmTTsEjuOfb9y4Xly3s36cv1YZaw2Arw6Fk0rK1yJsrSGpnzoCwF1bn8IayVVbdr4Qv2woT/5HzGntQuMnINcvI51NxLiycJ3WN9ZV3abcoMs5NTjLoOJzlKZO5D5hc8sB+D5QzPgm3fnsb1UH4A9/PqYB+AKS4bUNzjHsZaH0wgF+j2TfgdnEzQTuHc527tO4CPDr5TolUkgvbice7PJS9qeDY/V89fuSWqdAh+CgkNXB5EKbeSapmHvWF/hVks7tv1xctKOcL9oZQK7asV3DLBxv2LA+nUpanvfPUc784mMhHyBnMtCzdf26TRh2QNyPV6/6s0RZaCA04ABynNRaOppCx02n5++KmaSaWaptSpO1ki8aGytUT7+uDkvvV27+4hl3OVqnsPmzBPwfTKUDE5nZ/WdWAP5Iz8Y0AX8S4B/2Iii9DeCPxIAZZaa9uIkl/EbAdxguW94UJi6BZ8oEdBKV500pff/SfoqQwcqJ/735ydV7pfzNab25iUntTU3shPnQC+f9Y0bK+T9nS180/GA6A2iEPN7/BMCPFVu3bnXHZxoxI5Vk7RPGxQt2QmiiRxmwY+fOnX4aKHnZWey/FMwyCTUS7qpNELgfzp0rzv1wrnj22R1eBuB/0j4So18S/fmUWjw6X9TTefQZ39zRxvK+D+j354/oDO7n0tmrP5Y6fNsoYoPnA2+Dz4+4kPAHM4/U1QT4TCi8dAJ9mWXWVTrDez37HDzYuOkBfg7WCsunP4S77yXhq7eakAfhvjXZr/zFTOXKBNVRTgjpBVcNHT/RUZlOfP8QIJ9SKcUURb2oUDjGmRM92Sz2rW0S+/abb6oTSB81tcpG+3QjRz/fNhWNq3JMqucTjbg9e/YWu3fvtrFIC9FnzqQjJL6yL3xxOqj3zep58cWX/AtffNaRY6B1wilrW6hzzp8/745Nat98c7LYt++FYv/+/cX27duLbdu226+EJHCKH/363y++P1/mOYWRqjvaW8Y1gH7+XHX3THS6Y+t3GeCblY7ZCQfg11k0+H5eAH9QKwWevJyLDfjdgN7hmeLlk2Jh41eK6cQn8O6U7A0xUfXGKsZI2pVL/C47l8mdegYSEbEu38pS3OqGIu3k1nX3pr8/9tmndtDbJ8V3dnb/d9+dKbZt3e4S/KbNm4vNmzYXV6+ZBP7j1eKm7Slgknh2+7MOxhz4xpe7pOtnsjh58mTxyScfFx9+9IFPJkwWhw7ZWUEvH/IjoPfv3+/qoM1GG7AH9P2Xhf0qOG7nD/EpyEN2gughTg/1L4LtrDQM6lI/YOsXr3KrxxdA5z6tz+4D8OdvOFcb4CPdC/QXT8IXoMrneSJcv9dzluKHg7zyj+53A1jejtFpMUF10ytsgfZ6ccPchx99WLz//j+Ly5fsk4yXL5pE/nJx4MABO8DNLLRM937+h/OmavnBP+bChPD4ZjtbyXT4v/nNb4t33nm3kti/MbA/8fWJ4oMPPij+8Y+/2fn/14prP1018H6tePGll+1E0NeKQzZBbN2y1c8KYq3gngH+mTNnitN2uNxnnD1kk8WRI0f8XKHdu/f4LwipdNTrej+GxSt9ef1xxgtA58qAvQrX4gPwnVNz9We1Az46V1y+07bfy7acjKcNuNFVOrSSF7F0lQ5fcUpv8hXX/SKvDsA3sKfZjicdULl+3b7A9dO14kMD6H/+8x8GzgbQBtKv2zd3ObXz6WeeKdDTX7hwsbhw/oKrfb4wCdzNs80C5w+//0Px29/+ix3nzHd8Hyu+sSOh+ejLhx9C7+/pU5D2WUck9R27drnk/rIB//PP7zb3fKnyfGCAz3HS39qhc+l00bfe+pWB/lt2qByAv6fS4TMCXP2ewX7xqdRy/+1+Trprb0oTyJNT4dyvxQfgd7N0Hu5WK+BjtSEJ/+EDfJ4MXrjSLfFhcd3X0rj1K39B87CVTHoYZZyq3w1g3fWOUpEgvlMmAQlg/5NJ4Hxv9733/unf3P3ZvtH7hn2FC9DftnWbq3Z+NHXOFfv1xwmgHx89akdG/GzuZvE//uf/U/zrv/xrIdUPawDo4D+xD7YD+jK33PDoI/4rYP/+F/xkUNQ7L9lx0LLWOX36tH8/QID/5pu/Kt58881qjYDFX/Lq6uaLYvtPBJ0cyxkaNF6k5ekDgL0Cf9qe5ZsN4Gcbr2LRduSn5WEC/E2bNlUv6MiMmHIBXnjceBI+jdELZ35rwM9fUHWIxU+Fp+9bF+3iz2SVOJmu5iXgyAH/fQP862aHj4rniADfFk2326KpzCyPfWoSuH2bl/OBbpsu//e//x8m4f/Oj87etHlT+eGXb4vPTFL/2EBfh8P5xkOzBkrWPdt8MkG9w/jhAHwWbD+F/tEP7SPvBvjWBi0K9wK++NLVKXsmmuO7cy3HXX286ve0IY9L45HGmrT8XuFavAO+4vCtVGJAuun6m9PoSui6WTr74zU7HnnJjnA186oA/C7mtLkJwG/DpdHzrCzg5y+qvbYzRPz+L/BoPON1774SANQB/5otzqLSOfyGfYHLPq6+/dm0OOunfl6+4pY3gLk/12a/D9i/++6vi02PbSoeM4EAPTyqmS/MQod8j5u9/hO2DnDNvuV71ej6KaFm5cOEwgfcOR0UKzB0+B3A/6h46623TMJ/KwP8ZAXkOGgdSf1p6FVfwOvu/fLf8cx0PzfdbUjjoZ6NBvhQKjnSt/+i311r/S4Av86REe8D8EdkWMvs8wP4g17ilp0Zmq0X2IYWqWXopZAAoAJ8dPjv/cP09OeLH87/YOqWl4uDB14stmzdUmx5Zktx2VR8ly9fKr4vv9XrKhyzsnnnbfsIu4Hzo7Yp6xFT2wD2qHTcLPPzz4pn7fu8O8ym/vqNn83dMJXRz8UN0+m//FJS6WCiiY3+2bNn3TroE7MU+sgWkNHho9LZuxezzz22B6At4NPx3t7W2LECtwH4K8D05a8yAH82PJ8fwJ9N/6ZNtRcCE+Bfdx3+teL9D94r/vmPf9ii68nia7Oyee45+9augTHSObtqL1/GeudSpbvfs3tv8bzZ379hvwQO22cZ3WTbNAAnT37tNv1fHf/SpPwvzAwTe/oXTJd/3z79eN/NL9mUxYfadxjQv3gQ+/yDboP/g224Qg2E7r8D+HwJTIu21uayI8krbzJmzY9KJ2uUBwPw6xx5KO8D8GczrAH4o/G1ARqNwJIdg2CLttcN8N9/z8wo/164WeWJr8yq5nmXvDG9xF4+qXQuuw0++nusbHbZpOAfX7fFXc7JWW/HKGCDf+LEcf+m75f2xS9+KfBR9vX2KUeOWOAXAJOCn63zyCNum0+eZAp8xT8HebSS8DsqHT747ou2Afg+bj7zVTp8noVyCgyVDsxYuSsAfza8D8Afja8lHFghqaCI6QX806dOuZTPYimgDthvNpt7/6DLj1dcD3/NdmM/4+aaz7ie/bDp4lnQx33Dxiszy8QW/7hJ+YdefsVB/UnT1T9h5r2k8XF3VyXZ4jAmmuzC1achP/vsmNvhv/XW264q2mPqHMw3AXwWbkPCT+MWgD/a879suQPwZ8PqAPzR+JoAPy9DzBqT8K92SfjnOMvGztM5aCD8wgsHXJ2DSueG6d+x3jlvB6udNx2/nuvD2OvbbludrXOKCcNB/4RL+ofMlh8TzO22M3erWfuwMMuvANQ639uu3l0c0WA2+msMzJHgvzIbf0DfAd8XbdPGq+kAvia7nA/9wr0c65ezXXyodNrxaZXn0osxyXn4sgKRP22WCDyhr522TXb4YZYpwJA/7ZGYHb1e+GoGfFfdXLnsZpOvvPKab7pi45W+5HUG80mzxOEoBAD7ZZPgX7LJYe++fcVe+1VwxnbhOui7Lv+47ap9tTwiwVREBuw6nI2ze74ylQ8nb27y0zefdIuek/bLAFXQWwb2WPLstQ+6o8OfHPB1DEY7Hid+9XKtXemmXKsF8K9eKw9P6zXLRF3EuRwcopZCnY5Ok1UdqqsvFIA/mzHTJLUydvgPC+D3qnQ42vgnk+RZNH3j8BvFli1bime2bE2nWtqi67envnEJnvNuPjdJnF8B+/bvT7r6gy/6WTynbVJIawEdwH/eVTO7ffEXax8WdD83Kx4/FtnWBJ56Mp26ySRy+szp4le/ettBf9++BPh88xez8M7VjDB9VdhWcKj1rG9FTjWAa9O/Bj031CdHzQrnfi1+ZB0+5ftd1GO1njPA908crkvHo/pZ+PXTMi0vDEpFEsE8nGIW828A/mzGPQB/NL72vo/E9AI+AHzL3Dvv/Np16FvLnbaAJb8Av7WjEwBzTCfZmQuQ7zZd/6uvvuaHqH1nqpozBtgnkfCPH7e4JOHvMUl9t0nqmGXiAHxUN/wi4FfD40887hZBP2L+eeVS8a7V//bbb/svB/T4Op69Va97O9tZuuhHwMG+DshNhBKB/in9KhgWn8YjAT1583uFa/EjAb7K4ve7DMMd8A3g19vsii2sTstkJmWjs794+P6vQ4gmxjX+8chN6pumuGnwWOC5mCodO1ahetn1wuPLicP5vfIpbf799D7Sbr2Z+M2Azwmab2Nfb3bwW0rA50MpCC+APWCe7OU/MBv5dDzyq7ZrFnDnTH02X7E4y3HLCfBfKfaYPT2OoxY4/17HMX/pxyh/5jiCDp/du5zI+Ts7n+fXv/612+Gj0vHTOO1D6jO7qmegXQ2Ji+JluzKdXP3KpTFJ+RTOfVKy+5EBv9OC3lCiG4Dfy5mRYsaR8PsBe7/4kRrUkHmxAF9gXQJ49aKX984fhZWXSMUp7BlX0Z/64WnpBa+bZd6wzxvymUN2uR52lc5WV+vcNaC+d/d+8XWpm8f0Eh38fju3Hv09RyQfssVZdsxyns7XpY4eyR89PqCNhJ8+5L5U7qw9ZUcpfOy/Fn68aqe02nk9ria2P3/4w/8ofve7f6k2XqHDp+zMruo5mE4N3fqOnCZ8b7oUn/uEc0e57H42gP9TOlohJPymURoaNwngzwrg641ePMAXkJtfveh1QM/v4Vh+T3gVXtbsjo47AQfmkZyYyWYnbPFZtP/RzC+xjT9w4KAffcDheTI6QIJHZZO+bHXRP2rCMcr79u03t686E0cSvM61311+KGUt39Qw8L500T6lePGCnY55zDdb+dqATSayz//DH/6nAf7vfKLAPHSt4U9+eNrUue/PwfSowt0Ezk00U2pTSqdMGp90r7BolvcjAf6gOtUSV+kE4Isd4/gB+ONwbXgZTVKjL9rWgHsswB/evnnPIQmUE1F/MsDnDPqjH31kZpd8eeoH3wm7ffsOO/d+s5+Eece+inXbPmSSrHiuVOcHAeiceskBa3yZys/SQcJ3O/zjyc7e0l3CN108oI1jrQBdPjb5nLvz8SdH7Yjm9/2IZazB/vVff+/n9GCDz9HKqJNnCvhTHrClvviag/egSpUv98mf3VeAT1y6eC+aL5VrTlWsqXSum4RfuA5/Xcl09PjQDR2+2NTfD8Dvz5tJUqYP+LRGk4EkeN2rpXm8pn2pxgAAQABJREFU4lanL8B3+3o72+Yr07dz/s0P9pETjjgAdDdt2uzn43BOjswy79y9U9y9c8fOv7fD0syckl8BHJ+g7yVgZYNaxw9DM13+PlusxbSSzyHusvPwNW7o8nHKx9e2OCXzEavr0Y2PmoUO5+Ef8bN4+LoWgN8fzFZgDAz/+kFrpzVNOZriOiU6IfLVHalZnAN+N73+PFK5Tg1NoQ7gl2ZRbqVjM8Aak4ychCF/IqVHKJHpbkYT6cWIC8CfzTgLOKYn4audAvkc3BUmj9KVf3X6elv5XCGLpGyEwmLGD08z0NflkrWpU+6bSSYAzWmXfF/26aftwyi229a/bWsSePoo+brqTJwLtkELx5k5fJCcb9PiuHJVJWf04FjgxXIHXf26det9IkFVhFkoda0x2+8OmOXjoZYur58E6bYo1zZf3oeEql0A78lZ/EwA/9pPlR0+ljr6SbbGHnyvOgA/H6WecAB+D0umEjFdwKdJApEc0OthNV15db/6/ARBS4VL7PaJQVQ16O450wan51Y9e2BHIRPHeTiA/uOPc+zx4wn4bWOWj4dl1rdv9eUsfTGNI5A5iA2wh5Y+eo5F0A1z586d9RMzoYO+XhMExzrwayOBvfguX63LfSaG/H6lw2qM/LbtUX58OcoqbP4sAP8HA3zZ4bPxoQP4VrXV2aleMkPqEPFxjWeWKQlI/qz5KPCkvod/p20TiFucP7BKE6DIZwSUNuvRWF76DuxmJnnb1DSobe6ayubOnbtVIwDnBNLpQy96/5HykcQfLb9khZ2+ZfQJBDr8csDx2cONGzeaqmaDLcg+Uk0kSOzQwkSTXw8cmYx6KT2La8pPJm6073BssI+orDfa1o4WY5Amhqr5cxQQUo7aJJUTomb3MwN8Gxike+nwfdCt3QH4wwdPkpKsHKQLJZ6HvekS0MtvyjPNuMUCfDgn8M4AvVq87ZPuZZSG/3BcDuY8i+Z4JhO4296ENANWYA+Ywy09K/hrcKUQ6M+q5fkFZ3Sko+fXgDZNgRuqb8nXAQ28Srrk5x1x+lYPdveUc6wxFbLXbqA/9BIuDs24XBnUIPmj1ks5OcoqbP6sAB+mu26NwWWQ7T4t2ObVh4TfNJQB+E1cmTxOwDO6Dl9110C/C/DJU0tXsSq+iljVgQTwSO/Jwdf65WCeRSoPWa2Yl82SPagyGiciuyjX6lH9okM5cMbLdOXVuCjnvPv0oKvnIzZY5UUju18OwE+LtgncGYdO9QH4TSMZgN/ElcnjBCSTAz5tMRDpC/hletVkAGe1X50+ANhJyrYAYXup6/iacqe/vPF5ugO17cKtLscEUCGRq+LLgKek5HpSdp/qcESpCmR1eEOz7HMdzDubh0dpNOVUVmHzZwL4V23R1mba9evT4UUu3dtPrCVZ6ZRNYXDUJLqSh7lf1CsAfzYjv7yATx9ywJlNn5aFaqlC6dRV9su8pLQhpf72pjxMDgnss3SnV9LwkpZm/8krKd8pVkWqANE9l6faH41vpy3U0amnp+DcR9CzwX0f3AWVFR3zZwH4569dd8BP5lKYY8ol5neqD8BvGrAA/CauTB4nQJiuhE+7clBRuO5P3v4Vo9AD+GVL+sVXDTUewAbHHf+TUkrAf2BSvk8YPdkSLmi8KnL9AvzCIA0//ylRjYvGoh+BNvFZ+9tkn1qeSeqlbOacDbrvNLCbZ534Ttk8rje8dOGnGyXgp9MyXYdf2uGTXVUyTIR15WHFLaIfgD+bUReATA3wvZn2FvmDm4MK4fr9bPq0LFT7AXu/+CGNku79l1/M2uY+i75p4bfSBLj9PEKi4YNpCoZdzv4M9Hvz18ejN8fgGGpYaXQap36123x/HHXf3duJAf/yjZ9tpy1gn07KRMKHqI2jXaUtvrMwAL+b9ekuAL+JK5PHzQbwrV2uy6d9TSCvOPmT92PZKVjTO6qbrPZ+8VmW6g3n3S9Z8EsJ8Oy+xZzz3v20g5YzcXDY1Ps5OOBGAo2MYm8wAVZZk2NMPc+kvG8kWq9khvfUP04bVMb8BlWOGjwx4P9465ZvvPIZm1Vzn30F+Knp6oKaROV5WI1ZRD8AfzajPl3Ap405kFjYH+BaXFee2fRr5lStS+MAvkNw+VITFg1UOYC+zrm/c/uOn7mTjmbYVGxgZ64Bv8ZrWP/658vHYhiVYekriU7UPUn9VnaWgH/97l3beKUZF6AnbP+sXjUbXy5ntdLzuEULB+DPZsQFDNNR6aiNGaj0WO2QR+nyVW4V+dZ0gXVXqz1eMb39cwSwF1o+rICOAN8PYbOD2H6+wc7ZG3bK5lP2FaunbGNWOhsnlRuOCGlc1Y6639uueo7h98PbMJzGODlUr/xxaFDGys8S8G/ev++A77o6q85k/KTSKevuND+pd4jmYoA7aSluEf8G4M9m1FcG8OkLoDMN4JkNX4ZSLYG6b74+6Qmw+wM+Z9n7Lu1rV4tr165VHzXXIWyOBS0AQfU0t29SvrdoQHPFU4il7mnUbzRmCfi37VM3SPPsoLP/HQmf5ne13wA/G4/qV8EUWLWaSQTgz2b0Jgd8HuDsgW0E8jydfuhe/mz6NlOq1vRGCV+V9kkXEMuHFUnCZ4fug+KKncPDeTxXOU/fzuLpnIWzudhsRyy3vSr6XqDO5/p9W6rk6wKrhvtRaI2Tt15/E41R8pC3N39vjOppzq9U+Ut3+M1ml1bjXaVTIn2deP7+9KR1zw6i/9D7AfizGeJxAL+7JTzWOYDkYXLW7/vFET/oGgivgwrONm2QVU5T18sX2j3e5bK8nm++ResHsNmXq5D0OSHz2WefdbDfbIef1aTDFn2jEU0NaVG0VRZ6UnaqVf5ZZ4KnA+ownndaq5D8AeWqJPIOz18BvgZYZ+BXdLJAAH7GjDKoFyLO0unlzSQx0wd8WjPojeuX1i++07u5hHxr9jjtqiTwsrye7/Tx8SThXzHA51jkHQb6mzZvKjbbufotsKbDsCo0nLdV1pEDw8FvZJJjFVA75DcTSal5njzcXKY7lvzDy3QBPgQY8H7CegB+N4u50wsRgN/Lm0lilh/waW0/AOoXn3o4DrCKN7lcp7i2/tB6G5s9uFQF+DTCyvN83zcbfAG+fyLRpP0dO3c66AP26PFbYE3bbo2VL0HdcMAbi/hEhfI25eFhREfJCy3yDy+zdLdU6aRn3Ua466dFd6MC8Lv5wV0Afi9PphGzMoDf1PJG1MwyDgbQLGNjML2iw1/U3sJj1jtI1WOVeEsyie8Xjjc20HeVDvp7VDumz9+xY2ex06R8vpq1adNjjhu9bVy+mPH5uBxtHGd8Ry1Tz1+/T/3sAL7dN2fpMCQAv8MLhQLwxYnp+rMB/HHaCOAPA/1x6E6/TH62zSjU83LwPb9cwjfQZ6FW0j26fFfp7CwB3z6FuNJXvd0r3Z5O/Tk/83Anx/RCdfr1e8P4e5LwW9QagN/LpAD8Xp5MI2Z+AJ/erAbAN4l/rGZ2l0t43wEK1DlI+XwlC9AH7AX4ScLn27em0lnhq97uFW5OQ/UdnjYkziCK+nrrDMCfkNUB+BMysE/x+QJ8GjkWmvbp3Syiu4G7fQ3d5erA6V+sMtC/ZmB/1ezvr1wG8C+XEv7OYpNJ9wH4bbjdC75tSo2fZ0LA9+Zmz3y9+fP7k2p8lrUpGYDfhkuj55k/wKcP2QswepdmXiJXzYxSWV6u/h474JuEz2Yr3GUDe0A/qXQE+KHSGc7vOmIOLzFajib6vXFL99uqdGrPep1U/UEZrbGrN3cA/mzGbj4BfzZ9nRbVHLhHoZmXq7/HgwHfdPimznksdPijsHtGeUHkOir3VrVkK/A1KO/N1BRTJ11/UJrKPIxxAfizGdUA/NH56i9y509rAp0itpu+tmjbA/iNKp2Q8Fsze2YZA/BnxtqccAB+zo3phQPwx+dlLrG3pZJAPwC/Lb/mL19bwG+r0qn1sMtipyYV1LI+1LcPE+BzJoqAdqUHTe0Y5bTM7jY7hHVHTXw3C5oTN6qHQC6x9yQOiGCiCAl/AIPmOqkl4NuhaWM/xXW1zlzzY0aNC8CfDWMnB/xpt4vXZOxXZdqNaUVv1Fc7AL8VW+c004wBP8A+jfvDAvhPPPGEH4RVl/BW6ukOwJ+c86NK+gH4k/N85SgE4C8L7wPwZ8PmAPzp8bWtpD9rwEeXMCvt77wIKtMbtVEpBeCPyrGx8q9mwL9+/Xr6cpF9vSgk/GHDv7rUOXlvbGtVftsctiz1iYF7nm8sda79dK346dpP3Xb4fpZOW7PMtMGrvrGruTGjx86K7ugtWckSw/UuS6Po8IeTW8nOrkzdqxXwOReFz9Y9/fTTxZNPPhmAvzKPz9zUCrjLsVaRwhwOaIen3f+luH79J39edLTCszoe2U7K9MPTrCdpNbAfsPeLnw4LAvDb8bE14AfYNzM0AL+ZL5PGzp9KZ9IezXd5gb18WksY6Z5nXN+0BfAvX75c7CyPR9bHzMlLPl25iiUPK33a/nLUMe02rwS9APwJuR6APyED+xQPwO/DmBlGC+zlU5UAn2MVOEAtB3xAX4Cv94AyAt/c13hCexaX6poF7YeJZgD+hKOpB321fQAlVDoTDvxDWFxSOiB/7949d3q+JeEj3QP6fN6Q83Q4VmHjxo0VN9auXVvgAOA1a9a4L7DHD8CvWLUigSUbgNlMuSvSneWvVC9EAP50eS+QGH/j1XTbsyjU9BzfvHmz+PnnnyuAvnHjRoED7C9dulRs27at2Lp1q4M9gA/IA/CMF45wE+DPio88L3EN50AA/nAeDcwRgD+QPWMnBuCPzbqJCt66dasA7C9evOju9u3bxZ07d9wxGfDLENB/yiy7WOzXhIyVF444XC7p0yCN50SNG1A4AH8Ac7KkAPyMGeMEA/DH4drwMgIIAcojjzxSbNiwoZIch1OIHONwAFNd1DfffPNN8fXXXzu4A/IaD9LIw7igzlm3bl2xfv36Yt++fcWePXt8MRd1D/GAPpfAWP447RpWZpa0h9W9mtID8CccrQD8CRnYp7gAJgC/D4NmFI3aBkD/8ssvi88//7w4deqUgz/PObp9fgGg6tEE/Pjjj/sO7cOH3yhee+21YteuXQ7669ah4kGXT0OTumWWWpcA/HYPRAB+Oz71zRWA35c1EyUE4E/EvrELA+g4wP7YsWPF0aNHi/fff98nASYC1Duodvi1hXv++ecd5H/7298V7777ri/kIuFLp9/dkI6ePZsHurOMeTdtemM2Y+6LBeBPOEQB+BMysE/xAPw+jJlxtBZtT5w4UXz11VfFe++9V/z1r38tzp07V3z33XduuYOkj4TPYi1S/aFDh4pf//o3xTvvvFtseeaZ4pktW5LqrRTpsQrJJX11YdoS/7TpqZ0Pk79kgOVWOvGTaLxhDcAfj2/DSgXgD+PQbNIBcxzgfubMmQrwjx8/7lI/5pqko2pjkfZ3v/td8fbbbxdHjrxZvP764eLxxzcXmzfZMdulSWbatTt80XZ1SOizM2hcLvwNwJ/wvQnAn5CBfYoH4PdhzIDoacARn8f45cEvxaWLl9xK56OjHxUfvP9BcfTjo8U//vGP4tbNW8Wdu3eKLSbFP7v92eL3f/h98RuT7l9++eXixRdfqnT7Gj81t36v+Nyffwl9GhzOe9wJLzvgd6pOoeVqQL3e1XYfgD+bERNAjLJoO7vXsWUfV7gB06jeadjWHLfWMZ39F67L/6z4+9//VvzpT/9VXLUdtz/bwu6+/fuL/fv3Fb///e+L3/7mN8XevXuLPbv3VBY53Tb48G+pSuNu2tfy/EKYBoebe75ceFtJ+M3NSD/F+qVFPIdL/eJOuk/ZLBPPT9+mS3vd5DflmWacwJP6MLFji/zDttN2dq9iy5FY4QZMq3qnY3+wv8dhnnny5MniL3/9S/Gf//kn33R10aT/w4dfLw6ZVP8bA3tUOizUbt++DQ2Ob9bSM5d8eOiQnP6mYBXX4fCwXlQFO0Wy0Ox/IQxrX9aYEYNzAfgAhBoif8R+PPTZA/BnM8QJKJaqjT0yA9QOznqtvIp2HmM9uv/9g8Hg0b9gc8p0qTXX0S92hF73I1HFOy37I10+i7Vnz50t/vbXvxX/9X/+q/jhh/O+gPvWW28Z6B8u3jxypDj8xuHiySc4cfXxRMfKa/wqwmUggbJJ+9znCG1YM6gfPfnrhPvcp3J9EkeOHtTCkYl1FVgufF2yXXUPqCx/kfLK+w1cV2sX+CYAfzaDr+eurUqHVzH/xZRezfwFtVc/v23R7DbZHVBKWp1wJ9SimomyTD5vpWOL80bAR7m0s/bH4qOPPiree/+94txZmwDOni3eeCPZ3b/00ovFwYMHbWLe6JMzPa9674ES3FWBxVUxVUZLbMPsDuVEzWkRhJARKOlV9FMuj8+rUvTofqtGjk62LJHj7thEhhRcsnMxHPDZLYfLgZ+y0sUNobOwyQH4sxn6cQE/vZL21/9nL6ghY3bXqtFt8udAksL2N49sVdNkmdq0s28NVjiXrQX0ys8xCzh23WKmedYB/3s3xXzppZeL557TRqu0s1Zdl19HWwfjRhYxPp1Sqr/ybRKqXwkgjSL0yqLJ76Wj9DoN7gelNeWfZpz3Ck1KSXTWoL9k5lYPAHVsapGm2EwB8FOxwH7WjZgmA5ebVgD+bDjOM4cbVcLXCwSIucRfAtoDROFezGhsfJVNb2Fjrk5kb7bemE7uIaExilbtHUK6MbkEUtFIPOtMAX5qpm20OvfDDy7ZX7hwocBxjMJec09jd28f0VlaA5Snxnd1gXGs4MxaYIld6VWjiO1NUbtsMKucVcBpA9iJaJrSrbZeMl6kH4715G+oqqpz3ECtTdVt2QfIKq5fO8etOi+39N///d8P2BWnw4843xrwl6RP5bNsQN6Y1RgOwJ/NqOm5Gxfw7UtuhhG/FJgZJqnV8L7Fi+xZ9Ob16Zr9JK5SCC3V6XaSq3xtA3VSbctNks/rFPDDN2bGsiGYaMLDa3aGzk9mofOjLfhftYV/TsrEPbbpMT9Tp6qfcln/He4zfnm+LL1TzjlZ3XYHGMPuGO4S2RzgO5JyPbdXmbWjfq/8TU1T2iR+F117YMQXJso1S2ucdJ5nVpi79L//9/92lQ6fuuMEPBznY+jwo1lVPAnz5qlsAP5sRmN8wE/goHFJgGWgBYY1gAatr8cP1ovba5m/mVa+djsRQ/o0cSKabQsnPqQWuKRfFiQs67Mbdo4O5+1s9k8bbqqOWCBrXkZ1ahx139+Hi02cHMQR8is9jXsTBersie+JIFeZTyRT1FT+aq5J1RrgWwSb0yRYr7F716ioNtIVnqK/9G//9m8PWJF/xn6asZmCWZswah1AP67BHBCwhFnmYD6NmiqgGFnCN3DiH99hvW/fY/XxsTBg1gRI/m5XL7gpBewtq24bG20ZGt7EhqjG0oMiB9c7qOQM09Is4Dwl6MBv5ppry9Mw15l2gDBc4xcVF/kqgPNALoV7loY/cHAwF3km8gtI9AndKvSxLdvanSuVcN52MTg9Jzk9wt6Krnx5jibKefqgcPevjzWowAzw1wL6xkP4yIFz6qM//4PIjZm29B//8R8PWJRBwsdt377dgR9dfgD+cK4G4A/n0Tg5JgF81DkIMfcAfPMBfwDBNBM9kJKAgL/+qneBvcf2vOMWYf+9XNYxz5ZF1rApy9kbzIr1JnbFpLoV5XXqpvSdVudPLbX3dlDdiX6qUwDkfM32lwiwnCMl8AKl6eoAvYCMeIDa2V3mcq/8WZWaXlLgpuyk6mcmKaO8WFLddQN+TrYrXE4IKa4EfDW1zJjT7irrtfZP7c7bueuUAPCtstRB64Z9DcxAf62dKLpm7ZpivU2a69avM/UOPCtdh8zUQkt//OMfH7ARBzUOenw2UCDlh4TfjscB+O34NGouPfSjSvgOALbp7R6Afz+d+wJIAfakdcOF3j/eQl7N/PXs3HaVKbP4e1vrVKd0SugqV8ur21x91ERT+Zy2wM5u+tF2GIMQ4KvCg/wuEKxlFPCkylMidJ02frLiA/QTJ5lULd7475eV19Xd/hTfTdbujJ7TVh1UYNHe17ItAkR6R7Lyp8KqbbCfarfC7ThUEqN9qWT6O7iOPLWrPm+0pVok/QLsUeWsX4eVpAE+9+J7TmRK4aU///nPD/hkGYu1gD7fqQzAb8/dAPz2vBol5/iAz87nBw72OugL8AfwWXxEQuxchIEOf/+qv6QT51dXfkUO92l/20ugDwCk1ljJqgEZFSOpReh6u8UvAQmlnJbRke+UjEY1WaTue05xwPPoT5k374toaTFXqglIqU3edi+bCOVdSeDtWdMfwM0bXVKwMYI2aA6YV+0q26L+qR3UQLjqExGJFKGeq3uBPW9ZT9ZaRCLK3wHka2XSbVUnAesf/UqPR9LbO+Ab2CNk+y8m1D3Ol0ZyE0Uu2dGnDzCz4us1mzdvrgA/VDrt+BqA345Po+YSgI0s4ZdHXSDd30XKL093dMCv8EOvbPL9BUxIkjWTlw4wGfNq+cIK7IERr88rBBSo12HNwU8wc+/eXe9TR7Iln6kGkAxLXbC+NEVKkrghlmgmvloJ2keFniLq4otHVynerjKj6v3F1GWoyhzwUU+URX0hsqQNffJ7UfOdz2VGwrw7vlCJHrssw2Tt1lVWzHsvPlS++uFk6Qic8/pTf1K4TG30KgBuTB0eWefSoBI9efUgekIH8Dc44NteBnjBLyZLz8vm4UH1DUsLwB/GoSHpAfhDGDRmsgBpXMC/a4DvNuSlagfcSdijN4lXKL1GORBVzXUAAnRGuMhcvZnAUHbZTX9aKSdYmNpI3tRgqUju3rUJzMCer03d/PlmWozGZNIKUIYFP9bc4BcOgQ1HOlfykCwBRAOaUoectdCCZZu9HYluJ110iH/gm7F+tnYkcH5Q7d/ZsN728Wzo7ONJ5QH+dOaUrwHYJMw5PXxohSMzcOut3AYrl/qT6qCs7u/cvlPcvlN+X9f2BTxqZbyfZX3kTYDvIf50XYnDRKV+dCWOcDPqZEG9nbpTf2iCx9kfxgGAF+ATdhWZpeXlaGL9foRmV1kD8CtWjBcIwB+Pb8NKCZjGBnwDlRz0ec0d9AA8f3US8AkQaQ91VnDg+VIrq7h02/8vFVg5rvrL2ZHk68UtZ5kZr6rLAgZ7vvh8/9794vqN68X1n677N2Yv20fEJWEn/3655ra+eMo+IP6EuaeeSr5AMPcJu0Rt4OJV02ZrO3U7b/y2BF2PTym03AHYJPNLly/7QWp37tz1iegJUwejEt702Ca3zQe0+KVBXbj7/PKyyfdnMxBh0vIjG8ye/8nyw+doFzD19P77QCVesB7ApJcf+Md3dbEoxFEnZdU2DzT88X56pupPQ652UeOAfkWZDlp/YDncFsCnRVuzeArAr1g1l4EA/NkMi4BiIsA30Ee1gw4fDHHY4k0DhBzqSoAnkTiAruoO+aqb4QEv6DUYnd6CHbp5HV5tA23KpxJ3DVA5f/7cuR/80LLzF84X589fcKAALCQ5E8b5BsrHnyi22cmVrMWxNoe6FvCVqic1LwFxQ+XefknWpOeTIs87Uro+kHKTTyIaiG8z6z4s/J60yQYQR70k9QRqnvssoNvEJaDnPJ7vv//ey7ihSAngdd5hWovq6ML588UP5i6y0/fiRf+04u7ndxvoP+PWhZTL21nvVz4iDPe4F3S6aGVPTBPN+uSQ7vWcJAkfPmGhA+ivZSOW3TNGeT3Qrt831TcsrpWEDyPrAzGM8KKkB+DPZqR53nDTBXyjWS6IpdcHwLeXz98/S7OuEEQaH+flKl9jf1nrXCFNVx4mrqsu3nTFWRgwBVT9o+JffOGg/72B5SYDcYBcfGJSu28THIeYbdz4qH9IHAOMnTt3FjvNl+pEoJh8pHivrutPetdTWmpOAlPKuJrM6vFPIB4/7ufmsxGLoxZwW2yS2WrgrR2kmohU7jzAbcc0nDjJ2TzH/XgGyvFtXM7lwUyRsrq8nKmzvvvevsB1+kxxxr7Edfr06eLFgweLl158sfqGbmqzSjX7UG3obnPmPrFqmfzEv8FU66AP0/1pMyLwZ62pdbDQwVInAT7Pfu25sPaozj5NaxUdgN+KTf0zBeD3580kKQKyUQHfVQcmFd5FuncJH/NMk/CtMbxmaXHQJGNeH3urBHz+OpVv1ODXd3CveJETSHbny2nm4e5cNCk1Qj7qDwD1I/uY+AcffOhfobpw8YKbT2/bti3p6s26A336zzd/rnbEusrDNlC+9NJLDo5MDhyZwkWf6071ie/kUxhf+eEpmww/sw+jfPrpp/5BFNQtgO/BFw96u/gSFkygJwJ8jcfZs9/br4Pvi89t8jr22bHihf37zb1Q7N+3r9i7b69tQEqHsHlhK09d/Mo5depU8S1n83/7rR3kdrJ45ZVDxav2Ld3nnnvOP6LOrxfqmvWVRqe7lgT63XF5vjxsjKwywiFJ9G6WaRI+i+DurFBXOStVv68IjRAIwB+BWU1ZA/CbuDJ5nMBmHMBHDSCAccnXAT+9LokuVhBI9ykOMMvfps4rOXo/hgF+G9pgvm/MsQD6atw/+Zj43/7m+m8mAI4kBix1xIFUJRxyxhn2vmhrC5pv/+ot+97sEddz57puAbj8SqcPUFv9a9gQ5KqFBECwiLwOwAbCnxjYc2TyZXT55viY+SuvvOJS+q6du4y3aVJJi8Nryl8Gdx3sT585XXz22efFx5987GD/wgsvFAcPvFDga/+Pj5MNyu07d4o7tsD77bffONCf+Dr9Mnj11VeK18zttq9sPW+gv5xWhempSc9Gv/HM83g4z2h89DG2/knCZ8EdlU4A/ujv3LKWCMCfDbvHB3x22NrGKyRRc+ibcQncAbPk/I2zF87fQ3sBORAtfycn6RUvc/0aTru7UDJ3XCquXfvJ3NXi7/Y92b/85a/VRHb49dcdYJ+2xdknn3wqAa/tpwEQj584YZI+X6y6U/zL735bvPPOO7aY+5Tr1/W83r59yy1lOCoBUKXzgDQTFv8f2ZCsZ5hwURFpDSAdIXK3+Pjjj4sPPvwwfQHL6j1sX8AC9FHNAMBpgijNLk1lgTkpZaWSOXbss+JoCfgHAPyDBwp8rHzWlaf1MlapH+nLWydOfO2qpC++/LJ43eqivj27d3udAD5qka6Zuz4IPffDR6WnSMuIfDQVRrXjNTrgO6cT4NvEyi8bAT5SP8+QyqnK+r3iR/GX/lba4W/caHb49sV5bbzKZ0xmdpgfVy8H9AKlF8GkESQSc8QDNE0X/OSS35RnmnECOepDEswtHjhOg4U2FvuQAOdlnNXm0SX8wYDPm+R9xLd/egET4Hc/42mURh+Jbiqd8oPopderU1L9B+yvXr3mHxD/i0n4XOR6+1e/csl961azVnlmS2U189nnn5n0faySvP/wr/9qHxn/tS3gbrEzsrZUwHvlyo9u8XPV6F8z+kn9da/SOPD1qids8Tedr7Wl2MgHTkwldLd8vj/+5JPiQ5PwL9oC6gX75OEbDvivlgC821pYSvgGZkix6b0A8M+4Dh4J/6jROLDfVDom3R984YBJ+PtdUkfK1y8cAJ+yJ09+Y5PZieL48RMFgM+ExyTDwi1qHUw601EwHR7Cq/4Xk/ygEelfclBKTlItqXyrzmvsA/h+LtFazDJnCfh/sY1XphMMwB80jP3TAvD782aSFAHeNAHf5VeA3hcFZwf44/TbQSGhvhfXBHDNjiRmgv7HP/9Z/O3vf69Iv/P22/55QRZIAeWLJmVfvHSx+Pxz040fO1ZcsYkd881/+e1vi3dNwnedvuVjTQCH2ofFX9RF1CHh455Z0mBRAx489thGX/BFCKQ8hyr6Lyb75QRYf2gSPt+3xWrm8OsdiXu3SfkAGzQB+w7g36kkfAD/k08/STp8k+wPHDDAN/BPqqhkx88zcMd+FQD435j+nl8uOBaw37DPK/KJRep6btcu/1UgK6SKSQMDbQBfUD2IUO+k0Q/0B0v4HKDG+kUJ+FZl9jh4A9q0ZlBLSVv6WwD+MB4NTA/AH8iesROnBfhdOnx7g0QXOZl/krimKeGP3emsIO3kEuC/Zzr8v//jn+kEUDNTfOutNx30dOihS9pmsug6brOeuXXzlln33Cw0MXg+O/qciYBfed/Y4idSc/pYedoAtcHUOLpPi9+/OJjuMkufvXv3unP+WbtQx7CIDNizUx+J+9VXX3UAHgT4mHNKh886AAu2B0yyR3+/3wD/kUdsA5apdUA76uKX8z1zJ7sA/6viiH1Hl88soj7aZYA/+qLtMMDn6Wh3GaWejAJ90cAfCfCtgMqKeP1e8aP4CfBtwDbabL65dpYOP624mKn1AI5CfBHyBuDPZpQdWOyFn1TCrwDfAZS3KAEJrzP/5hXw4SpNRp2DhP/+++8Xfzcpn92pgPJrBq6HXn7Z39nHTRWXVCsJfLFX32DvLu8vIPyKWbNgoYP73qxkvjcrGdelnzlTStQbTK33hKv29ElDLQI/XX4j45DReNksftJ4bDAd/iemw//IwD7tC3jdJHwBPioWdENsmEJiZQE4qXTuVPb7WPkkwE9g74C/b5+bjyLla2JJi+8G+Kh0TLr/qpTwjxjY45573gDfFompBzVQ+2sw4PNs8H/oZQ9QL9ynol7cEkUm3afpgTB1yErHj0d2CZ+4Gdrhu4RfAv4me3ByHX4A/tDhTlvcTV8fOvzhvBolx+ICvgECIOETVCbhG+Cj1vEJwPTuqD/2mdSNVI5U7NYyptZB5cIkt33b9mLbtq3F/v37LN++6jn9yqR/dOBXzLIGlc+z5YapHXZKLhunAHx2w2IGya8AodmRI2+4FK+NVW6lY6aiTC7Y1bOI+qpZ6cienkPeEIZ0bn4X4JuU74D/iUn4Jt2zWEt/aCv9qQDfeOBrC7bgi4TPoi3f1f38iy9NnWWAb9ZHScLf6ZOKeFa0uqYE+NTVhPgWnUA9NSaBfQozwP58221lpWMTVloYR6WzgoAv3d5ozCw7tgBeSPizGWR/IeyFXzgJ38AA/Eh4v+TSPRL+Bx98UPzD1DrozNHVO9CZqsXNJw0sfjTwRl0jSf6AqUr2mV07G68Q4rDR5wweFls/+uioAzvg/rxJyEjk282mH8C/ZdY7t27ddsAHZPlFgfvVW2/5mgF6fKT+T22d4KhZ6vhGKgN9AT4S9/O7nnPpnslH1j0V4Nvu2u/sl0VHwk8qnf1ui28TmJ2RA+Cn/RKm0rH1AkCftnyNdJ8B/psG+LSdPk5bpdNawu/z+LdV6QDumK6uszHEOb8sjtnCJ4mMfv0+S2od7FLp1CX8/AMoAfjNPA3Ab+bLpLEB+HAQwEfnftUXSN8z0PcjFn44Z5I5Evk2V7cilEn1AyA/88zTxWGTuLGLd4A2SyxZZr1vNDDx1KmU6L937thpIG7mnQbk6MsBWRZ1z5rD5h+HVdBbb75ZfSiJTVOodaTDF+AnCd8Av7RSS3blpZWOmYl+Z4CPOulzU+l8bDp8pHvc/n37/BfLI48C+I90AT6/nk+ePFmtT3xhm7YAeyR8Fmx37txhFjq2S9U2X7W/pijhN1TaD/A9KxI+/wzBAXtAP4F9AH4DK+crKgB/NuMxS8DnTUsvnL1xJk6XMrX5dt/n6vOrvU/u8aKpPdXjMr4TQZeO007bS5eR8C9lEn7SXaNWAaA3b97k5+eg3waEk3XOM+nQtctXHOz/75//O6kUrEKkeqT7x+zMHY5rYPLgmaZOVD6SzB1gjaardMyMF/PPj00lc/ECZpm2aPsai7ZS6QD4HPVw3yyiuq10dAaPJPwK8Pfv90Vh/0VnEn75E6fa6CXAP+4qqa9cpdOR8BPg5wLq8BFYacCni6avN8BHrVMBvq13sB7Bo5g/jXl4eN/65wgJvz9vWqUE4Ldi08iZlgvwDd/sSgArwO/AbXezPWt31NTu/IVG5PPLakr/HXhR1bDR6UNbJEU1g1klZ8mw0Oln5BhASjefdN733S6eRVQsbFDp+CKsAfh//+UvxR//9CevhUnv6aefspM1n3I1Sq5KSYei3UoqBpOcfVHWfjHodMqkgzcJX4BvVjpMMKhYcJyMyVoC4IXa6e5d9qeYHb6pc1gfSIB/zKR7LdruL/bvw0onbfhi4sFpbSzp8E/4wu2XdgbPW28ecSmfunbt2ukS/uoD/CID/AT0nCWUFqC7Ab98MCb2AvAnZGEA/oQM7FN8OQFfEn79FRP80sRZgr2zwH91dJhBfQCegFq6d50J/9qrqGwOpaMVTKr/Avt7s23nFwBfsONsG1eVmOS8b9++6oiG//vnPxd//M8/+SYlztDX4q7WSmQ374u/ptphEsB4Y8+e3bapak9lRfPZZ6WEb+sJWAhhFw/gsyawCx1+pdJJKgvZ0+eAzy8EFmu1cLvfwrQDJ8CXmagv2Jp07+akps9/68ibxZsG+kmlA+CXZ/B0WDgkNA8Svlkx8QtoCRt8qXPmAPBhvl7AIVxcuOQA/NkMuZ43ARGSn0ugpYqgXqsAknN08qMVmswyURdIpWOPtoE5pdP5OqKbg73iyDWry+uzdlWXNYx/7Ii9fOVy8YmB41Gziklny9yp7PCRznFI+GxISqqPk67XRrLHfBOzTBZeWaRFwv/PP/2Xb6pic9X+fftMd77HzTvZaa3FUtpB/WvNVBCTQSR7nID4GIBvOnzahoUQdvgJ8Dn1kqMV2Gne+SKW79A1XbwDvp12yYRx1Mrvt4VlgP7AASx1XigeM9NRdvQmVixVG8V8sdb0/mwW+/77s0nCtzUFTgLleGUmL35JtL+sd1K0NxTi+eD/uJdIiwS+4ow5TnrJIuYO8BlgLr2AfhN/Kg4E4FesmGpAz9vCAL4jg+ABVhog2at3xdQwAOonWNcI8G3nqTZU6cgEjgz+1lQln5ukD5g+auffwDt0+YCxgBrTTkCfyZMNTpxhg2roGVvYZXOW+N75Zm3SMUOP4xVQGbETlwmIoxV0eBpg74en2SIqKhZrvk8YLEqix9d74msNBtqfHgPwj/ovDAA7Ab4dBmeTDusQ2NTTFu0EBvDpFxvRrtmHYFDp0DcWrrds2ZpMGa2e9lcAftFkpROAP/gR0oMsXaMWuYjnZ3HTJZ7Kb8ozzTi9xNSHikAWG7xMD/tZOuNK+IP4jwiUQ/OgvG3TJNF28ncDvuvwzZzSny/Th3NcArttt21NHzq55KqVS24uifpHRyiwsAngY67JBIApJTtk+TAMz+fBA+lIg+1uh7/N+pV6ltYC7lUTAMcrc9SCjl7AtPM92xvgRzqYSkcbs7DnB8BRDfHcYTnjZ8SYBM6vBSYwnOz4mXhol6t29u93SyG+2pVUS0v+C4f8CfA/N5r2W8xo0i/USHp+9Yx3+DcsFIAfgD/sGWlID8BvYMoUovQCT0PCB/RBCn5IQ5ew/yOulETrKp1BXZgJ4FMhbdNlDWOCZsEWwHMrHTu7xj8paID/63ffNcB/ywDfPjhiTuaTWM98aoenYbGD+sOtZ145VJ2Fo41LHJrG5I9J5o4dCaTZhAV/AFsmFoQYwoC2VEc+LtbGD+3XBoDv5ptWz949e13Pr7N91gLwpmIB0FHHSXLHxh/1Epu/OPPnxg1bhLaFaCYK3FP2KwPAp841ptfGJJV28nWsM7ZDmEPdSGeCYacxn1ZEUPVxFe9a+QH4AfitHpTuTAH43fyY1p0Di4HPVADf9Pql1jQBg9EdB/BnAfR1fiXMZyJKgK9FW9Qn2NDfs68/3b13NwG+6bABe9Q6SOR3LQ2zRXT5stpJH0A54KdKYiOPDv20OenSH33k0QLbd00cLH4ikbNWwIKpVD+77GtUWPyQ91Gzk9dZOqiRvvnmW58QsPhJO3Gf9E/2QYdPLHJm/7Oua9/ukwBgTpmvT35dtYNJgbEGzKHBrwGsVa5fv178ZE6/nGkDG6322ley9traw2OPbfJfL0yVjE/7a1EB345H5huZfpaOzZT50QoMvtQOegHbM3Qxcgbgz2ac9bxNE/Al4TvtUtp3YKULjrSZhN3TrXTuTp4jD48GNj3EswibioywAJ+ji5HGOV3yU9vshG07qph0WNkrrtJAreHvqTXi9JnTZvZ4ulrEldXMnt12Tr0dJYzOHXfKdP6YRyLF47Qo64Bv7z114DZtSp9S5LwadPP6hCKfJ0RK1xEMWPJwfo+rfqwMJz9CK0n2m9MhbCpvwM6RDOdsAxlt/daOcPB22KS10dJQP0kllCayu9UOYn6N8Etgq6mymKSYgJgsbADNjTIKKW+/Emni7f7RlQ3S8GBJWM8I/lws2v71r38zwD/v+jkGZxDgD+olL9EiXgH4sxn1SQGf3aK+LR/gKiX8LsC3xxUpP6l0rA9DAZ9+dp7xTkj9TxOC7sbxaUv+GgHiSLg4AXR63h4UWLegRnG7+MeTSgOeYZKJQ/L+9ttTlcTMew1YukrFjk9IqphzaRHUFkKRunMn4JfEreOVHzVw3WBn96TF13PpW7NnvqsmCH4RAP5YzUAPCZxJY8ezyZpGG8NQQf3003Wjk3b08qEX1pQ00fkEZkz0icTOumdhFnURqiV+AbBJDCE11bXO+NY7Ir1j0A/ee3NiQTONS63Cr0jauPr9Sljp/PUvBvh24h0LMgH4ow9xAP7oPGtTYhaAD2CLLm+cAz6N4d02wOj3iqeX1l/Rrqan+BQllVFXhhFuTMHQKKC6OaUdc+xAbufo+PNmgMH3bJFwtRirfl2/cb24cf1GdeQB0i8OK5zqPHubAK/Yrlt20rrVS3kePrTTYuka/+IVwM5HUB43vTkTC/pyJgKAHHC+auUu2YIt5/skCf1umjRMdy860PD6OfLB2qBfAHdtExZqGgwIWKe4bvRy1Y2An194SP3PGNhvMRpaPOZQtnR+fNL1M5aDQZ/R7TfCDQPlz0dz/ubYBhoWpWfEnx4VXEnA/4sBPkecBuA3D9iw2AD8YRwaL10ANq5Kpy7h+6tnoO6ggM+ryFtoL2F6D5sBXy9syty5o1f53aSAL1oOdCVt2uoqDfu1ctN213KKJTtYOate37KVJE57uABeNjmRH7t7JjLooEvHCUhlxcOEwtn5/ApChSO+ANJI6+lLV0waZuZpcVzwS3b1P5ukfsPqSqomWfVgoUPVtgBskwPgj339RpPKNQHpveF7tawV3MKnLeW9t9NO3PQ1A6t7k5lq0meX6O0XBLThmftuwuk39qffRavTSPfLQbyPA433vM35m2ObqTq9ku58SPim0uEDBkgK/Nyqq3ToBsyHsYOuYemDyq7mND24/qKZxKLFJeJ5gZou+MklvynPNOPSS4H6YnHMMgX4jME9AzNeZT8vHaAon2V8jUEakeZnPMXytzm9GqsHQ9KrjA0BL2p/bIz4l4DX2mfPETbxLNYC/nre1puaA/BLdu5lvdYJpWN2iQkl/cPxCUAAHByjr+mQND4uklRfKkfLYI8mEvdLfTxStdrnxx8bXadjEwxt5EA2XeqO31u007FvznLImX971tth5/bY5iwmsPvWN+nrmbDSuDyw77ymfvrisbXffznYYq760aknTQCqv8ev0DZPob0l78roDj0iOv0pkxtilNLfVw3uG88gQrh741UyX8Uyic1YjIHK9ac8esrS3/76d/vE4UUD/EdcAmgC/DZk9RK1yfsw5dGLEoA/3VHVJDWuhC/JWHb46Q1KtuGE/WVqAfjVS+dgXt1Nt7MlNajnEKPaiAMAedYcCC3sh5I5KihXygMp8shxD1VtZEr3nbwVTcsDFonvyiffT70sN0M5/6jbLq+HdiljSUe33e0w49fSzFNlU75OezWRqDztoUzlk1DWrTzj+XS2D6h2WNpIOu9rY4ZapMi5D5NT1d6NaqetrXn4fgXra+pvn7bVaI96u4QOn80TAfijsi7lD8Afj2/DSgl4pgr4dnwC37OFtl/mA0idS69mJ4ZQEg5Ja07vzj3lO6+SPwkoOq3thKgxdaM7Lpd5DVKdRNU6I+l88Gj9oiA1lRJQ89UqjkkgVmMiHvokkop0ynW108qa1A+tRMe+cWs8T98UpmC6Uo0WLvvK8DT1R/mn43d45dW2JNr5Edcp37Jo6h4ds//UST+XHfD/+89/eXDJzLQ22tbpfiqdNh2qXqI2mR+iPAH4sxlMgcs0Ad9kRX/LKsApkaXz6va++h1NgL+is+nsKFS9ifYHIO4qB7B2Iuha1ztpad0lnFBZgILlvdMtCZknoHZ65CnpAvY6d6erng6Z1EbRK0mmakqIL/PSCI/xewuZr4lCxcqGTtGDMhPd6FcC/dFaRj08Sz4G5vu9/Vl2wP/jH//zAR9PAOzZxca2aEyw0Jmhd2t7dQ1620IPQb4A/NkM4uiAjxSJDjstakql4/ph6fB1QFr5tuH5a+tI6ZFZZzzF7onXlcI5sCqlpNS5nVXI0LC73Z2KaBdg6VeZr5NqLVSX8shaOAFSNjVYoSTtk7FDIOnSbUGWekwNUTKya5Lxcl6sU86ra2gbDVfTCesXhudvoOEU23SoIlAP1NpUTx56b+WrBg/N7FnzcfPn22IBfHe2uL3OrZukwhqJ/PAGlDmW/tf/+v8esFLPLjkc5l5s5AjAb8fDAPx2fBo116iA75KooU4aD1tM9EVLOy+GBUFzSSBBwk/Y5PAy6IW197kDCVlGj++kdPUrAyDP0SdbV5n6jVWV1VZPtfs8tbsC7tSvPFcDkSqqm4JFW4Sk0Ar2LQ6+YsnDrEE3OToBs0gtMjod/nj7qb0qXdVFILWrbF3p5RkUVdGrEkt6luAhb4fnqnIQ6C3XlVy76S1fy9B7W01Mo5W1Yp3J0Irq+U6AzzEUCeh9IqUO8vfWPnHM0r//+//7gNPvkOrZoo2tLpsbsADA3rbtlV6otrkfnnwB+LMZS70QbVU6Uj0kfbFZtWCdY07jY2Kog2H1mvrblL9SVYp3KGE3ccpT+gBNU5cb4mnLqNek75EAf9R6q/xZP9R+fH4xYdEj801ZzYARrglQV41N3oaKoAXEwjKuJz3P2yecQL4zjdAmta+nyEh89wb3kBgUkbqjDg/KmaVVIJ5KJ0AvJXxMVy1CFldJVdbDtozY+MGlf/u3f3/ArLJ9ezqECcB/4oknkvkTP9VaXpM+qC2rmbtsApSw0pnu0IwN+Mh/9i4ixAD4gAKTQXp9hr2qnZc4YYbuUzk7QL0B7C1P+t/AAJVvSOobVdbVN31wAkAyHlQ09cN4aXoyTC5v2/do79y5nTZYmdkkEzGm3AiGOOpU3clXO2vwPmb3qvEoWcoEkOJUT+6357u3buQ2taevVlW8sYg0RIkvLtEbzgL2ST0G8CdejtwsVTbAX/o//+fPDvjp4CPbVWe76djNphduQNmupAD8tHMw7PC7Houxb/T8tZXwHdhL5AUM+PgGNvgJGHhBO69Pm9e1F0w65XNapRJh7H6OU7C7bb29GedddCrdhL1prsoxXt6y3b5s5PKNWqYC1hk5G9jJa+t9VZ2AVdapKj6Ly4OpyjQ++UTRic9zd4fznud1dnI1x3bSbSQ9y/B8nTLUmtfcSRkasmpkBJCq7ahx4BptSWA/Q8A/c+b7B1Ty/7N3Jm5WE1kbj2yiso0giKB2o6go48o4zv8/8zwznxsj7iggCiI6omyyCHznd07epJJbuWu6ge6ku24ltZ46VfXWyaklj9oWaLZBa8SeVFHtws0avh3/YX0eJPyVqTnaE2ZqwAfay36IFTtSkfChTx00J6GLfnqjd0M5NICrdqRrNi9Sd9e2h7sTNuOBc+NiaEoue2i5hKcHqkPGYxmSB8tqlMIk3bG3dboKpoFTRzZcu36tYHftTlP77tq5y+uHj6O0y58+p6Vv1kdZMxXdyjVxr53srg4YadYpR9V54YPbtJ9G3K4HCzddQE/AOaSG1pVkh3sV1248S/txyR5NSkkDVEOPm450FnF+xM6jvkfH4tUiPp4b97MmOgD+IOHP2mbGhZ8d8BOAtA7lkqlNNDpIeE+L3Py27Fxp/tbq7ZGeFq5hZQMqSBrde2gmdJle1qcZHzBr0Nl8TgM3BgIP1go7TXZpgmPudTonZ+dcNnP1qhk79AzVL4bjEjg2Ib0ohpOQo6NFalU/ZQRFIY0GQ/yZnxLIDbMU1r30XNlVyCpm9kbhs56jjk7XHIAf5bH0LG4691ABvrKyQlEuI6tZPvkvaD9i26+dFs+AH7vobClR0+QxAP4A+NO0k2nDzAP4adqszAH0O69o6u5dtnq7r9t/Z7zSw0OW/SWcqi49KWqv/nU/TfNPCjdlbnU6zf6PWgyjQ9awr1y5HKdX2uFtnM+DCpjL0wDQpswzF2yUr7lQ4ZZijuLJVqz2s9xlT/JXuMpulM9jV15+0/AvWxTtpHSHRymvQ4WTzJVaUFIlCnbf1yOWeWf9jPEaoSNl/ojnGnYYVDorV7m8dXLYltQ6rAzRJFc713Yj9nqxpt3ZadwjfOsw5V0DyNs5dXXENgWj8Xp3gdzesgWIAmgoocO2PQvwOdUSsJftp3XaEu4a8APIAk08the35nC41c8d3LAALdm9IyC0RmoKEI+hEpEbqXU3gunzqtPjjrJYumN4L68mheB+8KlOD3oJFTHSMrTj1nHmvxsL+CQr0G8zd/4s11bMhxXw+Wwer+nsuWAZLiuzmIh7EOqZNgcdGMB+WsAXpHj3STtW9KKxDS861ySoUTcem9TqeMKfMqcVoSqQ21c6uYRvgP8boG8G0H/KPoe4V4BvUj6jxSiYlQTC/zI9d0nqQ2WomJb4VW6ZG4+XhE3Tabfh9nMmud6c0mLmEsU/2mn4Bt38UotmrEwqW1qmXFrzuE0EfBJVB5wng7UeZwD8/mtY7W1mwKc3WS+hyzj4WAeqYXESnZNC0iEfnGs1QAwephI+n1uUlL/XAB8pv33sMhwinq4cnTk3hZ/W7koj555zmzafecIlxc9Gz/vDsxB0iLRSNE8F+FmqB0fnwAD4/TeERQHfKaoxZ0oCHw7AXykg6GKSb7iyTVdI9VLnAPqjKp0m0Av0U3p1L7srz1nd50lvnjiz0kX4PLjnUmo22JWibwD8HO9ncBsAfwZmTRl0IcCfMo92sHh9nvQS3eyU7TRW43mlgKCL9hTwJeGjCpwE+O30UrrT+3a4WZ/nTWveeLPSR/jpQL/ZtlaKvgHw56nBJM4A+AkzerqdF/Cn7FkzUely/6RxYKYU68CSgmuX0buV6vijOeVd/BA621nblvBzKh36Qkpvep+m3uWehpnmft505o03DU2TwjTBvwnyiruS9A2ALy7PaQ+APyfjxkSbB/BJbhoAHZNt1mslO9809K5k/tkCtxw5MgTQB/CR8H09vql0JgH+OLrH+bWy73ycN41543USModHDfqjgL/S9A2AP0eFpVEGwE+50c/9/QT8le5w/XBo9VIB8DGphA/oC/BZ2cXErfqB+Cc7R+k4v1z4nNu8acwbL0fDw+g2AP6CtaaG/rAdnrbWlmVSjdNIzJOqe70DQps/4wAf0NcqHfUD8U92Oz2ex/nlwufc5k1j3ng5Gh5GtwHwF6w1NfQB8BdkZBJ9Xgk/SWK47YkDbcBPVTp8LEkbr9QPBKiyc2SM88uFb7vNG3/eeO38H+bnAfAXrD019AHwF2RkEn0A/IQZ9/n2QQP8eUF73nj3mf29Zz8A/oIsHQB/QQZmog+An2HKfXKaBPico7NaOvx5QXveePeJ5Sua7QD4C7J3APwFGZiJPgB+hin3yakN+Gy6wqC/l0pnNQB/XtCeN959YveKZzsA/oIsHgB/QQZmog+An2HKfXJqA75W6wD2KeBTZ/QFAazsHNnj/HLhcZsnziLxuuh42N0HwF+wBgfAX5CBmegD4GeYcp+cJgG+VDrUmeoNUrsAust9Un4Xe9sAADP9SURBVPFWO94keh5W/wHwF6y5AfAXZGAmuoCDTj7taZmZZAanHjjQBfhS6QD4mBSQ0/uUhC73NEx6P2t4xZ03nuKvZXsA/AVrdwD8BRmYiT4AfoYpq+wkiR3AZ6etlmOy2xajs3Qk4QOyfKugC2y73LuKNWt4pTNvPMVf6/YA+AvW8AD4CzIwE30A/AxTVtEJ/tOudTQygH/NvmOLYcMegK9PHGod/saNG+0TqRsr0CcNXV0g3OWueJPsReNPSn8t+g+Av2CtDoC/IAMz0QfAzzBllZwE8jdu3Chu3rxZHZnAM0YSPh/NwSDhP2bftN28ebObTZs2FZgUjNN7FSPnJr9p7EXjT5PHWgwzAP6CtToA/oIMzEQfAD/DlFVyErDrQyfKFik/Ve1s3769wKRzLLrHTj9FmQPnnJvymsZeNP40eazFMAPgL1irA+AvyMBM9AHwM0xZJSfUNlevXi1++uknN7du3SowSP60dflLlSOQ51OZGD6ViUG9g6TPlQPnnNssRVw0/ix5raWwA+AvWJsD4C/IwEz0AfAzTFklJ22sOn36dHHq1CnX2aO3R7oH9HkD+OOPP6qPy2uVztLSUvH8889Xk7lS8UB2DpxzbrMUcdH4s+S1lsIOgL9gbQ6AvyADM9EHwM8wZZWcWI2DhH/y5Mni66+/Ls6ePVsA/lL1oNdH4t+yZYsbJm+R7I8ePVocOXKkePrpp90A+G1dflqERQF70fgpLevpfgD8BWt7APwFGZiJPgB+himr5CQJ/ptvvnHQ/+STT4qPPvqoIekj7QPogP5zzz1XPPvss8WxY8eKt956q9i/f78Dvlbt5Mhug3X7ORdncOuHAwPgL8jHAfAXZGAmet+AT3rTXusdfLTR6rvvvnPJ/oMPPij+/e9/F+fOnSu+//57/xgKbZ6VOahzkOoPHz5cAT7r8/fs2dOYtE15n+Nvzi2NM9z3x4EB8Bfk5QD4CzIwE70vwBfQy85kNeLUBT5d7iMJPOQOas8XLlwofvzxxwLA/89//uPS/hdffFFN4GqS9s033yxee+214vXXX3d7586dPmkrfsmGLel9X2xaiTT7ou1BTGcA/AVrRR0EyUgrGrBxZ5IrdwmAZOfC9OlGp8CQH+uoOQBrLX7xqs0z8Vd22z/33AUgXe65NB5mN3iFoX38+uuvxfHjx4sPP/ywOHHihNvXr1/3dn7gwIEC8/bbbxdvvPFG8dJLL7mkL8k/5YF4Jzv1W/R+JdJclKYHOb4B/t3yffeRB5nOB5a2AfD7rxoAh46M0bK/Rx991HXG6fruaXIWgE0TljBtAGk/T5vOwxgOXunS8svPP/+8QI8P6P/rX/9yYQG/l19+2QH+nXfecd09evyDBw96HaHfb/NNz7KVT2qP80vDDffzc8AA/04C+APoz8rKAfBn5djk8H0D/uQcu0OsJxBKAV9vq0zeslrn/fffL/75z38Wv/zyixsmaFHlIOGjztFHzdPjFeCd0hQfZbc53uXeDjc8L8YBA/w/pwT8YTDIsXoA/BxXFnPrE/AXo2T9xla7/uGHH3yyFsBHwmdDFvp9JHtUOX/9618d+LXhSgeoAeAYAb44KXc9D/bqcsAA//YUgC+wl726RD7IualjDDr8/mqpD8AnDZn+KFs/KQmof/75Z5fopcvXZK7AXrp7bcAShwB2wL9dB5MAX/kqnfVgwxOuNm/k3icPDPBvGeALyLF1n2YjN9mp3/q+HwC///qn06vxz6PDJ77qBbtr8rx/ytdeitqI9dVXXxWs0tGRC+jwAXt216K/Z44FwwX/NdfCvcza405/JWqrwtT++wb9EvAhXGCOrXsVSM+y5T7YApZBwu+vLQAQavCzAD7xBPBs/2cTEfXCRiGuduch/HA1OSAeif/wkN21rMFnbT4rdzCapNW5+LGzdrMlBsAXBviodDZUz3LHHnelVVIKvuOCl36TcGl8nlNkMEWQSTSkSUAP/FGbfMT2NWz1BQrwUeDPoMmlOvGHBX8euXvvpnPDsifpMjnZPHa5l0HXuTUAfv8NYB7AJw5Gk43/+9//CgyAhZsALKVWgC879Vuv99LBYwM8DJYY8ZNlmRh09qy537Ztm5uQ6DeWbGuCWTjGQOCAn+CvuWZY3YyfAn8MCHUcr9cKt0aTipB1+NEQfbkEgk5KTfREe4wPxjA4sq9h9+4nfUMbS1uDnwH4pNkX6Bvg3zAaRGwXuMs9HQgmFW19+A+A3389A8AC6GklfOJQF0j2ABK6ZowAi3NdALD0GoA+5Ubci+/wCqP2zVJMrcHnrUln6ch2DHGJvganNkjl+J1zEw2yocyRB+S3ek7h28OMFqNyScNWjit0MxYd01GL/MtyiL9PPbXHVjo95UdOM4jCe0BfV5uXcp/VLgFfkC+S2zbJ4iYzazZrN7wqbFDp9FfHgIA6+6yAr0/xsUsUA9DzmowBnLhIW0AzTUeaJkx/pV/dlMQH5aqyCnDwx0g1xnwIg6gkUGzCpthAeKWjdCvJPgG+dt6EDW8k/NqEezzX6T1cd41yGel/Gh/99FETUBBSdu/ZXezbt9ffmnS8dPA1yjnKz/nKb4D/Rynht0E+99x2my/TtRRrAPz+a1OAQSOfBfCJxy5iDGe/APhIS5zdrnTSjpPe50oxyT8XZxG31c4PWlPQFd9xhxYMbqkBpGjzolXhKsAnPPEjkUqS5bF5kW7tIkDExdOMG7v3mzo/HlfiKvOZP2krTFKekXSiIF4OBkkJiPrQDKeO7t27x78ihqqs/UYqfo+kO6NDBfiKZ9Vst176lp1zV6z1aw+A33/dC3ho5ALqaXbaEq8N+Lt373b9aLpssAapbtr76mDdOTR9Vju/Zu4B/PCvfdG+U8Bv+/MctKf4kAtVupUDQpqXo00CiJ6m/wiHIm7zqUyvL6vMf6HkMvxTeuKs3oiYCGd+SXMju3btdB0+unw+HbmCgH/daBErgXvu9Qy5epYtN+zhGgC//zYAGAiUZwV8SUyS8HV6oyR9qJ0GXKcJM0vJ+05vlrynDZsCO/dq29hcuAFYqhulG2UL7BCwya9tKw/Ee8LyxoAJ97umHopv4qLO2LgxdNgWNH+lHg5ZKW7lo4xzXayOmm8suXwoo1RlgD2qHPY5XLx40UA+AB+wB/RXGPAhLwA9WBb3QbTuZSts+K73X3UKvaJplQjuNOTcRcVzyc6F6dNNHZT81vLhaZSPj3cA+uwQPX/+vH+BieN6AXy+wZpe4/i/WOdPc4n7vtMbzWFxF/iBUduVXQPyPQciwEhtSuUKG4CugY+05C/qlL6eb9wIHfbt26wGul08tvWx4rHHH7M1/bFM0cNBV9wwTsRVucWj41b1llCGmdnyVIzmmSOWdIm4THzzwpcBE6PFBYA9exv+8pddJuHzNrpqgA+RbQlfIJ/aEY7f4SoqKWgA/P5ag4ACsJhVwgfwmbhl3XgK+IA9oJ9e5FNf+V4enT/vV8edfNcNIko7aGmQNDnZKkR3+lWQ5k0JQKkjaYQAE5O0tOmbN5FEb5h7SOKPP/6EzYk87pPgmzax7p7LgL0wsE+IcN5SmMRNYXFmECHNX3+95GoNCUror5Fyd+zgI+k7XAwlDaVXcmkUYMPDQTXaT4lmDrDEDzqDhnG/oeMYCeHVpLoa8Q36ymFp1Ld2YW8CyzCvX4/VZA74tppslwH9Hpu4lUpH6/EVsz1wyn1W23T414wVdUGiuFoOhHvbkEUdftYM11r46CB3q0kYNVxJR7nyCmhk58L06UZjwZDfepDwc4AP2E8G/NF2HXg16t5X/dTpl4hlCQc49ZVDOx3LJ/7JqfJM2wgH6N4woEftcOnSb9ZmLhW3bt4qbtp+Bm20AvQBfztt1wcJgCzSIMl6srfKoLxRPuiwGUzOnv2+OHPmjG/uou/wicR9+/b5R1SQeEMiDsCu+4veImr68YNuBhJWwGwE6E0txNsIxv2dsXWcNm3x3F3X0N51BW2T0jbOTAD8VKUD3brG5a0w09gl4BM0ChOAz32XqcNyt96vAfD7bwF0HgHDIhI+enxOcZRKJwX86KBBew2wpXTX6NeNh87CjsGCMk6aTgoMqTtBA8zqgQCQyA0CCsdgTrw0nfCrykgBEwIrdwf8iOf8Jhm7oA6VAwYJFPMHG67smSOQMTos7R6qSzOqr7CD3jofT9Z/8AfEfQOXre3/yk7i5AhmfSv3eftkIp9N3GfAT91Jlx9YbeXyVOw3/qt8b91iALnlgxQDVewP2GwbmRiYHrdYqKoidk0Nz02+NZ/rkNxBe+dlBNap13ft8OMAn41XSPjS4a8Q4F816lSQsvIbYI+0j7sMRVB47tf3NQB+//UPUAhAFgV8SaRtCV9gJDtt381+PX1bb8Zr8yUGk4CCGhAAspoGo8KzA8Q1+MS9h3HUi3SBFx43EM4ANPhVAy1AfNcCIIH7Jy8IF4knhKGKsQzNXekrrRsAvgEnajEMqjLM0tKSmeeLv+yy1SQGTrR/8hAmqN6USVo23PAH8D09U719Yh9W+fjjjx3wUSG9+OKLxQsvvFB9GxfQi8nbqAfSS/OLN4ANPm/DCq3Ll1mWe9lBnuW4LHfEcFW0kEa42K9zYOTZvdOfsl5Sp+Y9Fen/5hypN/3jqRPwTY21e8+qAT7EUKJgajxxn4K97sOX3+GSznNQ6fTZFuiYAo6VA3woDtCMDqq2DzDmSpN1TAJ2xUuCkKNJmXcBYceEAAaB7ki+BDJH3CM8jwaYZoCs0tvd6LtpOHgYYFzbAZaWpkeELuIAwJQtygeAog654SqXm9VhaQJ8fbRcnzIkFa7Q8cdqnnCJ3wDZKCcuG1ylsaG4dv2agf616uMqkvABfIw+hr6JHadm1B6cSqNZtgCftxB2Vv9cvpFsL49+IJ1nntkfq1422AYx4pqp6co/p2WY6d54W5e2vlMaAvw/TId/zd6apMPfmSzLRMJHh7+CEj7k1JUeTzwL5OXHM5ezO27X+e8g4fffAOiM6uB9AD4qHSYAmyod6E4BX+UAAHSf2uZ4L+sRgcyrhKE0UnUfAB065jt3Qiqm7cQyPVuCaCALeMVgAEjHBido5F/82OgSLztbA0xCh677CEc6AWi1QMIKmD9tJQzqF/LlojQbbOnjBgNC6Ni0ie38QYsvQjCJG6mZeR9XwRhAoV/HPG4raVCXCHClUvFBBqnfczAqAUAGmPKSbl3r0D/99NPiv//9r6uPbt64WSwfWi6Wl5c9D1Q6KeCTFyCI8ZoowZsB67vvzhanT5/2yfqzds8kKJI9aS0tLbnEzwFlUVb4A0H8UN+jA0BJ7hyWpRn/ZfrNJCrAtzcoJm4vlt8XWEXAv2LkwT6ZIDAar9ywAfsB8IM79e8A+DUv+rp7IAHfwZ5+0HEZaIzxddBDxXLT1CRIzwDq7du3qjNpHt1in3C044Xv2oTjHQN7TWpKctbxEPUxxAyKRaX7ZhDBbN5sR0nY6hmkYgBSZwlJJ698o78XDqiA/eOm/kDXvWVLHEHx55+xKoclrlfMII1yng4gzJkvW235JIOxAP2qqWeumMrntk28kgdQ6kAP4CcsE/2Kx5HLgD5pI/UefPagn8TJhC2ADU+J7wOLFRg6nzA6N5UScKiu7hbfnPym+NKOcGYCGODfZSondOIvHDpkg8ghU0HtKgBV8TkGUAjrG/BJsyx7o+ThXgP+DR9E9Wayc+cOK2/o7yn3Ckr4ecDXAFAD/wD4UWXN3wHwm/zo42ktAr7r003y9Y1hAOi1q2auO8gCtHT4HfYWcpvTKQ0wL1+57ProWPV105ZCxhERvKVsNxMwes+XoLIqiQlLVtJoRzGDBxOXTGAyeIR++7KDDOCvSxIzb0Hp5DbtmhUvkvDJA1B/2lQkrKSJ43wfs5NIY7KUDUSoU5jY5W1AgO74UY6EuO00VcsOW3qpNzc+n/jF51/YYGHpm4rn6afjDYJltBgGkFu3bts8BaqnDU7jHhsMnjAeUFb4Q/m+/PLL4rPPPiu+O/NdcfrMaT+ThnmGpeUlP7OftxIGq0iXw8nquYF+JfzgLGWNoUqcDnsawEelQ92tkEpnGsAH7Km1QcJvVl/9yuyvwN44aaC3/LWZDpO7ojFICsiF6NctpJl4bV0fyzKv2qv9WT9PRzttJ6t0SlRyiS/D/3HqHIJ79IyUXybLChGk9dhZ+XPxv184vvkXkzp3+S7L/U/vt5Up+0rgNt35xZ9Mf36hAvQA5N0GeE856IXK507ogE0tAOBjkA6fBDAM8JGmvb5NJQNwM5l5y94qXAJ3QIr2S3uUqkbAT5sBYLUTlHQuXbpULC0tuQnAjvRZuqlPH8YAdcsZSLrxRnHb+4PyAXg1B8A3cwHr3yyNS7b8E8ke48BsoM5SUAYt+hIGOp82A527zUg1xJsCH1s/e/ZsccakfAZPJPrnn7MPtDz3rOnxn/F5AfgTOnJTDRno85p0vwEf3rHvQBL+fQZ8Sfa03LL1VrbX67r+GST8/qsfYNAgJUlw2rN0kBK1Dv/cD+dip60dPQuAjNfh1+07A9uTC6muYX2juiWWAQqXJGZ9IxZgwkjyPHz4xeLQoRcKVscgJZ85fao4ZYaJSABhaWnJlyvKRh2EQX1x6tQpu//TzcEDB4tnDjzjKgHUAuSHQWWCkWoIephAvmpvGkzIAqAMjkzKYrZuZcDYWunEL9oAdMHo4Bu2R48eNdXIFpdC/cMoVg4+bs7ggFS6GR076/JNKmeQwAiwl5eXvSwC9m+//bbga1pxnPVPxS6T/gFqAbMEqWvUq70FMFjAM1++aV/bQmXFW8DnCeDzoRbqe+eOna4iYhkpgI/Rqi3ng9FJ/dwvwPdlr8ZT+DoAvneTB/9nAPz+62hxwEfC/744Z0DnEr4BGWqQbdvZaVvCsQ0qrluW7e7hV4aYr2AASBqzfGayFNAT4KPKAOgE+K+99lrxyiuvFNcNlK+a+fLLL+yTgp9XyyL5nCCrV/i0IDabljiWQOlYMbxsAlR4SNvUgKABlPXzgKH8ObwLsEaFAAiyJHJ5eckkcN48dhWnbTABlH+0gYflmceOHSveeustB3Z0/yetHF+YhK45AuJgyI+LE0vZD8Fgc91UWK++9mpx5MiRkNBNkj958qR/OpFwpA/QMxjAl30G7myiAvRFJ0stof+lw4eLw2aYxOZNBF6i0pGEzxsEkrJWFe21NrDHDG8/fzFdObuEGZycL0ans89/y/pz8hs16eWZ9gf+KtU0jg+ExhveWhzwy9VFAD7HKmiga6t0SEM8TdOb9f6Ru/faKh0VEpvCS50Tz5GBwsya3doLPwB+/3W60oBP622AvXfOtH0vUKYOwKedMBn700+xfJCJyhO2Bl07K5GcX331iL2dxNEQn356ovjEVq+g2rlocRgMDr902MK86qD/xx/XDTCuO9ChEtmyGZ39owaC9qZgoM0cAW87AD6ADYgCJlLZqIRI1oCtPl3oA4ZJzujq9+9/2uKeKlC7EAbzt7/9rXj77bcroKQcx41OnYHzrEnTB8xoQEG9whsIk5OYd955p3jzzTedFsr+5RdfOh8umPqKN5n9+58pDpgkjhrm4IEDvqrojknxP15g4Djv6lKkegYNDHMC22wAIA8GP/I7fep08aRN2DLYH2LSdnm5esPja1K8NTJYYbhqIKVV1NhWu3uwmX5WAvAhYBGaPH4e8FXoAfAn1fIA+JM4NLt/P4B/1qTpUOnQ8VMJvwJ8g33HeuB/0iqcaYvRBfj3YjkkZ8f8+uv/iuPH/1t89NFHAZQGQn993QDfAAzpHhXLiROf2HLF466DR38OaKHGOGoDA0AXk75XK8BnVQpSOdI/K1Ncp24AioT+jQG+gNjfeEx9wwUfUCcA+kjXvH0AkEtLMdHJd2sZLJDCfWA4b4D/7t8ctKkjVsgA9h988IEDOAMK+WNYbYR0not/zECfiVskdaTy/xovfrH5DN40lDc20jlvRQD8D3xT11RHl+DfpV+Lo68dLV47+lq8wdlgdsbUON9++40B/2kfoHhDYHLZ+WEDICCPWpClpxs3xlsB+xkMQZ0X7R+A1X3qn3aQsc/dgG/pWto3btxsSfjb/I0EHmJ42+INpH0NgN/myCo/D4DfP8P7AHxe7VElAHBtwK8pXj3Ap0yssQfMmWP46MOPivcNKAMYCteLHzEpnt2tHGPw2eefOej78kwDB5fQTWp9/fXXXcq/Yqt4MIAx6oyDB5mYPFANDA60Jpkj+RJmeWm5eO755xxMUHWQL0aSvVQqqHQAfV/OaIMMgwWScw7wAWN2yf7f//1fNQfAYPSKqZ2kwvrWaOD4BE3+6g0B1Qzn8Zw48akPfFpFpAHjeXvLeN7oZW6CieBQ1Zwuzp8zSf/8OecXcwlsrALc8edthrcR6EVfj+5egM9yU9Q4DuSAuZlxgE8bEbjKrtvN5LuoV3+PbARW/gA+ah0fmG3A3bFjFPABfS61Ee7noYV4ujpUOhr1GOUGlY6YlbMHwM9xZTE3Grg6xnyTtlcdAFyHb3rgp0yiRZoMHX6TNsvKrpWX8A1ereMW3snRvX/00cfFhx9+WDAZya5TV9mYZOyTlKaz/ubk1w5c3sENnDZv3uR6dun6f/+dlTe/2YYjW4ZoQPfii4d90vfgwQMOdp/bUkfULQJ8QBwQlQ5fXEC3ziDkH+KwlUOHXggVSEzePmsAaoD/1deuUmFQePfdd12PTx1heEsB8HW2Dnp1QBY/pPyzJpmjZtHGrTfeeMMHrZC4t9jKmhPBB3T8NtC9bHMVh81A63P2hsEqHeYrtLEqgP87mzw+6hPIADuSPHM2Z4wPJwF8o/eATVwftPhOjw1igCf6fl3RvvSUswMDPRzeM0r6lL9UHDYSV7tuA/52m1/SEclI+KkOP9KKZLw9NFKc7WEA/Nn4NRJ6APwRlizsQANXx1gY8E3CZ7IOwKdTtS/vl6sA+OQLBPiqEgN0lhAe//h4cfHni8UvP5sqY9nUKKbC8IHh7r3ih3Osrvne1ruHzhlpEAOAIYVzgiUGCRHd+JEj6PZfqXT0gD07WCX1Lpu0zhJFzponTd/IZJOdrPln7T+bnq7bnIAk61D9PFVJzK7DN5XO39/7u+vxvX6sPB8fP1588L69qdgfbgdM746htHetHLxBMJigTsEwsDEB7QBsOnT4gErI32RsPT3+gD5gjYQek5vXHfAZOBjgsJnzwEjCRx2lslYS/oGDPu8Bz7aUgC9R1ojlf8xVe1IuLtljIlVe8wI+YM/bnACfdNQfZqWhIia5GQA/YcY8twPgz8O18XHUwOlgqwP40FN38Io6ELrrygSPoLwV21X56zkcYufsHZ+sZCkhkilSq68rf3J36JhNEo1DwH6r1quj3wY4kWgBOUn4Wh3z2qu2ysdAX+vbP7UJYQD/jOu2T8Vkrkn5256wDVzbnqgAX4Di7dgkck6pREWiDVxSkUjl895771WATzHJgzcVNn2hennKduEyWOjijQWDGgkwY14AE9c9i/9JGf+m7RG4HYBvKiHCMHDwNsQRBCHZn3GwB9hR5wD4fpyyvcX9YOq772wgkArqGSZ/Dx7wwUWAL5041SrwbtaVqE7tqDfC12HDLQ3VvoevM0v4NonNZPMA+G1uPkDPA+D3XxmrCfhOvQM7nbjuyEis/HdeAoCuAC1/BxhzY6IT/TZSqiRSdOy+amTDRpe+kcBtGbtLoHv28FGMJ6vlnALsq1fZmXrFJUEk51eR8F854scOcPwAEj7SM0DJ7tOjNsH5iunXY1liHFlABgFiscmKc2628+GRbdv9pE3ats8FmE78nE3qMify3t/fK4797ZiXmnpipRF6fCRxpHRAHcMbBGVm9c7Wx7bGMst9e70s0MBbBQMBNDKfgdrGAd/A/uVXAPznfJUOx1AwqKWAj5qKAY5JWwYn1uafN70+Z+sHvSeL/XZgGm8IvE0cNhXTZnau2htFWqUV6NfVnqnN2rMOX7tlIlS8yTUg0sBkVToPJuBPLmwXE9ai+wD4/dfq4oB/xTt/Yx1+pdLJtV9gwNyT3bQBDCk8tMtZgqWcR5Jt+jtYWEenbIA+q2KYfETf/OWXX/lRClcuX/F5hm0GuE8+yafudtn8w1O2o3S36+K/NX36n3fsALQ/79h5PH84SIbqZY9Jxkcc3Fia+eijW2xt+5d+zjwqkFOnkIhjnb8AkglLjkLmsluf0EQC3mqDx6O2osV3zBrYSmJ2egH8UsLXKhwA/7ipdQgPgDvg2wDFoWyUmc1PO+zYCCRxdsiyhBLVmgDvBIBvAwYHp6Gvf8XAnr0GSPgANoMIg8n3NnDxtqJBkuWpGJfwbSD58ccLvpLH6TWe7jU3/FyHb4DPRjFAX6osAW+j+kbqUL7OJecT7cTrMvXK3FPPkwH/D1PJXTTaf/SNVyxT5fyf+yjhW6VlJ20zJVynTgPg91/xiwL+ZQPOkY1XJdA4DINwXIBv3NivuSWA786z/ACg48LjTwDLkFwvXvzZ9e++ysYAX6odliuytvzQC8vFsp07z/EBgKhW4/jkqql27tmKH4yWUb70km3IeuFFPzRto4Etk62oYxgkvj75daX7B0RRlfBGIYkXfgP2GHTHrGi5deu2g7jyvWCAev7H88U//vGP4u82ceuTqQbEJ1iHb4BPPyAdzrmBZgFrzJ1sryRxnzy3TXCuirJJWn9DsPiAOmohpHt0+K7SMVoZSDhw7nvT0TN4aZnnERvgjti+hWc428fMT7bShbcQ9PfsSwA84RvzHS+aeczO3YmJYhvQSuCPAc9qoxzX1Szy1VjWXwL4aX2XSVRRpwF8eMBpmWxqY+PVAwT4IQl4p6iKNNzAgQHw+28HKwf42106Q0KLDgnm01UxdN+0C89ermkkP6WqIwcAVKR8gOoLA/5ddqzALltP/9fXj/pGLEALIAC8CYuEi0ojVu1sLli1g0R86NALxdLScnwQxcrH6hik4q8tDpubpFsH7JkHANw5AsFLbzxgEhXzuKmTAEe1a9fh27JPrdcH8FmpoyMgUB2h0mGJJnG0sQvAZ1DRHAzlQHLFxki37+vwbR7AAd/AHRUMu2jZvMUGLNQ8SPnnbBIblc0p2wh28puTNiiE6kflYdknkrLz0eZGKAuqLiahl8xwPr4Gnx02+OuYaepfbcHYllyNB3cP/3JgLwPLTWlUCZBu/VDd0UYwvOEA+OmyTJ3wOU7CJ6FZ2lmVcXkzYdJWEv4A+G3G6Vkdgwbsr8HWaLFxpxPkLjUO2bkwfbqpkZGfH6ZlB2kBOKwHZzINQGFZHWfNLNKY+qIZOkWzAIPOi/QpyTGXF/HYXZqT8OnkdHhL2NMW78MW4OdSnd5tFt6xHJNzbDQp+vlnX7i0TF1gjh2zHalvvO7nyuwwtcgZ0/kD9J99ahuVDCAff+IxX8fOMQdMYIbO+6CraaCDlTuAyVcG1hwsRjkx6LtRA0miV+ngL7ymPWAATMKQJzT6OnpTP7z793dt0vaYgVUc74uEjoTvOnwDMU06EhfA5yJfP+XT+P+sHX/MngHeLjZu2ujqLMrEN3SR8F88HF+80nJL9SttDGPAQ8pHVcPAwBvLMzaI8eYDjSovYMpAwaF07BjWmxLl55gF1+kbjUac0+eENjC+BHb3sJ/KL2781/jMFfVubSj+3U0PAfrxq7CEXwTwlU6Z0UzWAPgzsWs08AD4ozxZ1AWAoFNg5gf85k5bXpk5MbN9kdfolXMbDdV0CXqbbumTpUmyYITZTEYCkgA5IPb1V3amjEn4HJPMSps333zDVqEcdaDcZpOwTJiy9BAVCoC/zVbaYAB7dNn79rG65mnnGfr53/x0zN8dsAFIH+h/+72cI+B44PpoAaiUqoXBAMMAgPFJX1OlaHklG79YHcPafYyWf9IP4KUkfKVPGTH4YZaWYhevHwddDmTQpzmAWP//nNMAHXdszuL27T+rAeys0XLGJqGXlpeKQ8vLrs5hXoJVTZzayQDFmxACDWVm8GQAU7kYSDDS6YsueBAVFHdUlLFxzFUOCGWgsOo3R0Uk/TRdtetFAZ/0SWvWawD8WTnWCj8AfoshPTzSSdQx5gV8gMpPyyyXCXYBvndG+mR5xW3iII+J9njAj44fidBPb9+yN0J7K/T17aaKQF2BQRLGvPwyh6WZ7tlWuGy1lS4uYZvULp06u1T56pR0+E/akk5W84hvrHoBVHRWzk8X0BX/6ASk/FV4qVo0qRu6/C2VykHn4pPfsgEtYHrJjjhgchjQF93Ex/AmRtqc/4/RaZro5jUhizqGcvEmwkT0nbt/GjDzgZW9DtQMfNBKHyO/3wzE0dMz8AHaSPd6Q2VQQarHj/kQ0iVPvbloIDp4kH0CB92dtxjLIAaj4ExSy5MBn8AOuSXwUt60nvGP57o9id/UDTRT9pi03WZljo+2TFLpkG77It1prgHwp+HSmDAD4I9hzpxeKSDNDvhXi8u/2yodOw+fs3T4OhPSXXuHaZ600Q6bDzfqmnb8UV91/NoHdR/S628mdQNmMRn7q62SsTNfTLWyf3+cBQMoMYmKmgrg1ADBShwMZeOMfF+uaW8CHEnMiYykDYj+zke9LY+LBoCoeaQ7F0C4iszAgg+SIw1Xp0luNJWMqTziHP3fbS08xytfdz08S0Uv2ADCYMIAxCSpgB4gZp+A8CfOvrnkbwq8zfhqHVs9oyMPAGl2+6ofuerN1IuxD+AxY1gAWezUvWZ8io1cmhMgHMtY2UDGAKo3ER0ZoTcNysYAgjrnKRtQpLKKGgH0ueOnBk6VIcLU7vFcukbF+0MO8Ek44N5+PfkQDLT6iG8e/Ggb2lgOy+A1aZVOmnf7XnXadk+fB8BPuTHHvRqqdI3S4+M+6PDnYKhFWQTwmZcAHF3Ct4m+vXtZp81OWybtRnfa1hTSczFlx6w9prtLOn4+QqRLn+eifbA8E5BSmwEEQjLeUEr2nOoY35z1HbEW1s/aMZDkO66Elepl0yabdDWAZuVJAA+Htd2rVCVSwXDyJIeaEQaj9AFNjA+wpsoRYgdtN22HcBxiJt0/4I36RJPIS0tLxbIZn2w1yR2g4ytfAl7CsmLIvzVrbyK+GscmmwFkykGdY0gfMKYsfMZQdGqHsoBS9Cq+D6BWtpv2BS6kZwYIBhLSZn/B1rJsGiDkTjntH3Lt4seeufUfbnSV7tVjHaAOnxMY6npP27XKoTewOB55McAXaTkbPnIZ4F8t2yAOoyaWZQ6Tts6tzM8A+BmmLOiUdoxZJfwA/Msl4CPhh4pAKzS6SVPb7w7Rj08pTQJwliBlBW2wAUi/Nx+dmy7A83DmDojfuxcfIQ96ArgVTrbS9U8rWroaVNReGTDIQ4DJqh8GDQdCG2Qin1CnEIeLtOPNpD4FU2f5oF7BIN0zSUp8wqJLB/RRtTAI80ZCnTDpeviwrY/njcbeVKLodwNuLR/owJAntJKe086bkdEDvXy7VzzEjwGUA+oIS3lv377lZSQdDVSaLAbrnFdRMC+fE1ECYzjUv3VYj1B5RPAAUxyjnirv6gZ3jKdjkQT4LCc9X67DX1TCrzLL3JAv1wTAZ5UOAQfAd25lftSBBgk/w5w5ndKOsRKAr8bfJM/aOeixwtfYLAAFyz8tf0WUeSgu/rmrCT4ADKHC1sfRcSO+ABUbCZg3A+6r8BWABlAFUG7ys4CQts+cttUyJrVL0keHz6CqpZcaGNC7M5nqqiWbSGYOAKMPk/CGgkQPTTGQNQew2CAWgK9dyvQ5fxOwt4AoosWF8igcJbbBJo6jFsBW5TUmofbyC17EXeM33z5iwCNg2z99TuvGcymBVrRZZI/P3gLe1lyHb/MSfah0GoVoPYhGA/xrZZlLJjjAc0/lA/e6JwWF4X644MAA+P23AzoHDRQzL+AzcYdUqdUZkvCVbp7qRdv3bPE9dAkINT0AH6CCS05FUIes7jxChJdbCjzAWkjsrKSJEBUAOtCTWdAO6HpYl5ahJSJIQpbqREctwGekfF2sKOID4xHujqtVWH4aEvi9YvnQcrG8vOxSPnUjXTr51PVOalH/qq/wD9pIizcTaOLyeNxYESCXZ8pckl61JS9h2a7wL/89LNHjIl/dp3Y4Qk96Kc3KjXLYQ+pOFNGl8miSedaNV1U+M96I7hLwVQjsprHim9sg4XfxdwD8Ls7M7153/PkBH7BnKaNWn2ifgYBuNurUP8bFmiZMHV8d32M5iAigZNdhA8DiWR239q3vmn5NQEsBn/TgA+GDHwwskU6oRaAhjNNpXhvKZZzy18YxJNQLppLgO7zozTUw0C8AfdnSuWsVkAZggJs3jBIhHWyjHHnA5zu8qKmIA03plQJrCvgKI16rTDWyl4X3gOMBX2lNa6tVKAcdacFkNfzSKiXml/SJw3lW6UyiJ3hqbL5773pJC6QlptxmHgEHwO9i6AD4XZyZ330RwGdyktUs6IsBfZ3TjsqBj24AcIBM7kqBVf7qKHruttV3ukPIx0HA0KmdtvKXrfCOxj4ohIvHl+ckd4DbwpJmasg7NcpTYQSYHsbiu8rH4gi4ACs+1HLJjmhmJQ5f6mIzGbmRhoBe/JbKR/WBKkcb6VI66nsKKBpT+r0wiQqKcLrIO8JCPxfP6VXzHtcGJ6tg0LBSl8onlY4mtdmX8KR9axewx+TefBahSWUywP+jZAmFLE11pogapRgge5Gs11bcAfD7r08AQx1jVpWOAB81A6Cv+NhImSHRhnSrTkAJUsBTiVJ/uXXbk/pG+CtNf7KfCpDsxjti27YMqziK1CIi8CnST70q3LKEhXteTuVRBm6XPbLJpKfwZqPHxyCpYlBRMBGpVUBS/bDShhU3T/ixzI8byAfQ15J95CPJl7K6Ia+yADxDo+jES/XIPaXjDYa+2CifxQlft/ynq2wKMclf4eaxoY2yUFatzorVU1cc5FlNpjmQFQT8G2VbUAWb7YDPM8ynaHE/TyHXepwB8PuvYXUMOocAO5UI6exdl77gJB2+A4tJ9OpA3uEsPjYmvcjXAaN0bPunYfP3zfRGw6g/NX1KXHL0984IHQTBo6TR6cWtRXOHEwFb5aNshOYq78t8vMzlfXT3KAd5iidq5/5swOr0GB9dbWOqGw0ALPnknvD4wX/UPFo+qmWgxAf4PD2jhxVD1Kun2ypjSof7WwnqSWbYVII9gE/pyoLKpsS5K8oaPmWUFs9ysaZza7eEYD2/US8aEOOLXjdtrmmP7WWoN5zRXtXOVQ7KPu+luCbh36yaQSRmiTYAn0zmz2heAh+WeOoIwyqd/mqMBu4d2xr4rIAviRPdMhuNSEsdJk0XatUJRLnC6blfe5o+RN8LsG/TIn5AU5vuHJ2eWwMgUsC3GGU+dqN/55Pn45lEqpKc1b4lwWsnLmAOqNMPoFnGn82NC4ARmGO7MdoAbYXjPi2jR7SfKIeT604Kg+0DBq4tngXv6vKmvCQeV1hx7w5GpSWTcQ/fWX+70k/zIkMtm2UzG6CP6ou9AvBUtObyHuc3LrwB/q0m4CfqHNgdCaeMySW3ft0GwO+/7umgtDvMrICPWgHD7lV2iboEasCjehK1uQ6TAoPCrZ5NHwuJF4gEfNJL/MjRnYbTvffYQJ1wsgQbSbafCUWmSRzSYM07vNNAKv4CTKzIYVcwdeRXSTT5OC/tGUBzUDc7rVftA1C9iN5J5cPf1T/QWdLarrfqmTyDsmpQEB9xVp7cV3Fa7vhNvCyfkSvhY8OvpEl5ix50+JyUqvYuPshupGEPXe7tcHpW+Efu3k0B38kgucoooCIOdpMDarCSgNINLoBN7lLjkp0L06cbdYghPwHhg3xapsqOJEgHkDpAk3y4d13UAyoFJhXRK1NmDHWxWvzuom2cu5FoV61C8adABY8WdRhh3GGKn7TvtsveflZyNU5ZmzHHO3c5AuKun6yKvvk6k7PGWzYJYTQZrvjG5ADZ0q7AnoHD3LwcBC7bpPqP4qc0y83guLptbkhzHDc/6rgK4s/+ZG6pM2UOPgbOBXvjPk2j6Z6m23HfzDwCKdkqyohDRQs0sfls69aY30Cdk145nuTc0jjte4U3wL+d8sTCQZgM9TJKaDux9fysBjsA/uKtQCBEm5OZFfBdN2rgLuCHKtKVWZzKlUoBsK9pjfKTF7xQntWNHDrtOk4dpIlLLTT0pOv09ch5POjl/Ru7diYPa+o5glqHkcXqG46sUFyBb6QvlYX4r3S9XBYr/Js7h2uKdVdDlNqF4odP5FWHUrzUDrpqvoafD2sQ5UnUKVTuBKudI1LyG14dAVJn2nQSLx6oW0yovJjf0JyH+gJRCNO+cm7tMOmzwhvg/5mSZWFIvM5AAdPIw33NgQHwa14seqdGTpuTmRXwJVGqXqBJ6XKfa885t66wuK/E5WBsPbECRjq58yFyy/T5xcggrySFuseHo/x0ho6fVmlqslhVcrU6IoGlrpzcCWY4jZ6uYptz+znJU7fpQNSmgzBJapGHIs5qk1CSwbQ8Tekbl2Vd/giVxhvNy/hFsBY9avfj80kijQuY+KmNG+DfSfnZpICnUUqTZIZbAcsg4S/eFgTMavTYswK+ABNqlJ4oy7XlnNu48PLr2xY4uM2PlV1dT3bfeU5KDzJi9U2ciYMa0AHfDqjba0cgcyZOHNP8hCc1AkM4WBoAzP0qw7gyTkOT6mVcOvJTelUcCs41wphwbvxaJP4mXePa67i4imeAbwtYx1wKOCbIuvYaAL+/6hdA0+Zk5gF8UaT0eH7w23GCCo6QKsV4WyAzPtR4XwDKc09IUAw+PoKUr521V69eMX3+VQf7fQb4j1cSPgOsYgngm1JsSmsato41/o74uXhpul0p5OJ1hZ3XfYSOTD120mEeA+DPy/lVjDcAfn/MFkAL7LFnBXyoUTr9UbYaKWXQdopsR0BmijjtIIBQVzoAPgaVjib6OZEUsEfKD5UOEr7BVQ7wk2K180jDt2lqP6dx03ipeztO+zmN1/br43kaWrppgH8JA8cQNK/w4v3Kll15Lkm9NLKaN/FGImv4YQD8/ipXDd4bpvUe7HkAvz+K1mdKKe4E4N9uAD5HV/AhE87F8cPSTMoPqEoBq1ZJiYvTAKLCrrptpE8jYa8kXWr/0+QxLy4/MgD+NOztDjMAfjdvZvVRgx8Af1bO9Rjega9Oj7kpl/A55tikfMAeCf9pA/t9Bvrb7Lu6SPlc6UCRA/ecW53T/b9T+7tflMySf++AP2+C94tZ9yvfAfD747wa/AD4/fF05pQ6AF86fMC+C/An5TUA/iQOrbx/p4Q/AP50zB8Afzo+TRNqAPxpuLTyYVJJPST82/4REz5mcrkEfNQ5qHVSCX8cZa4y7tIbj4u4in5qf6uY5apnVQO+Db8PeH2sOnOmyXAA/Gm4NF0YdbhBwp+OXysaqtRpC/D52DpfrpJKxwEfHb6d444e34Jnrtr1YRAg1f4yBVkzTo/c4YsCdgH3A+DPXq8D4M/Os64Y6nAD4HdxaPXcVRcp4P9WAj5SPoDvk7amw99u5+rU0J7SWLsOgJ/y5f7d2+Fp8QI3gP18lTAA/nx8y8USyAyAn+PO6rpRFxgdewzYXzIpHwkfw6YrAJ8vNXG8Qv56uAA/X4bVc1X7X6kcvV8NgL8YewfAX4x/aWw1+AHwU67cn/s24KPOYS1+DfhI+Hsd7JHwRxfy12BPCR4GCf/+cLrOVe2/dunvTvwfJPwFeToA/oIMTKKrwQ+AnzDlPt2mgI9aJzZe/WYrdGoJf+/eWsIXoHSRO8m/K956clf7X4kyi///DwAA//8g5uVvAABAAElEQVTsvWeb3LiS78mS9962XJVMS91y3Wozc87s3N2ve5997uybO/tqdu45c8/MaSup5V1LannvSq6kKmnjF8EgQSYzk5nJLJVKYBWSIDwCxB/BQAAYeff+/ftErhF+4tUzBd69e5dg3r59m7x58yYzuE1NTVWml5I88XtloAYdR0ZGEgz5PXnyJHn69Gny+PHjZHx8PFm9enWyatWqZMWKFcmyZcs0XINZ95SU08PLy33RokXJwoUL1SxYsCCZM2eOmp4SjoF7pgBtgZmcnNR3m/cG8+zZMzUbNmxIMMuXL6/13tCW8epMAX//O4fqz9fpPxIBvz8CeqwI+E6Jwe/+wkfAH5yW/aQA/R0YsGMAfAxgD5MQAv7GjRszwO+Wn6fbLdyn7O/v/zBo4PSPgD8gdSPgD0jAILq/8BHwA6JMozWkP3ZMO8AH7EMOv1sxHXC6hfuU/Z3+w6CB0z8C/oDUjYA/IAGD6P7CR8APiDKNVqe/Z+mAj2gS7t45fESBgD2gjxgQsQ5XOb6nw90BJ3SL9iIFOtGvGLL3J6d/BPzeaVeIEQG/QI6BHvyFj4A/EBn7iuy098j+DNhXiXQAewd8QJ/L43ga4d0BJ3SL9iIFOtGvGLL3J6d/BPzeaVeIEQG/QI6BHvyFj4A/EBn7igztnf5hAgB+FYfvgL906VLl8sM45XQcbMIw0d5KgTLdWkP07+JtkAE+ScV59N4JGgG/d5q1i+Ev/PAAXxXS2mXfwX329wynPeDOOw1X72DPs0/W+n39+vUJZsmSJWpce8rvtCF2LgebDgSOXgkD7vDI4G1QAPxBspv9XaKaOhHwq+nSj6uDTlOA7+nlZem9R5k24Ux5u4dfjomJiQTz8uVLNbzf0PHVq1dqHPBR512zZk2mMjt//vwEtVkMarRz585N5s2bp6DvYJO3wzBsvbftMErxYdPs/n5EwB+whSLgD0jAILoD9HAAH0DoHRSmB6wCIrS10pm7d+i20Wt6ONA/fPgwefDggYL/69evVReftSbPnz9X45O1DvSs5cAwgYtxd+jnnH7NIvQZrL/27TOzGRit3vsRAX/ApouAPyABg+gR8ANitFjrdeiWaD06OKBfvXo1uXLlSgLwYxDvIOZhcSFfAAC6gzpc/djYmBq0dxD1OLcP2PsA3mNRegweAb8OQxABv8fXqhw8An6ZIv0/Nwv4ZZlof4AwfRx+He69Tpj+6U9MB/yLFy8mFy5cSP74448E8Afk4fQd+B3InaM/fPhwcuDAgeSzzz5LNm/erOIcxDoY5/CHS8v+2ncwas2k2PUYggzwIVedT15ZpF9Zy2rXyqCzyjECfnPN2Tzg21udl7D8nPu0sw0XpMJc63XYMMYw7C7S+f333xNA/+zZs8nJkydVB985fUAfEMds3bpVQf77779Pjhw5kgE+ZaNvIMcH9IfP5UfA74nD165QZ5pYZHJV4F7lNowXcqalGQG/uRZpHvDfDVy4Tw3wnZN3zv63335Ljh49mly/fl1FPMjxAXzf32j//v3J559/nnz33XcK+Ih0MPQLwjmXHwF/4FexSwL1GIYih18L8C3fMuxHwI+bp3V5I7t6R8D/8L0IOT2gfufOneTWrVvJiRMnFPDh9I8fP55ttYD+PZO0cPZfffVV4iId3FauXKmaPYA+QB9FOl1f/QYC9Az4wuP38sVbwel/+Ne1Abr1mETk8HskWIfgMxPwKfB0vNn1OmwH8jXi9e4dC63eiQjnUfLo0aPk1KnTItIx0P+v//ovVc1k4paJ2c2bP0v+8R//Mfnmm2+Sffv2Cqe/N9PLB0ysPYU1VPL5vVMxB6FzFOnUeU9Hpt6/M5jvBexps1LbwPGXnDq17Kzxi4DfXFPOPMDPd48cvJbdekc3/8FLUCcF2gBjsvwXOnF77tz55Mcff0z++h9/TZ7qFsnjye7du5KdO3cm3377rXD4XydjY6PJjh2jop1j2jvkhcDARWIO+rhXXd38q+K0uvUKYq0pfLwuvD/d36GRqXcp4A9YU5XRDZjGxxg9An5zrTazAD8FD+lDzbEy3Ttkc9TsNSUrmwP+5ORbFe24LP/vf/978pe//iV5cP9Bcv/+veTgwUPC1e9Lvv76a7EfVM2cTZs2i8w+PK9AKJdW2YG/Xam6+beLF92dAhC6+/sVAd/p1ec9An6fhKuINnMAP+AUHbC0vN07VEW1Sk5NpFFKsrHHEZ1sff/eVtfKWRnJvbt3VZ7/g3D4//t//0dy+9bt5ObNmzpBe+jQIVXF/PLLL+UgnTXJ6jWrdXBUkJefsKbdAL2bf2NVnLUJQe2Q4tUVHZlsw+F3j1pMkAbrNU4xhY/zKQJ+c+02MwAfOUQA+Fn1mnq/63XMLNtptvj7TGemxn7wybFjx5JffvlZwf7GzRsqxjkknP2ePXuSXbt3J8uWLkuYyNUrjZsVvfyceeQW+xKANvHqjwLQrjv9Rt6+m6p6u7Wxu0fPixYBP2rp5G9Df7bpB/yKV78S7PP69NIn8lihrV7HDGNMnx0OXyZtxQD29OkXL16ouXDxQnJeZPm3b99S7Z0vhKtHpLNt6zbVxfeVtWBOODTW5dzrhps+Wgya0+BvSm8lqPdejUxMTb63omlLaR4eNWy4bplHwI+A3+0d6eY/vYAfgH0LyAd+FYXupV+0Rrfe1urezqXX8O3SqeNugA/oI3znb+LNRPJGVtnevHkrgbO/f++eyPDvJ6NjY8nY6Giybt16MetMds8CK80mL3Ndzr1uuOpadG6v6jjDdoUGOR2GnZvl1T2/kVeTbwTw5U8bOC+WuRWf86dWWzl+a4jZ6eKfwPEQ88Hbd/oAPwCIHsHea0n/mJ5rOoHDAB8ZvoMVi6empiaTxxxiLqdePXn6VDV1NnAAygbOtF1m++Fn+FGkS10grxuulea0ZdCerQE+kEvddivSq//C1stv5PnEawV8WyqtMK95ZtHT8nR7wSPgRw6//5fVYjYL+Dbx2FomAYc+Qb6cVlNdtZxu8TnriUXnoTyNiCplTjeF0nB7ZNlLx7ZJfpmsWL5Cd8VkxS3iHC5vP31Q4gSo0UKs0IGcgrCaQN0fB3u/14037HB1261uuG7lrZfOyJMXL94D1vPmzhPDnhdOenSQyaReQ0TAj4Df7ZXs5u+Aoe+SvHzcFy1alC3jB1h8D5fWtMod3hf+hCElTCXYl+OGcT60vV5HbqyUKM/Lpb9ip00wyumLqOedLMpCxj9/3vxknuyYOZc9dQQ3JBBLrbJiFFDDgCTzc4uFCWOBNv1c5FtMp59UhhunXTtajQv00oL0Sol26RdrNfLo2bgCvm53KhsdeWeDgDLe14R7aSg6aDHtT+IpinSaa+bBAT8HHErl6eUlFH8F/DCcgUUeZqbZBulVA8QVsiiEp4CfpRT28xTI8VOKStjsCsNljmJJ45iTxNQ4abwgvTBKZ7vn+TEAvtcko2bqAHa6W/nucbrdiedx24cdefD02fs5Qmi4p/kB4BvYt49Y9omAHzn88jvR67MDtDMd3Hvj8L3zW86eXl4O8c8A38Nyd3sesmjr5l8MXXzq3gmL4aue+k0jjOegYnUJ4TEHmzxv9Zeg0FDpKElpatIm3DOKqMXTzOOHOatrBuYSX+xZuuop8Uk3DWOpZDnkiba19RK2bSLT4OFU8TtZmj1vA57d9FKkenFG7j95+p7P5AXpgQaAv3Y4adKM/jXoaXF6KeDsCBs5/Oba0QFa36X0PRwu4PuLXb6X6+T+Zfe6z9ap64ZuJlwKAAA2CcoPdwNamZRN3a1kaZ/3Di+OCkAMjmk8DWeBtXgs37HJXX3U8BlgE47Mype45wy9lcuTHEm3W86jaGnzx1ljo8Zeayplz+bifu7v9zqV97idwwrgG4c/nz0w0jMoFfQl3hxJQ5ulqvFK6UbAjxx+6ZXo+fHDAn67l7wp4KnXIXsmWpsIBhWideOrZlX2zpbFdji59uygyn5QiQ+2Plfizx7eOXPT3hF9/XRgJjzy/JxLpGB5BgA9cd+p1o/EU4BnWJGSShq+jXKb6swyZ2sdq5S9F0qHFPyLA4JXPYzjbuHd0gldquwj9xTwhcNfMK8I+BI/zyJtuLz9WtKKgB8Bv+Wl6NFhuIAvL282YcuLXDYUtuoF93A9VqYleL0O2RKtTwfruyMK8JMCsq9f2yHkr19zSPlr3UIBLn2OcHX0XebwOKxknkzGzp8/T0W8iHntAJN5UgqjzZs37LHzJjvU3AeGxYsXi/htcQm4LQ5g7+qdfhg6aS9YsFDzIk/Lm3xm++Wo6nfqmw58BcAP/S1MZ8oQvhynNcbI/afjIsOfY4SX2XZrQNnDWuJ6dO7dOP0I+BHwW1+v3lyGB/iCOLXA3gCqtdTu7vfWEN1d6EXeo7qHHjSE5TQiZ9DKwikB6AcPOJv2fvL06bPk2bOnAtqTure9A60faML2CEuWLMkOI0ekhvFrfPx5Mj4+Lmk9UDMX7T4ZKFh8hVm4kPALJbjXFdHP+2RCBprXMtCw5TInZ3E04ooVK2Q7BtuSgUEG4J/dl9OkfIdauMkXUkY3nj0cVAntPJevcviyvz0L4D9XGf68eXNVNXOuIL2N+pZ9IRpDdZsrAn4E/DavRm3n4QB++s4WJmv9PeZeNu2K63Ha+ddx79Zp66RRL4yLCF69epm8FHPt2jUxfwjg2qHk0BoDlw237SKVJUsM8NetFwBfu042RVutB50gdqH0Dx6wW+Z9TYudNIkH4G/fvj3Ztm27huUQFOf8fY6LQQLDxms3blyXU7Fk4ZYs3lqzZo0a/8KoV7uPMVQZkP1dsLu3lwG7h/Uw1De0V9Xf41T55W4C+C8E8EUPXz/nhMNHnqafeXnWWfAI+Bkp3OIvdFxp6xTp/94s4BugZaXpC/CbAPmsBF0s3Tp0l+jiTfeU7quXA8j4uHD0Ys6fPy/n055RrhzQds7dOXKONsQ48G9N98jhzNotW7ZmAH7jxg0dPEjr1KmTlpdkum/fF8nevXs17JYtW3QQAVMmJ6fEvFWu/sGD+4mflTsme+nvHNspZ+BuTthWmbB8Lfjl9fDnevfpbK96JcqBOmxft+d3b68cdfFzf/IK7VV5l8NXhZFUDPDnCMEZqRHpIM4pinSy7CLgt1AxAn4LSfp2+LQBP+tlfdNPP1ZSXHAAefpUtkQQw6lVx44fSx6nIhUXwThH/+zZMxH3PEleyWra169eCXBvETDekuyVDdL2yklWPhBcuXIluXz59+S3344nv/z6czIlRyIyR7D/ywPJF198mezatVsPRlm2zEQ1MEJ2ZOJt2XjtdnLu3Nnk9OnTGpZtlfkq2LZtm4I9e+n7hcSgt2smgr3XIKxLGZjt2dvrgwE+9M7Jn44vEfC9BbN7BPyMFANbIuBDwhAceiGpQYbBni+YZHvjx7IPzmMF6F9//UXk9wD702Tnrl3J2OiYytFXrFiZinoe6N73nGfLubQrV67S4wu//vpIyoHPlYPMLyeXLhng/yqA/0omgxkg9uz5XIB+l3D5X+ih5hxkvk6OQXwrxyFyJCKinJuy+dqZM6f1nFz20ucQFU7J2rFjhw4oiIHyy+hQD/dnMth7jbxd/Y47djMfFPAZXYXRz4rjRdNvRh4qrijDjzL8iteiJ6eZBfhVIFLl1lMVawR2EKgRNAhCLOuxql4hfdfSMcB/lPh+9i9ePE+ey5bHBw4cTL4UjhwZOoeXMJGKyAXu/dKliwLwpq3zpz/9kxxU/g8iouF5gfhfFrHMJfli+E3SPKpiIERBGzduUpk859ru3r1HQRzO3UU6N26Y7P706VM6+HAs4uHDXyWjoyHgyxYNpas7p0+bTEe7lApW+9FaxoKX7dZGtJu3V4667ucZhXHdLbyXw4d+uT0Q6dheOnOE5hHwcwJ1s0UOvxuF6vvPHMCvApDpApZ6HbdMVQMMcwXy/ZkDTAD9o8ePJr/8bBw5qpFHjnyTHD70lUyebpADyTfaoeWPHyZnRNxy6tQJ0ex5m0yK+fOf/w89qHwh2jqigQOHjxz+jMrwT2iG4IXtrTNPgH4s2bF9h8rz9+zZI/6s2X+f3BIO/7pM1pL+iRPHk8MAvuQPh8+Er8nw+wV8ilHVZlq8D/xTbk8Hbne3+wcEfMlayhA5/HrvSQT8enSqE2p6AT8EcLf7vaq0nfyqwvfr5oDQW3wHeGIVAB8ZvgC+c/gvX77QA8q/+fY7PbVq4wbhzEVj5tHjRyrWQeSCvB9de0D/zymHv2jxomSx6Nk74J+/cE4ngdG/X7J4iej5i+xfzFrR7Fm7dm2y/8AB+YLYnywUFc2Fogl085Zz+Ab4X391RDl8xDnI8TPAL1U/rFd7itA2M/XyClXdcTMTAX+mtl+pXBHwSwQZ4HH6AJ/93h0kHMj93q4C3fzbxZse9xAYXahDzjppK1z+MeHwf/0FGf5TleMjUkGGjnrk+vUbVJzD4eSIazjdyidpv//uH0SO/61q9QDeV0Skc0nCXLp4MQH0AXjUN59Kuk8lH1fHJO39+w+KyEjUOkW18xYHqAiHf+r0SRXpHPn6m+QrOQB9u3wNcGqWAr4ojRgA5jRzmMxdPlZbDu5Wg/CZ1is++0CQ17YbJTx+HqPKFoh0TA+/SqSTZ+WdpDUpL3Krz+x2iYDfXPtOD+A72DuA+516lN/vbs/N1X3QlKyP8mtw7+k54B8XDZ1fZNL2MXr4Yr784oBq4CDDX7tmbXLv3t3krhxYDid+U4B5uUzksjAK0c9Xh79OFixcIJy6yPAR6cikLQPDxUsXVA1z65at2WQwk8IMKsjyMWj6fPbZZ5L2HdXSOSmqnMdl8PnmyLcJk8EA/tZtW3MOX4HPS1+G/9z947M5IDuahs+OnkW3Yu09Xruae9x2/uZeBPxULbMsw/es/N4uyW7+7eJ9zO4R8JtrvZkF+OFA0FQdywNInXT761UWS7R0UrXM4xxCLlo1cPH3BHx3jI4p2LLiddmy5eJ2N7lz97YeWo4IaOvW7clWUc08dOiwiGcOqoye1bCoZf4uE7tXmNwV0EczB8NK2levXqsmzvUb15JNTOKKfv0u9d8pIqPHySOZGEZcxNcGgM9ggjhHAV908PmqKF+dJ21DevZHp2J+YXpFn8GfKJ8bUnO73T8Mhz8A4FPsT/GKgN9cq892wC/y3vXoZkBQL2wYyuMB+HD5KsMXwIfTvnPnVrLls63JZuG+l8o2CkuWLk0eyOpZVtCOP2dF7LNk+zbhvEXUcuCgaPN8uV8mbEUWL+bq1asqx1fgF8D/XBZb7dmzVxU9ADHl/C9c0LDI91HX3C2Tty9fvtTD0FmsxdeGAf4RA3wV6cxVXfywDtiZTzRw5B5eDs5+dwANw/RiJx1Pq5d4dcN6+Rwpw+ePkMP3atSt/mwJFwG/uZaMgN9KSwfuVp+Si6yRAa60HwpKerwc8EVL55cU8IWTd8BngRQc/jP9Eniq2joszlojYh7EPQcOIIvfL3vfyJGGK5Yn12WLhqt/GOgD7vtU735ftifO+QuyovfMGdXPn5BJXPsC2Kka3WynzKKr30RLpwj4LtLJV9p67doDPiEcoL3mg6AQaXh6nnuT9xDgSTd89vYquhUHum5187idy9yYSKdbcToX4+P1jYDfXNvNHMD3ju/3Zuo4TA7f1kRSXgEP6Yw54MtkqoD5UdGZ/+Xnn5L7D+Dk7yZjY7uSUVGJXLXK9sqBA0eD5w5fALIi1muOrv5e2TYBTR4OLke+f+36dRXpAPj47f38C904jUECHf5z58+piIivCWT4m0WGzxfCAjFs8XDm9CmdCP76iHD4iI5k+wYmbTHlq7NIh9BeUuyDoJCn43fSa/JyQPYyhs/TCPj3njx/j+ws3FqhHxm+V6NJEn0MaUXAb66VZgbg0+GH0+kHA/zuPQz6OUDmgG8inaNHjyY///KTrbwVefqhgyKb33/A9PBFF//NBCtiJxI2RLty9YqC/q3bt2SrBJHRy+Cgd5HH37p1S+X0vkCLlbXsobN5swD75s90UzXEPu7Pbph8RTABjEEUxKCA5o/J8LfpNg4s6uoN8MM2wt6dPt3f1DDNqtDd/KviuFsI8LiFzxHwnUoz/h4Bv7kmioDfSksH7hwgWsOYSwhGHssmbZXDP/pr8rNw+CqjfzaefPvddwm68Js2bVIzOWnbJSsgC+d+gc3Wzp3OZOwHRMWSvW/YD+eWaPLYJmgXZNO0faKNs08XTzHRe+/ePdX2Yc8cdPrZmnlStmJmB022arh1G338G8m333yngL99uwC+yPA5ca83wKfWYZ3b0aUpd/IaJL8Q4ClT+BwBv6lWGno6EfCbI3EE/FZaOnTnANEapsoFOCGOy/CPpoDvopvvRL8ekQraNIhq7CSqd8LhI5+/ovryJ2SDtI0MCBIGFUq2QoDDvyFinRzwjcO3FbOjyfPntl/+WTZJO3VK1T1R+WSTNjh9XeAl2jrkD5dvC6+2ybYNEfDzNg4HA29da1F/ar17nFaf0EVOvIoinZAgvdoj4PdKsfbhI+CXaZPDfQ4G5TDVzyHgA/rHBPCZtFVtGZHVw2Gz+IqtFTC2581kts/92XT7482bbftiwJ4Nz26ygOqmAP4l0cOXBVq2LfK+ZHTU1Dz5UmB3TMQ2yOt1753Ll5L3797p/vu+G+c//OOfBPS/l3kEW2nbO+APwm1X06zVtZxH+bk1RnsXB2QH7vA5cvjt6TbDfCLgN9cgEfBDWjpkhwAR+ne2e+wnTx+rbj1bI/8qgI9I57kcRHJYFlMdkO0PWGW7Xna15OhDtka4LhOycPnI8q+KLH/HqGxupnvjILrZq+IcRDJM2F4UUP+CSdu9+1JOfYdur848gu+bf14mcBHtqP6/iHtG2H5ddsX8pz//s+7RA4e/VXTx64l0BgHczvRq9fW8/N4aojcXWsQNMd1udxvai24WxnPBr9PlcTuFkRSrOHw9xFziexKeld+rkuzkVxV+trhFwG+uJSPgh7SUHvVeYEA7Vu+9y2LkIh0HfDZTY7tk9OPZu559b1hpC9izcIqtkW/LZK1vusbOlzt37k62iaydLRCQ3wPmcO6Xfgfw0eIRGX66rz1yeJRA/GQsZPno3rNI64KAP7r8nH37z//8fyZ/+vOfNV59LZ2mwDekczs7eTWZHy3ihjzdbvcI+NDkI7gi4DfXSBHwQ1oKEDQA+Oxxw1YHbGX8s3D4D1hpK5y27ZK5QSdS2fuew8kxnI7F9gjzBLQBbrh3BgeOOsQ44Lsmzr4vvhBd/H0yuWuTr3OFex8R80Jk+S9kG2b08s+dPZucOPlbcvToL7oB22JZ7PXf/tv/JVz+P6lKJqqb5FXcD99o4VpH9tQkAIe0rrLPasDnxCv0YPMTr+AswjEIkvDc7urk1y7ObHCPgN9cK0bAD2lpPco4P9x762Ee+zkrZ8WcEt33EydOJPcF7HUSVVbX+ipbVCen5NSqqcl3Kn9/O/k2WSELrVbIQqudnGAlRxGyahbO3Fbq3lHg51ATP6rQ98MHoMEODklnx01V82QSWLh89tCxIxUX6R77R458KxpCot8vcwiA/chIeAAKdc7VTHkanOPudcDoNbyVsvqXFnFDCLfbfRo5/HHRw3fAn6cyuCjSqW6yKtcI+FVU6c8tAn6Zbjnc5wBRDlP9DIwQxw8xv3pV9OsFeP0Qc58k5QBzDjL3C8AGfO3Eq5WiW2+TtnPncl7GPN0T57FspWwinycq/wewOTULPXvAnkVgtCXm4UM79PyKnpR1SRlLdO7ZK3+PiItWirrmKvnCQLZfBHzjsIscvpeSe69g7OH9HqY1HfYQ4MkvfKadi8+5v5cN/06Xx+8URlK99yQEfPusioDfmWihbwT8kBqD2acH8OnwVTtmUnb83PDc7FV/4VXeuYu2/KlbyTwkxwtOCKd9/57tlfNMdPDZKwdw5fxqF6XwDOjOT1e8st0CapSmP79SsjNAZjXuixcv9VhDjje0rRmWKeeOfJ6LdjROfyTbQ4edOO/cuS15mqhoo6iCYpaIeIevBw+vCVgqpKTuuVvZ1gt4e1i/l9Ma9jMt4oa83G73DwD4foi5vAg0vpQjLJIXkXvVRdhP8YqA31yrNwv4BjwG4FLGEQfy8B4CP/UI/Zqrl6dUD/CLPcmAgBSK7p5mtzvv59TUO5WnI1PnOMKJidfKxcPJw41zOWevsnsBfTh/vgIw2I3TnpNYelOixsmJWJPJPNlBk+MQSYvBo9yGfsg5+vnI9QEW0gLol4pYyfMAb4p1tLawfPGre6UVqgzeya8yQoOO3n7hHbuZ6QP8p8LhS2NlWysI2OvEi5QjLBo19+cqKnTyqwo/W9wi4DfXkmWwoLMvkqP14BwxAA/Agmm9yp3ZRAoWTvwqAZ84DvqE5NkNz01fZciv6DVkH/S03gGvVGZJjySRqQPSKqsXeb1z+O/eGZ3Ihy/7OTpZa/L0MG+zm7gHO3r179LRQv3ErkUPsg/ju34+3tR6bqrN4+0ZhrUkLDXJKo1hrt1/iVcuSfdY0xfC25x7bqYN8O8L4EN0B/y5+qmXc/gQIixiO8J4mHb+s9U9An5zLTsY4JfLYQt9zFUAoC3gAw6APpcDhd/Ntf5vnXgOjNJjKoM7CFiurUBYvzRhSAd2aGx0htOWImgZ+EkhB0dDWXGTsDIgOLCTngO0ppECPuG97QhTdeX5WvIqQpJ41Jb47eppRdFQVclWuFGXSsJWhP2QTtSJ+tsde7WhjHXq7/EJ3/4auZdy+PNFQ4fPOW9QCO3ZlO9VyXmYKr/Z7BYBv7nWddCg87upz+GXywGwBUCugE8YBwS/O4fvz+V06j73Fl+k05Jwsdfok6hiFi5DvIJTfw9huqG9OjUHaDj5KTEK/lJFvv7niJKHX/mAISF8AHBPvVteXo32wF5dJgVEj1xIt91Db+3QLpXhu1PfdoBP7uZffkfal8vDtw+hqd578kw5fE6zmR8BvzO1Knwj4FcQpU8nBwwHe+7NAD4FEiAogH4Z6AcFil7jV3VQ3Lj8bk/N/tZMW6rDt4i/3w7stInN8QlYySSvDwyQl/DlywA7dy0/u0+v7h6v+t5ajupwH9LV2kGoKYXA7oYyud3C4NL98jidQ4qWzjOV4QP4qoevIh0hvzRsOYlO2Xfy61yEj9vXOwT7h6AR4QZ35KVVlwOb36vCNOnmAEp+qNM9fcpBF49FW2NcF9OgiYFKHRoXhP1Ql9PDy8u9OcCnVgIEBdGOg37qVwFYvdGiF6Ap05nnsltvudcPXSMfqQoA7rJ63mfEO3pJdCQBTNIK4hvV/F4qRBnIy88evN171y68x2u999IGrbGn14XaebtX3XspjcfvHGfkwTNk+CMC9qZni93VMkWSr7Htt0tCnb1nrW8E/OaadvoBH3Bw01w9ZnZKXYBByBFy6rQJRrVtZGM05Pm8865d066uGXKUwMMHcx8o1LuCyWgXv11+ufvH0p7U0AGf0ttz8Z7XqrvN43cOOfLo+QsDfJ2dFxm+xKNRFPQj4HemnvhGwO9KotoBpg/wKZIDA/dP7QIc2lxlTj19fqPqnBOyv719yS4R3Xm2SFCZvnD7ZSpqDlVALm7Kzafptg1H8Srityl14FwuSeA146zG3+cgTwGhiJteClwvzsj469fvM4BPuXvj8JEuaXPUyrV+yFrJfTSBIuA311TDB3zKKoBQkOV/TADRBK279NQ2gG/76L/UnTbZqmG1HI24Ws68ZZdLuH39EpDiFVIPADtzzwA/bQtiZJ6BNYjbe60/ljYNAZ9aQggnht/r1j6M2z7OyMu3b1UvQOkrP8bZi4yOhskyb5+A+/RaPI/3sd8j4DfXgs0Dfrnj+7PcM9BvrvwfdUoC9H6FNnWWHxZOYXS3TZn/Wc8++rKt8sJFrJFYZIAv4TIcKFn8Ubl7f/AM9W6O+jsQ2BcSnfEPOSmw5U9Fe51qlONXxxmZmJzUVtKsFOQlq5TgYfbV0SmWhaoTtl0aH7N7BPzmWq95wA/LBozlUFbk9MNwn6hdSAN1wn5sXDsy/ES3YxiXbRkc8Nk/Z8PGDbr7JRPrGlZHhxL9UkxxV8cWf/Z7i3tYEA80C++On0b5QSpN3O7xR968mypq/gYNVIsJ8kFiFjZGnSpFwK9DpXphmgV8AbACAAFnmPAqP4d+Ddu798XOGQ69qDZVa8Xk1yZrISF01G2Tnz7TvfTR8NK9cDZsFDm+yPJFnq+A71o8XhNJJk9PHMvPHg4vDWihA+dZb80HukHrTvzuaYy8FcAPJ0fCKBHwu79vEfC706huCAdoOoGb/tUy6wB+WLIqRA17Qxi2D7sklXNzvcdXOK4qYu2k6kQmjNWZ/BTEBewV8GWPfPbJB+wfP3okgM/h5wD+koQJXMKwmje7yvXVZ3wt/SxcavmwgF9dpnIZh/HcXL2pQ/d6COC/k0nb1qqoU9B+rSFSFzpnrazapvBRe0TAb675PizgU4/wha/oFB2r2jl8vY4d5t+aGdx235dybx0SKHmFYO+Az2Eqjx8J4Avob5LDzTcK4HM4uQO+t19WxoAkLYNd4Ef4Fv8skR4spTTrxZRIRRlHvWgNhar3XtTNrDsBCoBfCF56AdpmGQFfVTPjwqu2b0htDwcM5+65Tx+HX7uY1QG1HxR6UClcJz+C0uHqdrpS0g08hl8Qyt0Lt66gn3L6z0ScYxz+I9lT3wB/0+ZNcoiKAL5w+Ro228qCAnWpr3g3AvJe94HS61JWz2No9+nLf2QyXT6nWfbzvkXAj4DfUEf4mAGfzcC6glxHOn1YwKdoTn8D7xTwK0Q6j0SkA4ePYYtjA3zis3K53sVg3uTVe3ph/qG9yVLNvLQU8PsGe+oTAT8CfkPvtQPOx8jhz37AH9eJW+T3PmkL4CPSAfRtkPjYAP/TAXrvoiNTcPj9cPZpCj6yfnqkMwJEGb6/SoPfhw/4g5exXQrWDwbpBQN0wnaF6skdjh6hkv6kAJ5z+Yhz0NQxGb5N2qKpA9jngF+/DsbgD0KvYuX6S6+5/IulmblPI7L1adZKfVU/5fBnbhWHW7II+M3Rd7iA32c5pVPU6xf1QvVZimmIlgJ+KsKxDE3zhnZRwGfSViZsTYbPEYUm0qkL+IAygwpXfwBtcat+m06vKo/Z4JYBfr+vq3P4s4EY/dQhAn4/VKuOMxMB/1N6v6G/G28hnnnHDfCfCdgXRTp1OfyQjqQZPnteg9ybTm+QsszkuBHwB2ydCPgDEjCIDhBw0XndNKelE2TUg/VTAhIHe28HyIS9DPjlSdtuHP500HA68ujhtZmxQSPgD9g0EfAHJGAQ3YHGwZ57BPyAQEO2dgN8P0ehF8CfLiCernyG3ARDTz4C/oAkjoA/IAGD6BHwA2J8AGsdwHeRTqiW6Rz+ByhylmUE/IwUHS0R8DuSp7tnBPzuNKobIgJ+XUoNJ9wggE+JvP2GU7rOqUbA70wf942A75To8x4Bv0/CVURzwKDzuokinQpCDcmpLuC7SGfz5s2ZWiZF8vYbUvE6JhsBvyN5Ms8I+Bkp+rNEwO+PblWxHDAc7LlHwK+i1HDcugG+b43sgI9Yh3OQEelwefsNp3SdU42A35k+7hsB3ynR5z0Cfp+Eq4jmgBEBv4I40+TkoO/Z8X7jBtgzaVuW4VcBPu3nbUk62IcNyMNO3+nxsd8j4A/YghHwByRgEN1BIgJ+QJRpttIG3g5k7e83YO+AD+gjzmnH4UfAn+ZG6yG7CPg9EKsqqHeIuFtmFXV6c3OgiYDfG92aCu30Jz0Hft7vqakpOfFqXM3Dhw+TBw8eKOAD+iGH7/HK5SGtYXPgw06/XKeP9TkC/oAtFwF/QAIG0R1wIuAHRJlGq9OfLP29dsD3M20BfAzcvU/aslumt5kPFKSBm6c5bEAedvrUZzZcEfAHbEXvGJHDH5CQEj0EBweQOGk7OF17ScEBG64e4+/3ixcvEgziHAwbpwH6HG+ImTNnjhpvwzDP6QDj6cgjrNPHao+AP2DLeYeIgD8gISW6g4WDPfcI+IPTtZcUHOgnJiYSjHP4r169SjBM3mL0EHM5yHzhwoXJggULknnz5iVz587NTNiG0wHG05FHL3ScqWEj4A/YMhHwByRgED0CfkCMD2QF5F+/fp0gwkFuDyMzOTmp4I8fXD5+a9euTdatW6cAD9jPnz9fjXP8/uzA7207rGpFwK9H2Qj49ejUNlQE/Lak6dnDQcFBgnvk8Hsm40ARXr58qaDOxOz9+/fVjtubN2/UwOUzIKxatSpZvXp1BvhM3i5fvlzd8XPO39uSQnn7DlTANpEj4LchTMl5RAAr2w+/5NfT46dK8Aj4Pb0mHQM7IDhIcI+A35FkjXs6Z3/t2rUEc+/eveTu3bvK4QP0DvwrVqxQgAfYaaPPPvss09xhMhcxD35cjg3evo0XOshjGGnPpjQj4A/YmhHwByRgEN0BIQJ+QJRptro2zuXLl5NLly4l3H///fdMLdNFPHD0mJUrVyaA/969e5M9e/Yk27ZtS7Zu3aqAj1iHKwL+NDdih+wi4HcgTh2vCPh1qFQvTAT8enQaZiifnL1y5YoC/cmTJ5Njx44pl3/nzh2V5yPTR3wD4G/ZskU5+6+//jo5fPiwPuPmk7jDLGuYtg8qoVu0t1IgAn4rTXpyiYDfE7k6Bm4S8FVOKQt+Br5ErNTvaXAD5/0BEnjz5q1M1L5Rcc4ff/yR/Prrr8mPP/6YXL16VQcA1+Jh/xy4+3379iW7d+9Ojhw5khz+6nCyccNG1eBBYwdVTWHvp4d+05XPB2iTJrOMgD8gNSPgD0jAIPqggF+G94bwPijhzLEOaxCamnqnqpjI7e/cuZ0cPXo0+emnn5Lz588ncPvI8OHw16xZo1o6cPYHDx5Mvvjyy2Tvvr06CKxcsTLTy3fx3LApN9s5/KbaOwL+gG9iBPwBCRhEHwTwW8CedMuOQV61rdLTmupstfOsGXAY5dJBUuj2+MljObD8UfLbb7+pSAewh9tHxo/YB7ENsvrvv/9eufuxnTuT0dFRncBlEhfufmQO21zLgizhvod+fQIcfhNUjIA/4JsYAX9AAgbRI+AHxKhhbQIAwmzCL6IXL56rSua5c+eSs2fPKuj/8MMP2W6ZTNLu2rUr+dOf/pR8++23yWbR0tm0eZMAvYly5gjYzxGwny4Of9pERyHBptneRHtHwB+w0SLgD0jAIPpMBfygiDPCWtXxq9x6Kax+DPkXkSQ28dpW2l7942py5fIV5e7//sPfk/uipnlHxD2HDh1KvvziS+Hwv0uOfPONLsRaLWIeUbZXfXvn7hXweylIv2Ejh1+LciPSybyZa0WIgYoUiIBfpMcgT/4qOlfIva4efvklzgBMwAswbPuWp/7lcpfTK/tXPfcTpyqdTm7UpUpU1ZjURCpBPZDTv307Kdo5d5Lbt5HlH0t++vmn5Pat28nNWzeTI8juBfS/Es0cZPjLlsvCK9Hagc60I20H4bW8M0EolpWlE3Wnx6/yXVRCQfn2k9xGy8HKOCINSy7WQOldG2uwdD+Z2BHwm2vqRgFf3+q0bPSU9Dl09pJXdaSWcFWBPIGG7pVAUEq7qhju1gToO2BPybbI72QCFzn+o0ePk5OnTok8/3gK+LdUBfPgwQPJvr37ks8//1wG5oXJQjHQ2dpRSuUFq1UxD1yq8CCPQb4FTEuzGkKOXUur71XLy+XRxEMasV252rl77Dr3EVk2Le3zXidZXJVK1akkdoFIdVL7BMNEwG+u0ZsA/LBDaX8Pe4l4isDBsV8LHnqXaxL2SwPTPLTa8sdy1J6fA2zqKa4WwXCip3jtAtMG1Nvfa12INf48+f3y78nFi5eSeyLOQYMHdUzk+Nt3bE+2b9uezJs/N5k3d55x+CGFlYghJdvlLDVpkJ5WhCDfEEhDe7vifBB3KW+HsjVBnpHr168r4LMM2ve/YFm0zrLbW/5Bqv6xZOodI+6WOXiLATbOZHDH9CrSATi1m6fAxUMI8eavITRc7U7U0hGbBigrUz9UtDpAr35iWxwdbJVW6TMcvhCL7RQwiHUwvj3yjh07kh3btyfrZcfM9evXqyYOcnsdMApVEeoXnqvLaGVvz91Wx0rLWunZmm8hjwFoVZldTUdvKx/csmKIxf3atWMWtmZeVcFG/vKXv2hzsOGRL5NmBZ1vdVoVKbrlFIiAn9NiUFtjgC9vNGD1/r2cxyqFMhASm/6/T95R0ACFfJBpLX+xi7UP1xpz2lykTlpK+ekPLq2kSiOlVvAsNJoUOf7bybfJs2fP5IjDZ6K5I9o7z18ka2WnzHXr1orc3lbcUgjKQTrszuVlcpp3o4eWvc86hAO65UduUoj0hn+BNlo4827sN3232qXnWVIOY2YkZFpff7Z7GlJv1CEvuafRLo867iP/8i//8h7QYrtTN+yCx9JozIx8yevUbJrCRMBvjtBNAD5go6AjlncAvgIQ4J8OAGnHlEe50g5V1ZPe4xh4iDXves3V2UvRb4peQr37Qz+JpXQjKn3e6CU0hNMXw4KriTcT6eZpb5OlcsoVq22RBsxfIHvmKD2N9mWA5bnb5bTtB280fc+fjKxxsyypy7CvsAxVeXnTOKjDxWNYo8BaBb6OVKpCZNw0ESk34dInc6tKvb6bAj6NCXcP0HOSDftcl/ezrp/kpxXSO0QU6Qze7nRM7/DeMXoR6dCv6XiAPpOOU++mMuB6zwAgbg5kiufgQNCLRnjOLjwCT9xLj1nQAS2FbPtMa5CiEbcdJupXknjqF5PQkGc22A0ZQnTuuYrkBMg83bo1lAj6T3rkpcnqD2lVN4AF8rDevh6+Few9Xb9bHh7envr5tfS0mBXRcVdDRmLSm65VAOjVzE3XLSgR+CpJI+nNYR/H/q+Rf/3Xf33/XD7RbOe7FXpsGTI5Hbllt7soy+9M3Aj4nenTr2/PgC/9nq4PMGEAe90mAC4fsMc9BXzKFGBJVkTtYNkTlpJLVaQ0fAevQopVDzr4VHngJgkLlEhJAAr+gzJhTTMmjF5VBfEo+LndQttjGqfgpQ/yI3TDWzlR9saRywdlfVB/A7vQLwTQVtBNi0EekniavSZnaWi22bOFsNLpe5H65PEsEZ4tL2wW3oLm/v4sxZZLf8xJwluZ08ceb2Edi4yDJURptESAPU7yQ110gZosVpsrYD9X7srpUxD7t8gE93iZS3+Wkb/+9T/eP336VNWq+ETjnEo4/Aj49QgaAb8enXoJ5YACs4EiAVw+7yPGuSHSs06bp0z3nRJH2mSSM1kF9LV92B8mC5+DUx6zm027qATye1V4A5Uqn05uHcFeIipnLXXKPv0BAgBBysINoDFDLm7PgUyBQgIarXCvBjarmf2SktrSH7tZPIUrD6ZVtnpLzoafqV85HGkWrjRtjZRGdTvhxCn79aRxpf0BRs/P66/BSdMi6mP44+Fxy9NuEziM2JM95cqDOFrNimxoO2iUAz5aTrZK2dpM/LWdLTFNJ0i3bA2Clr0KzyM//PDT+8dyKPGChQvkMOJFCvjI8h3wyRQix6uaAhHwq+kyiKuDFHcX6bQAvnSisB+53UQ5Is4RwJ90Ll9FOwJ6gxRKIbB9tws5vF6yoUwYTZkfecjLaYMXIhSAIQQAzwMgz8Esj6k0JFWhocVzP549dn4HfArOaSB1CyLYs+SZfjUxkpAyQTQFsZTT4dlyl1/+s0FKHsJ4JJKmZyVLw1PDNJ4BfopHEt7T0jyJLxe/Erx0WRq5IyGKoSx2HgJbMUTRz58sXh6ynI6+ebm3R9O7MzCotM6bl25LoVtSQNNiSsWnQjJG804B0uAG+LK4Ak5qyZLFurUpO+F5ByPTCPhF4oZPEfBDajRjV7CS9457v4APh4+x9kGWXwT8Nv1PK1Ddb3Bt9fF0ctDtjQYaP00WqDT4FKBJAVU0KoTLt7kH0Mfft8wtzc5pBvc7B/GAcosiIgjS9uIXIDnzJ6FS/cJHyTuvo2jv8AU1KXSlUILGc1HyENBSvPBM8ZM0cbMBkQHMBjE7SOWtYIuBnM8JUAofPD0/7j4Hgz/F1HrCiKZ52U089D+no4bnpzCQqAOOWPQq0MQd07uWo+Tmj7n4RtIi7zxJDSJOdmfEqrjAVuhD/eeL0QFgOgCflXJLZOYd+X0E/IqWaePkHTBO2rYhUB/ODl7cewF8upRP1iqHr1v9Guh3AvxQrEKH9U5aLDquRR/vwnb3p2Ksbk/EwijgkHwKTMq5CjhOTU3q18pEeqYsCha8a9SPdw8acRmnODdZmIq+WPW6SJg4BZQUVDysRkh/NHaahjppNeQndBMP56TJE7vq5796rYMRbrTTYjEOXJ6HteUciWOTvZSd/fZfyDm5L+VA9AULbIXu4kWLRcKwOI0mEAsdpBieL3HYq58tHzDgFXky0GCcfll9Ujp6OUhMq5Y7iC13qaKNB6UM7S6jPr4Whue2oE+YUlJGnxFTkkkB33YYpQny1Mmh+IRLfqlfpwBp0JTDf6wEXLrUAB9tncjh58TsZIuA34k6/fl5J+DeE+BLZ5oSYLEJWzh8QAZZPhJ8uMyW/paEYO+lLXdYc6c3tfYo7b84lzqyp9XtTjQvQ5iMgowUWBkJAcnHjx8nT8Q8F5BEycIPIjFaCccrYIEMmHk4GDfW1WCyfiz5lAGkqmxaDcnX20DDSDvol4bQ0Tj7yeTJ0ydSnieio8+eO2+TVaLlt3LVymTJ4iViFlt8YDhVN2SbBtrlhZQf8/Dhw+TBg4d6PKJpCFp5NT8phAK9ENX71/j4uKwFGLf4L18kq1etFsZ0tdZ1sdRX66YASeS8Zl6f3MVt4lNqztKjBwyTM7fKASCX34fp+LvkbnoP4jud0YpksAw5/PK20p5GVrDAon6dAqRhM8BfvHihvixM2DrgUwjjHKIMP6BtweovpHbMgAvDnU5ZdTnH4PeqME26+UtFfk+ePJEFNE8VQOhEtDXAwLmkaGppx2ky8x7T8vy9zO0AP+gzmgMdGzfl8N+joRMCfsrdiT/h/HKg9eeOdw1c0aNSpzDdjulUeLaLS3tNTEwoN33jxo3kuhiA/5EYAwYTt2KXhtOU2cAMs0HUqzdsWK8LoziOsKUfh1UpFYB8jf4kKaAtaet7LoOpLsQSgGfV7S0xfiQiyh6bJE+AHxPqlpO3D1BafpkzvHHzZnLj+g1RA98g8TYlGzdtVJVw5cQlf4pEORAb8ZVz/8EDPVCdfX0eiQiaQ9O3iNH3d/Uqy4+BiZiF+ohL4VnJJOG5V3iYd8ff9G0qRCdnrpCs/twK+oS1kPxC3xDwR4ReIO6QAX+RAP4S1dCJgE9T1bsi4NejU91QvPxcBjjVHL6FKXYtuhAduxrwRQwhHSzs+D2BvZWIUqmt6se6e5VPZ7csniYdpm8+L16I6EM42rOyL/2ZM2eTu7I9MWaFgDgGrhDu3rdAcA4fMNy8ebOCMGtrbF3NPCmMAXiWnWSTlUF8AVkDfC834Y22hDTG5q0ed3hRDjmHeXgqq3B3ywEoO8fGVCScbbUgEXUuQb48puRLANC/LefiMlhckoPRL1y4kIxJHOJtl20aOADdRD/yRZYWyr9wbly/nvxx7VoWf/eu3cme3btkoJDBQurHoMLXBPHy+rgtpKvXS/wcid2pzt2TlLAZ8IsdwPfkyrnx3M6PIguFI+DXof1MCBMBv9lWcKAnVexVHP5MAPyg32cEqHLLPLtZFCUcKvKUxsefJ3yJHZeTp47KYeL3APz795OtKaBDH2T1AO8TMQ7YcNsbZJ+bXQLEY2OcRLVYaZnpeUsW5OKcO/EkMv9yGYcPFOkEMF8QwJIUjzkEZOlnz51NTp06nTwUbh3xzJdffJF8IRuqbZZDUDYLCBOef9+ixTj1Kf1KuX79mhyqci45efq07La5V81Oyjk6qiBKmSSqXrrCd+JNwqHqDBLXAH45a5f8MAwSnL41VzRc4Iz98nrwbO+L+/idimpl3aG3O+QK4mccfilJrwf3KtCHpnDy8+bNzydtGbxwz6hgRfO0qgqqfp0CpJECkU7k8KsI2c0tAn43CvXm/7ECfqmf91bpUugMSCRR3cNGOGiOGvz16NHkmYD/uMiy9+79PNm9a5eK4hDH3ZdBAHNPzN279/Rrne0PDhw4kOyX82YR62AM8OdksnH2yYGLdpEL3CZtMEe48rkCPNkcAG7ybID/Jjlz9oxsmXxa5PAPkgcC+OQB4CNq2fzZ5kyrJgN84e4RzSCWunbtup6iFQI+p2fB6Rs4Q01KIgexyHYOEyngs2Pn5csC/JcvC9jvE/NlMjq6w3br5EtHygzt6rUFoeqFLDVP8VGTyNOizA7sHtBxWO9plu6mHL7QFg0dQB+a69cK9PYE0rvHKTnro/p1CuBpqB6+yATRwQ9FOvYJKAUQIlKAeFVTIAJ+NV36de0b8KUj0dWn0GwpyPCZLESkI/5pZ6NsZZFO4NWm6PSmtEcRWKzd47RJqpuzFNTSfq8blsG9A/hw+K9098qJ5NDBA8mXArJMXK6ReZh79wzsfxcu+NKl3zNVzu/k+MGvv/oqm6sha2rB3ABg+vLlq+Tlq5eZbJ6+jpkv2j5o/CAiWrZsqYIR4iPjuCcM8E+eUsC/L5Ov+/cL4AvHvVW47c+2fGYDiMjf7QtBRDq6JmJK5fZ/pBz+Cdlj/wsZuODyd4mIZteunZq3yq4F8PjTckpZr1y9ImKkywlipPMiCoK73//lF8nY2E4FfQBzrqiFzgTAz5pXGjF9Y7K7++HOwCDVNA5fym51cF18G/A8PHdPK3Rzu/p1CpAGVA7/iRxYzKehA77P7oeTtjbyevLx7hSIgO+UaObeP+CLRocUgfZQTZ1s0tb02GUc6Az4irD6U1ER70l+N7D30NbZcr+KBLo65WlYqq6HD4ePOXHiRHJMQB/AfSsilUOHDipXrRseyrqZxzIZz4To+fPnkzMi72cf+3Exf/7Hf0wA/bVr16i6NdtNwM0TFsMkPnGdc3eOHKDHrBclDnbFXIz2jXwxMFcACJ85A4cvgJ9q2wC++1TEslUPN0dmz4lZfFHQpmjp0DbXb1xXDv+MnJNLfL5UAHxk8oifdE5iLiINjAH+64nXKtIB8C9cvKjzGV9KfvuFw9+5cywZGx2T/fiNw4fQ3i6diU6oeiHbpQMD4aKcclranmny/mb43dPjWYVlUk/j8KUOsi5BuXxxqwrvcct3DVuOUA4kzyM//igrbUW9yvTwF7edtIX48WqlQAT8VpoM4sJ75u8a97oyfNuCgK0IAHz019OFV/Ksi33gmoP+3cLhi5/z1dXl5/0v9oEgOfMZoI9oykF8ZOq8W6aO+Cw5Kdz08RM54HPaFGIU3+EW4MacA/AFTImH+bMcMg7go4iBca2aO0yeilHZv8TT91jy1FqmdEc3noPJkcnzJbF69RoZGEzE4oCfyfBTkY5Pvk6moiKjZarlI/VB2+iaTL5Sxt9OnlSw3ysnZu2WCVgDfNQTjcsF9I3DB/CvZhO9Z0T+r4AvoG+yfwH8VKRDBcJ2qW5LXAlVL2RlGhKV9yV/I4ppqXvglIfL3yLcMCbDTzn84QP+zwL4pofPStt2apneCSsr/wk7RsBvtvGbBHwVIwjI1AF8vgA6A4B3T6tv0JcHJoCCgYCs37UkOkC9V0792bgBPmKdV7LYCS4bEQqc8Rq2NRcgR20RoyIdEev4e+kiHeT3qN2a/vsDVYuUw49Ufo8MH+6dhU/YQ4MGzEaZ/AXIMXDu6OI74HMgCqC//8v9Klf3E7B8bsAx1ctjMnwBfPlCAPABe4zK8IVbn48cWwDfV9KaDH8iuSqA/7vI7n1AY7Djq8IBnzis2g0QuEu70IK9t2LONBTj5px+kG0xSFY0bWcJ5m9UJ8D3JDxs8tU5kgAAQABJREFUkHrBau9OwanyQTj8CPiVlKnp6C8yncQ/i7njDpdZdalGhHj4vSpMk24OouT3MejhO3PBfRAOH8DXdhA09y8Ap2vI4dOp6Mi9cvieVhN367D6K184Vh5K5Fo6LtJ5jtbO83GdsN0p8utVstgJEWw+YXs3uSNHEKKLD8Af2C9ALMDIilYmYAF5OGx06G/duiXn0JqWD6vr+QJ4/QqZ/isR9zxRfXddUCV69RxnuHfPHkEpKyMc+ikRyTjgWz5f6ilY20VzRg9Bl8HB33HvJ3D4qFcC+CcE8D/fA+DvUcAfGzNO3Th8dpCcm31RXL1qHL6KrCRvA3xEOsjwR3WQUMCv2xg6s+pwWjNSGrzqPVHAr5GcUS8He567Ar6kS7iU9JWF1XQ98coQ5hgBvwNx6nj5ixwBvw61uofxwYmQnxLgO2WyjiudHPxwkY5p6RxTbvrRo4fCdW+U4wXXy0EkyNqXZLJ4mAzeSY4fRGWRO5w5boAvuu/nzp1XFc6nsloW1c0Nsp0Kd/Tn5YxrBXyAGaOXIM0BRDYio3dlDtYFnBa1SmT4fDUcFG0gQN9FOmjkAPoGVfkeQCrSkUHn9GkA/4QegK4cPmqZCvjG3ftcAswT20q4Wub58xdUHMQXDmUizqgctzhPFokSh6sG7kqxCFUrpKZJUAtdHWc6AJ+CZO+HlSr7beeeBUgtJcD3hVeyJHu+nWTjs/bOdZUT+NSfI+A3+wZ8CMCnBt1EOql0u9nK1khtPJ20PXb8ePLLr7/qdgSIblbL6tJVK1dlAGx6+E+Uq4ez3y/gDFfugP5aJloRBf322wnV9pmQiVDctm/dJpOsWwzwZYIW7h7QR3Xy6h9XRYaO3j1aQQdVxZP9cvjqQrRyWrh0FREJ4B9O/Rlktm3dms2hGBAVZfh8ZRD3N5mIdpEOKpmjCvhMvrL5m20VUQD8VEOHrwtESAcE9MdGx5IdcpA6AxEL0LiqIblMbAmloF92Lz0HiVVx9h7akgoCu0dwV1rIc3jHXofDJ5ksnltwDC4Zl7teJcBfqjPyutJWCMjRZRHwO9MwAn5n+vTqWwX4AAziCNcaM+aj+Ha7yCactK0r0qGMH1qkk9FJCgJsaO2kB7uWzjFRyfzl16OmjSNadevXrtMJW7h2jGnLPEgnV1crQCP2cFGNT+L++NNPyX/+539lapJbPhM1StGbRyyE+Ob1axkYZDC4c0dEQzKp65uVHT50SAEfFU20d1y04iKdwwfx369fFahmIucnrren95ObsqVCBvgy+OwRMREinTEBew5Gp42ZgFUjoO8yfDh85idQyTTAFxm+fFEA+KMC+Mrhp4Cf0bKjBSp3BmiPbqHkt17wNFoxcPi2up07plfA93Jx17Q8waCA1kfCkGYPAH+RTtzYpC0cfgT8VnK1uviLHEU6rbTpx8VfVAcKwH7WAX6IBWln9T7LwJMjiwC+TNg+Ez38Y8eMw0fVEpVLXeAk2jMMcLyDd27fUbk8i7CYoFU9fVFbXCPqmGtFPu/ql//5n/+Z/H//6y8ZUGzetFm1cJYKkC8TIEeVEg0bV/O08iQK5qhBEs4BHy79sextw6StDQgC+MLdb4HDFx18A3wBJRm4vJ/cvHlLF1+dPnNaVE1PinbObpHj704UuGURlQG+aerAsb+RrxA0ddDSKQC+inQE8MdGZaAYNbXMYQG+E4GmqX2FjZwCs8T1diYZ7JhhAL6mL3QvXxHwyxTp8dlf5Aj4PRKuTfBZD/hV4CEd07omv3DscjNrBvgsuvr5l18zNUX01hGDqEaLyK6ZCL169Q/b1VISQL/98917bGCQPXUey1cB2nh/+9vfkn/79/+Vcd6oXKKJw8JL1DDJl9K8esUePq+M0xYd98+FEwecOTcDc05l+KlIR+YUDh0QkY9w3Nu2i0hHxDrMJaDRo6lJmt5PDPCvy6TtWZ20ZbUwhkVXYyLHN87eJmxZ7ftGREoK+Fdt4RVzEMrhS16IdFQUNMqkrew0KeEhW+XVAn4QuQjKxXjmV9VcxXDtnoppe7n8TizsmGEBvuZRqndnwBcun5VyiHW8I5JIvHIK+IscAT+nyaA25+65zzoOXxAkhAIFgBTwqa9rtTgNdWsF4fCPHj2W/PTLL8o1A6Zo3qCWiSolNLoqWiyXL19RTh5uHrk2wIsmz9jYmOjbi56+pAOH/+/C4SMCYbEPXwqfyYDg6aAhg/yc9xmDKI0Vt1tEzo+oBlAFDwBstHQePJStFWSlLesCAHybLBb1TVbWKuBTE+Hw5UuELZYBfCZuXYbPwin073XhlYC+y+J9iwHfFO6yiHTYS+f3SyLWuXhB8jqQHESkMwaHvyMDfHKrupzOuR+tELZE4NM/yueJqC1PX/MXN7/jjR0zTMDXfALQbwP4sh8+L0QB8IkarzIFIuCXKTL4czvAB3zcr9h1mHQ1znjGy/C7AT7kE5zwPvr06TMFa/bR+ennXzJtGwAWEQt7ya9cuUI5/D/+uGZqlzIp6lsuIOdmGwJ23WQf+h9+/DH5D+HyEd8gmhkVMcqO7TvUjraPy89VJCOaNujFs4rV1TMZbCZFXHNKNHRQFWUCmf10mNRFU8f18C0cHL6BnraPAD7qoMjxT4pK5lERU42OjiZjYvbssZW2DF58QXg7U2bOAECcc1FW2epk8rU/ND/ypOzbtm3tCviQFXDNL4jMUw7K+lR8zIMPaFMtHkkjLAN2THOAHxayuiIR8EMa9WGPgN8H0bpE8c7OPeTwPwXAz0kjUCD/yO/hzH+VCduff/45HdjeJ18dlklS4XLXyrYHyOhdr/6ScMCIPVzUwz46h2RCdVLAG44bTZ8ffvxJ5+tYbAV3PTY2apuwLV+hqo2oN+qEt4A73D5pERbzVlQk0Zxh5S+aQ2zWhkG8wsCiC7QQ6Qi4A/oAGhdtycWeP3fv3c0AH3ESYiVEOohnli5dJiY/0MTrD+BfuHBRzwJANKUDjAx6PpfhIh3NpNYPgFgNirWi9xho+gGfArbWLwJ+jw1XDh4Bv0yRwZ8j4IsUPUVK9ppH5fKocPg/i0gHEGU/nK8OH1YxCjr0KFpwMMhDkaVfvMjmYud1R03iAvh8DbCF8sKFi1QVkvkAv8bGRkXLZTTT7nGA1j13RCzjZ+TqbpvLluvAwWQs3D1iJhZ5oc1jWyPsSidtt3jymZYfXw6IkExE9UxEOqdly+cTKjJiUEcEtWPbdj01i68Wz/ehiIvuP7iv4io2TiOdBaI9iAYSA8yaNWtVRdW0dEQPXzCuFeay4gQWQtULGUTq2zrzAV+IqiIdkdeZDL/vus7qiBHwm2/e2Q74LRQTdFeg9bsEMI54RBZeCeALcKOl8+vRX1PAn1KtGMQ1Dvgq+hDtHeXwRfTBKtqbYg6KqiQLptbIPjiIeVBrZMLVV/DqISly2hTqm3wpIL5mluFdOrC4iMc3X9NtKoR7P3nqpJaJfDi9CtVONH7s5KsNUn6b90O1G/Ew4iMMRyJOytwA3DqLt9D5Z38fFn1xQhdrC1AR5auCQ9EBe74KPB/qyylZn8t2DKh0suaAxWf6RSODgc14d4dyA+Ac8HNbS+s04jBjAZ/d8dDDp6FywIfj8LG/kfrPmkQi4DfflLMa8CFXiC5ptyr3LgdM2/VyXDnq48d/U5EOoAZ3u3ffXgVpwBoxCxotTN6is35FJ3Evq2YNopKtqEvKpCvycz1eUCZO0YdXmblw2C6jn6O7W8p++QC+cPgcnIIGz9YtxP8sA/KzsviJ3S79QBIHdE/H2xDxDICsC8BkNa9r+TBxS1y+DhBHwf2DNwA4hoEGMY1qF8nXCwvCGBjGxkYzzRzk9xzWjqhvDgOMlL3+RSOEDVF+qp9SnZAzEvA5MGGdjKC68GqBNYBr6ETAr27WCPjVdBnE1cGCe10ZPtotrJad8ZO2XQjjkOU0gAOGe2eHSPaf0UsC+XbC7KWDCMQ5cuXsBdTRakHu7Vo4qj0jWyw8ZVdN0dhBhZMwKpMXjhstHQ4fp7+jiYNGDTRdtpwzcperxg+To3DdcNNoBF0SEYtvhiZB5XqftZeWX75blq+wg1e2bkXLZ6sey4h4CN19Jnt1u2SZbLZ9/l/rCv8FCxfYXIIAPnv1QwMOB+FLQbdDlgHMz9DFHc0io4tRz2loju1+i4BffGoXp3/3mQn48smFPJBPP0bb+TI7ry+AvATxqqZABPxqugzi6mDXG+AL2COKYLJQ0Edl3TU3T6OsAFZRYbJcA2CkHpSUY/by7JDlH9SoJcLZAtBw7VyEQd8dAHXO2gD6nW56xqQmHDQcvGnxrNSjBwFJVC0xd1X2ftf26pFtlCEAoGdALZojAvqoRhKfxVzsmLleDPJzsEGPWpQ0OF2LtHyFrqpTSlzSQftkKRy74IoOPCL28bkA49hfZuVgodcT2bBN1TelLBnuSGVJS+PJQGFbRWzQMuFmaqQp4EMcoY7TTh/b/hQhvvjUNlLfHjMO8NkjY4k0DLK0Kg6/75rO8ogR8JtvYAUd6bXca3P4UgxAW/W/AX019XbLpAbEBfLbX8CswXH7ME34FAFLRTUirlFgFe0WLkrBlzjiVxeRWNHf6+DAAHFf5N5ozyDyYMKWPo1x0Yerez57Nq6aQC5bV+ATYswD8MUsT1fu2sCxQjlwAN8PWEHnH/NKuHBAnK8C6IhICvGQioQEW2Ak14pBirBExDwciILmECDPAOUrexmMfEsGkNtW/C9IVojq6cq0LAA9YhyMbbI2J20/qJO2Uq2myts7t1kavf52iz+jAb/M4dPx4lVNgQj41XQZxPWDAD4F7thr6QPD6wd0MU/dBh+joKtH2l44z81RfuHs2dfGAA8O1wYKdORRv0R3/cWL5wK6APecbOB07ZcJ2TPHDhexu77HnEqVLpByNpkBhQFDB14R+ZAfgwGgjHFRDAMT4iHKzreCt6FP+rrICJDm+EQGhveSF/v7M0CxLTNp6ZeZpKv5C1G8fpa/6OiXgN7yQQKRf585Hb0OGdEKlmJjF58KAWs/dErjwwB+WHQrXaaWCYfPSwTnAOAzsrLgwmX4YdRozykQAT+nRVM2Bwvu/XD4kwpcTDraPjOcc+sLs7yM4X747tb5DoxkUNI5aB++AteausJWgBw8A47O6XvSLIiC0wbUbLDg7rDyXsQ2pg1jSSEiMRGNimpkANAjB2Vi1t9f48zzLRB8oZQDrk6iCtA7HngbAdCkoUAtdjua8Z2UxTh8D0c8Twu7XlJeBicGDo/v5cH/vfgjFhqR8PrFwUSu2DW+NMWIblEZtEk4UhLPcqn87b39K5PJHIMmy9yKFttvNXSjfJjhLLwKc3K7lMEPQImA70Tp7e4vKJ+i3im5eyeoSs07l9+rwjTp5p2O/Pj8Rq+bz2i4Rj7zUYNDTot2BGE/9OXl5d4U4FN38CDrmFLNzK4VFodOVVeE6BRgMKqRsqdeKBfllj99z2Qg8wsQRGSSXwHAibMBrw0WcNI5TS0e/sj9ucptDq0cyPN4Ar4O1BIHe/hMHMrod/zCdLWk0p7u7n4+sHg8LZD8QAPqrbWSyDqAAOK8nxhmbGjQ7BJ7+EjYzK/V8qEB38vGvVfA1+q3VqmGi9Dzh7//+P6RdH4+ufhEXL9+g3H4MjnDqO4NVCO1TzJIBPzmmz0EmfaAT77ebVKAAKjgNsXogJvaeQYcwIcQEzJ7lkxmqahUJz8rS7cQFYm2dfK0AL1CoVtiWL3UWSJZPIDRAiqQBsCotNVQpCsAADCmxmOTpx86TuZB9DR34tnAYfdUpKJJQnu+KEgX2TpUztPwvKx8eS3ThOXmbhordy7ZtD0hjKRPDsULl+kF/GL+VU95KfMaGthDk/mi/aRfUTJQ6lcMbSLJaKw0qscz2lXl0cnNEhn529/+6z17WqMvy7FoG2RRAwcj87kYAb8TAc0vAn53GvUaIgeFThx+MVVeZwe3HOxdWwfZdA46xNTwxSS6PHl3axcMgGvn14e7FNCTs67aOQ0V5ngEDeqAIbHDBMIwuMtzERoNQBVQ+Qogcko7A28rh9WVOocJ4pfSuZCuZURQb1vNtSWupZ0jXfpcebNyhl5WTcu/XKownNolgIVv8RnAoXuKlMslUU4L7oisAH3mW5hYV1GWhNUUg2Q7kaxOjUb+7d/+/T2f+StEX5ZNmNjbghl1B3wv1ABUmNVRI+A337z+znHvzOHnedMnFKQEnAB3A30DfA7jEOwCt9JObmDRChl5eq02EKIDjEhZO/i2JlfDpZf0FAi6ROjkHYI5RYNWUCujqX41QTFzo20AJb1q1D1sU+x141nAer/aPFkb14sThtIqhw4d7K20JHb3FIincaGZ0s3uAL6qmMpcC19HIhDLx70wWYncmrcV1GdwOhQ7Gfkf/+P/ec/ChnXr1ijQO+DD3WO4sgbqlNIn6hcBv/mGD8GhZ8DX4iCSQLyTAr7q4zMQKIRZCEE070d+71yTrKtWBmvXCSsDd3LUhKyz95KmYmiHCB28stIo6CsItQI+Mn0GTiZZsbOpGgClcwkpeAlQtAcjLaBkFYZJ3eqULStkG4u3od/LwTSPJjIqJ+zP+j615l7O0p4BeYmotGDgTLIJbdWiGibg//f//n+/Z5Z8w4Z16X4WyPDXRHGON2SXewT8LgTqw3sQwHfEsT1fApGOoL2KdaQ8yrWmd8Ln3dS6Y/sit/q3urSPXcsnAMTqtNu4qnNek5a8xL89HKcDoUQ3DCYxOPmUVmJRpYS3tlMmSgmmrrkoAyplCtvloWWzEhXKELgXytuhGoVw4YOk5dEs2VLi8lhyCWMPbNe8IVjFFear9szBqAHNXV126ID/P//n/6ulZHMk3yAJjQ0ma+OEbUXrlZwi4JcI0sDjoIBPNzLtDxPtYDfVTNbipiDGPYMICk0vzHoiDqWnapeKQBpTUyomRwK1r/ZR2/k42Pi9dlYtAaG/i3hcpGMHkXDAuRjRmUejizk/XwCltPSsgyIWAN5zEv9K99S/2C4eqe49TVnL0CmXuunVDBfUuRwj83L6aID0QW7YTN0ULSYR6Qj928nwed+y9EoZ1RLp/PDDj+8BdmT4vnyZfa/DTldKNz4GFIiAHxCjIWv47vUq0rHPZANzBSvRPOSucn2507nUnXsHwNdOZexux1q1C2fuHaPW90yxoVMEDQKHqRkHEcQaPHVKQv2yKms8oRA0E8MBKi9fvkj0TN3x56rKu3r1Kpljsc3VPFx1Blqoglc7+lCF3kpM+Dx9yq8w73e8p+NqV6E076yEVkGlKV7+LiLWodzOaA8N8G/evC3rG0ZkBZtsTiSbFjFZqws6pDC4+xXa3S3e84UqUQ+/ubehCcC30gBWead6L7N6gLwDYG4jNO96/r5b/OJv0B0yjyq3zLNLenm4zrYUIzoHol5tA3qNoQXJ5M+tiToNSC+lnVhspa9swyBbNWNQ7MDYwSiLNW/EaC2XJEeKedGKYfLyeMCWFDo65PQXuNSil+8dozfsqQXomKZy4U5XQgoBlCIpgYYO+LLpkeZnerMQy0aZcqkj4JcpYs+Rw6+myyCufQO+dB24JK6w6xkQ0tXKgF8uZRir6JcDS+ouQduHLsYd5CkHym6pGEBXhUohJcP57LkqsLuluMz7Df2ePnsqe+7YYSycwMVmamxkZpu3yd44AvbtBxyyBuU8cbu7G3farW+M0bZIW8Ptei/mlz+lYXOHabWRu9IqAHtIg5sDPmE0HCUL6SaOuFddOphUeQRuI7L3hibHC+0E9zvhvBFDtyD+J2+NgN/8K8C75qauSIdS8CK36wzu73frQ51CE7L6agH/6mBDca0/AOTZK7DymAJHessDiE0pwY944u+U0S0PBPRZnR0atPkAfTZcZEM0cAKxWccLf9o2DRSGzvLPfDum1OKZgZ0nriEKD7lLq3NLej07dFLZDRIrZC30CGnglHesDcN6uNAtSFatGQ3KHsHziIzMmlanl5jG9EIEcaNVKBABv/nXwMGeey+AX7ckvPDwlH1iS7/R6havYzjv+B0DVXhaL6/wCJzAgDAcz7oZm6hh+pYcBvrP9NQpQL8uhx9k0xZLBsMYa9Uwn2o7zES1z+CuNRKWYtYI1VdRGgP8vnL/RCJFwG++oYcN+JTYxDu9l314YFG/LCEo94IehXil7LxeYZgy4CvoI8NHpAOH3w/gS6LtAG/WAX7F6Nyu7qXm6OsxAn5fZOstUgT83uhVJ/R0AD7lUC6/ToGCMA6MgdO0W0NQVkxpEEUsbVI1Ttg4fNm3/snTApe/CcCXs3B1m2YR6+i6B9mkza68QGrLHzvQqgnOuwJhW3JsIp+WRFOHoKJSlOCpXYQG3eu9zbVEOg2WatYlFQG/+SadLsDvq+QdONS+0usxkkJagPj63CCyBEmr6APAZ2GmAf5jleOjpeMcPvr4gL72A4lcVZT2PH1QeYmo4aoSCIK1t9YBe2IPE/CD0nUtTlVFu0YKMmi1VqVIqPDLKQJ+K916comA3xO5agWeyYAfdp5alRlCIFek8KQHgwlPxe6WFr8G076dAuIcDhTnpKxMpCMc/rKldui4AT4cfi14zzPNUKrHeHkKvdk+8IBdLGxW+dR5sJYsp0ai5fd1RF6ewXIp1uCTe4qA33yTR8DvTNOqLjusTlwb8PWkrD5KISg1TVBvRP2EAL8M9hAgAn7nvtXVNwJ+VxL1HCACfmeSVQE+MWpqBrZPvAKvi4D/RLl7NHVUpBNy+MI3ctBK79eAcF/F1nYsRIf8ek6rY0adPasaS/dN7hytnW85ahXYEzcCfjsK1nSPgF+TUD0E6xfw273kZN0OJHsoVsvncS9xhx22Aqt7ylI1wisSyQD/qR1W/lQmb6sAH/o2QeOeCk3gpr4Qmkqn5wo0F6HOeBUBf0B6R8AfkIAV0fsB/E5g71kMAkh10vd8PsS9Aqt7KobGr5DuVgE+K21dS8dl+B8O8Dtw7L1QYEaJenopeB42An5Oi6HZIuA3T9phAT4l7Qf0ZzrYa70GbIaugC+TtkzcPhFOHy5/46ZNyaZApBMBf8AGaCB6BPwGiNgtiQj43SjUu/8wAZ/S9AL6HwPYa516J3MhRh3AVy0d9PHh8AXsNwnozxYO/2Np50KjlR4i4JcIMozHCPjNU3XYgE+J64D+xwQCQxfpuFpmugALsN+0eWYBfh3Aa/u2DijSGZT+bcvVg0ed+kcZfg8ErQoaAb+KKoO5TQfgU8JOoP8xgb3WZTCS2yZenWT4vQJ+iD7DRMMAqMMseyXHoO09zCrWrUud+kfAr0vNNuEi4LchzADO0wX4AxRxxkUdFHA0fl3AFzm+cvidRDqCPkynttP+aYyAEfAzUkbAz0gxPEsE/OZpGwG/P5oOAvoWtzUF3UtHt1bwlbbsqfM02ayTtiLSSbdW0ElbvhM8iQzwpS4VA0l/NayIFQE/I0oE/IwUw7NEwG+ethHwm6ep43CvKbOPztvJt4W9dBTwN29ONqsMn/3wlyonD6478GsbKocvOUbA75XsfYWPgN8X2XqLFAG/N3rVCR0Bvw6VegtTF/ANsHU9kwL1WwF83TxNNHOeihzfD0FBpINqJoefYHSnNSkSIhzwXc9kFe47inR6a6dBQkfAH4R6NeNGwK9JqB6CRcDvgVg1g3YDfPOXU6vkdKt3U7ZFAmA9xW6ZU5PZ8YbslMlxh+vWrU/Wc6btUgB/aXY0HytfGS44MnXOyJx0AGAXzTpwVLMyYbAo0smoUYfCcdI2I1d/lgj4/dGtU6wI+J2o079fJ9B3UQzc/OTbyWTq3ZQCv4l0JpPn4+N2kPnzcbE/T1auWpWsWrXSDjFfvCSZN39+Mn/+vGTu3Lli7D5P7MbxR8Dvv9Xqx4yAX59WfYeMgN836dpGjIDfljSNeZTBn5NO3wt3/3piIpmYeJ1MvJ5I7RPJG3F79epV8lLMq1cvk5cvXxnQL1mcLF60OFm0eJEcRSn3RYuSxWLHbf6CBcmCBfOL5S1nWvTt7yly+BndIuBnpBieJQJ+87SNgN88TcsplrH3Xbq98cuXAPpL3UKBrRTGU87+zcSbZOIN4G/3+fPg6OdnZw6vXr06wawUrn/VylXJwoUL1SDJGap6Zpo+9asDeGU6hM+8d/1eZXr2m84g8eqUPop0BqGwxI2APyABK6JHwK8gSsNOLQClDu+T8efPk+dirt+4nly7dj25fft2cuvWreTt27cyeStGxD1M5FobJcLRC5cvIp1du3YmO8d2yupb0d6RydwFAL5w+QUUbsm0gUqlKKc3SX8Q0A5L02s6w6haWJ469gj4dag0YJgI+AMSsCJ6BPwKogzBKQQpBwvAfvzF8+TSpUvJhQsXkksXLyXnL5xPRTyvkymZ0J2amlINHuIjx4ej/+qrr5JDhw4lW7duTbZs3SLiHBHpzBfAn6bLy092vYJ1uyL2kk5Iy3bpDdM9rH+nfITDf9dnWetm0Sn7j98vAn7zbRgBv3ma1k3x1evXyWuR1QP4Fy9eTE6cPJkcO3Y0efxYFl49fqwqmkzkMiE7d968ZMf27cnWbduS77/7Lvn6yBHbNlkOOJ8nfhjUNWcyUvQC6nVp2FO4aaaPAP5UH4DvTej3nqo4qwJHwG++OSPgN0/Tuikiunnz5k1y9erV5PLly8nRo0eTH3/8UcU6165dUz84fDj4JaJ/f+DAgWTfvn3JdwL4RwTw16xZowZtnTlz5mi2HxxUO1T+Q5dtuvOPgN/hZajjFQG/DpV6CzNTAB9VxfyaDuYmzC/PeTpsDjyAOe80cvubN28mx48fT3755Rfl9s+cOZO8li8AOPzly5eLOGeVAr2LcwB/3NluwduQskNHT79TXeqE6RTf8+oWxv2byM/T6vcelqH4vhVTDMMVfXp7ioDfG71aQkfAbyHJwA683G5Q9cOoTFi4SncvZ9JUh/B0Wzvf7AZ8rzd36v7w4UM1J0WkA+hzB/jR2uELYMOGDbqB2p/+9CcF/c8//zzZs2ePthUaOt4eIR3dLcwrtHfzD8O2s4f5tQvj7k3k52n1ew/L0K3sYdi+84sinX5JZ/Ei4A9Gv6rYvNgYRAKAPQDSBOB36lBhZ6oO1x3wCx8EVRUbyA3uf/hfAE6HFy9eqLbO+fPnEzh7wP5vf/ubnnrFatudO3cmY2NjyZ///GcF/G0ix2fCFlVNld1X1NXTrvDKnDqFqW6XLGpbC/HapVt0797GbTPp00NzTLMt1y989nL6vc/sOMQ8yvD7JR7xIuAPQr3quLzUmI8K8AWLhwvHwwd8B0boDhePuXLlisryf/jhh+Svf/1r8uDBg+TevXuqkfPFF18k33//vcru16+XrRbEENfbrx9w6hQnBMDqN6d31zy/6Qd7StsO8Kvq6mX1e++1lfwi4PdDtjxOBPycFk3ZeKExEfBDik4f4EN73mvk+ejhY5i4hcO/e/euPn/zzTcK+gcPHky+/PJLW3S1cqW2mw8c/QBTpzhVIBhSqB97p/z6SW+QOF4/v3taTk+eKe8gZY6A71Tt8x4Bv0/CdYjmL3U/gO+dhXtoyM79SN/tXgzvRGV399f7+2ou0Dj74fL3Vo7h5WHiKNIHUPJaP3r0WNQxH4lq5rHk559/Tu7cuSOAfyf5+mvTu9+9e7csutolGjuyTbJspObpGD0lrTypgm14NSGb4aZeqEjth5wS2MolZLM5f+/DJP199PezKkwYvptdAH+ynHebOHmB0w8RCRe6tYk2y50j4DffwP5S9wP43h66CZhokzinWlVK70xlvyp3A7JyyOBZelHNjhREmknWsPR5v3758kXy8sXL5OKli8n58xeS+/fvqUhn7+d7kz0yUbtlyxYxn4ncXrZaUL176mSDhoNUVS19YKjyG9RtmGn3W7acFkYb3jHKyeCKH3Mf7D1km8/N1WzC99D7BB55Wr2XRgD/bdjSQQp5o5tj+Ox2vwfRPjGrA4zrL7vssw7QhA06TLL5y0J+7I/CnuYsokHjgv1PUK9bsWJFpk43zLLUSdvL2w/gO9CjPsiGX/4cdhLs1uGqX31vF79bmeVdl+DVMerU6uMM8xZZvujm+xYLvDcYXVErYL927Vo11M7aTe4wguFnQruqGzIXfDvRtxJt1DH3KbYZSVujWbr8Wtg8RiH7/h9K5ahKyII44EvJgvovkY3o+EJyBYVyfO8T4XtcDlPnuQPgEz0kS5U9dKuT3ewLEwG/+Tb1l7sfwGfgxTx69EiByZ9JC8PlnSbscLj7s99xyy9gjAM9qq/qONVhZ6SrgE9V3abkK2lSZPm6D74wCj6QwiA4kxAegELdlL5t0vO6O/j5s9870dHbzcO2u7emITWzf41SZyxql3Z7985Y6PX1O+w95dRdSuW+cuUK3aZi6VJEY8H5AmmGXne/ty9HZx8B/DdV7SyxvALlOwlWuXXOaLb6RsBvvmV5qTH9AP6EbOULKCFrxviXFqqCfC536zCtYOH1451P33vpoOWr1aUcYgY/Az5SvKq6+/vtX66+MAvxje2Bb7tmVtWuKj0P17EdoG8FKlfF0RYphDVRieejwJo9DM9SVbaq3Ag3wsEwsjsptIUh4St0zZrVcqjMWgH+lTqQ8r7y/pfTLT9X5dHJTQB/ovSuOpgTze3c3V525/nTvbxD0HDeKbg70FRRxjuC36vCNOlmL5mJMWa7SMe3971+/Xpy48YNlY2afHSB2kNahDTu3pGCPjADAV97ZwH4wtq1t/MO+nvo9xAk1V+AyffLZ2jADdByQOI4QweRsBxZemn2Fs9wpBu9rSoWluhhumFttD0Dh6qBK8w3CFqy5nmVPFpAt+yvz5IxtGl3eX05BWxEJmhV1Pj2jZ4xwJoHRGMbNqzPRKzGoNgXqafpafhzP3cB/NelUlLxsPL+XHYju9Ctn+w//jgR8JtvQ+3E0uN75fDp2L5giL1g2PuFZf58IrONL/JRBynCloGg3KHCZwku18x+3/spHdVyWmRAD21Sd2oNlAHwIT3MPYjr4aBROvCQbngZvXHpXlJ/B7KQaZphel4ev+NXlWcYp72dnLLcsmDlgSfzaLHwPrU4Zg6aMu+0mBHh3N8K2L+R8wWeiZgMJmyNAD7rGHwvonnzODksB/ywjlmifVhG3qWAn1fVbeEduz+Ti9v93kfOsyRKBPzmG9I7e7+Az2T0H3/8oYDPhDTGZaOkTbpcITh071Dyrnfo0M1ToccUDZl6jETwFKgU5B20uLvdkjS1wVbQt3AMCITrhAeeXnrX/KwNyu3g7e9tUpV27teaZ5gepSo/41Z9tabVuU7lVDq8IKkXYM/79/atHCYjkgC2sGAx2yoR5QD6BvirdbWyq2qSi9e3nGOvzwL4r7QoTEjll9u5h8ZDhP7u9mneI+A33+7e4fsBfN3PPQX869dvyKey7d5om3otV65pzhzU3qo6p7/X1Knsj0is/7pqyqXkB0iu74K0lCNNiboZMBogYw+Ngy5topwn4YNSuH/gJNY8hNNO85AHFxGhAYQ4lLCE4VxcVDx1+2WZczFYMsJpHmm+9o6Qm/sZggU5avY8ez0InV9pyDQ90iliYFj6PFZoC5szdC/bLSerH/RTwBfunhPEAHsWs/F+rl69Klmzek2yWnYcdQ7fgd7v5bR7fRbAf5nWnOJ7lb0q5mZEdTeycLvfe8129oSPgN98Ww4C+ONywPb4s3Hl7q+LDN/UBtdIh1ohZpl0tuBTOX3ztQaVr3LomCFDfxU2RCzGdRQsug73qaoc5ChlcXJAf95rzrjldKtJAWR/zzmrljkRbyO/h4VWUFcHT5GHnJb4a3qi/fMkFWl4+q7945vmETNPjye5oJuUkby5+HXO2Z/JWYHe5x/KtA7q6+klSS5Ckdj6T3qVl2ad16kyjDpaOlCXIpQB//79+xngc5iMA74dCJ+Xx+vaPp96PhHw69GpbSh/UeOkbVsS9ezhIELn6GXzNDo4gP8sBXwmbdetW5esFY5puagRwkWRZigbLRQOlPCrChjLoOFh69y7pBdm3S65OvDSLq6nb8WoSskAyWmPNg6GOZGXYgB+3nHmRJaLmasy5nkZ8BfztbQcNMnbAcvz9/URrt/v+bEL50Y5QIW2YoCG5Gi0ZKQXi6UH0Fs9eDYg5dnrZmVw0CcMiegdewrAZhVX5iiyuFpyDa/+4Y8nXwgdBijaC/lK/pSTwQn5PYaFbHfv3lO6ItaBu0esEwG/SMcZ8xQBv/mmcNCZTsDPAKX56tRM0UGyOrgDZbVvHddi+opbJFoAQQNm6O8aZ3Cg92WztNepuutnn32WbJZza5kAxziQawkgosRNkxWnUp6pH6Bsk5ZsznY1+f3337MFctvlBC1O0Vqlh6KvSoFe0pGD+RS8SVXyIQ/SyfMI8srKoYEIGFxpOK03cGxhFOw1UY8jforWQVSslnEaq+Qnj61RLB11p9wC9sjmoe/ExGsBfOfwl4lKpoh0AsBHrENduQp0Vpf+fkocPtX3CnMvG88kDONun+Y9An7z7f7hAL+1uzZfO0/R+xDPOQi5r3XDMIz1xrCEmW9m0aSyJLKujEtLxByYHVQI5kDKWgYMh6BgXN3Vt0XmtCtWh3qpUlxSYDJwyutE1lpESZz0wRhdLyGDyAW2Xz57VgEQrp99eXbt2ilfZuv164wycSnYk4kYq0qavnnqamBA1BeKseYC1cYFIn5CDMVFGZwMWXq4a+GKHD7hC5eGwSVHyIJ/+qDpOzGCAO6ugC8Zwt0jwy9z+D5xa3MZ+RYLDQL+CylLVhutkFUKt7LxGnh4v7v7p3ePgN98m3+qgF8FvK3UNaAzkLL+Z3YLGWJN6A5MKV2Vw2ThD+kAQ5Ze+dlX1LJ4jdOvEO1gioC/JC0e6XhZ0IKSCW7hyJmYzctZLDfc7evXE7rXPoervBHwZwLXAH+XHq6yceMGSq0gXQY85hfeiajH81X1RpkPYNKeci5evEg3dHMtLX+n0gJn9ddSZz9Y2gB6SkyrZT5weHr5XWgBOUqXOkEP6C9pAfZFDl9OEAs0dULALyU10KNw+BHwB6FgBPxBqFcd1ztnYyId0dSxSdv2MnzFvuriNOjKZKUDbTFZr7ODsPmiGQSAiBGQKIOehhG/Mr54WilGaTCFsTQN/N+9Q0b/zgaBNCA3y+69cvcKSPfuJ/dE7OBAishl+/ZtAqhLdG2D1yIfMMyFZ/qGlcXSxcefVWQ08SY5eeqUnqgFx48bgM+g8pmIjTZt2qT1Ji3mXZhwdz12A3yjJf5oujA4ofWCYfKX7Qo2bzYRlC1ksnN2KQMVdcqJNYV5cRc/B3Wvm95L7kpzIta8PHwr4JsMn3kRBqcqDr9mFrWCCeA/1+paaKpaNFZ9d/M0nSR+d/dP7x4Bv/k2N1Dob+EVk7ZPnz5LfKWtTtqKfrNNArYHfFCzfvfts84CED756e+NH/bNTonz5y9QIMYPMH7HxCmcrBhT07Pl9gyECrDizj43THj65bstEgZO2y8faHxylAlYjJ9QZaKP+Qr4xDEZ+1vdaI/N9pTDF+55vUyqMrG6UMQknELmbeX1QixDHpSZMro/aYKzgDZl9PqfOHEi+fXXXxXsKQ9gj2HilnxIg8FJd+NEPMOukmIUmCVBn/y9JusumA+4eeumrrD2CdDR0dFkx44dKn5CAUBVPkXUYxcDRmpVyJcCloDdfW0UyOmpb0sWNwvV1qJBoUeJw+cwmUwtc/oAn3JSmdCYm3S7wB03Lq+43831U/z1F5eXVbkW4VK44x52xJA2vMRcfg/9hmH3Tkd+s3lrBepXBfjrUsBf1k1LZxjET9N0EQc7eGJ4R3hn/OhGXxFsMuhJCYPIg3AGzKwUxlj4+fJ+GQeNbJ30/F1iItWADX32efoO8h6Sn3LRwklPpO8oO2EuSCdfyR9DHIwCt4D3+PNx1XpykQ6Tiqi6mshBBgh5zxHdUAa2Up4Qrh3xDG70AUUI+eEdBDdc3dIHJgd85/ABZwx5kNfUFGqhk1JOBpiFyTI2F5NyAvwYp+elS5dk++bzqo7LojvlliU+g8fY2JiKS1aIyMTpqMWhdFJO642wtlpQfutfNQNLNppXBPz6pJ2RISPgN98sPkD1LdIRDv9aupcOHP5MAHw4doD3qSyjR/f8uQDp8+cvTM1RBiKW1VNWZxpMNHFfOOuXyl2zsdbatetUVXHZsuUGtAKo91MRhnPVcLYrhVN0dVafbPVtjf3ZOWMFYAH9DXDUUgbUVxGHaHpS3kdshyw7j+qCNuHw4bwx/mWgk7sC9qRP2NcyUL2SgYp+wWDgXyC0Ke25Bu0bAWJ22Fwi4H369GkV6TCgvHr5Ktm4aaOKcnwA8oGKgW6RlJMvDGjFFxthnj59Ink/UbDn7F3mG5hkZhMyQJ/9+tEsQjxEudkOHGNfPyW05oCblMNPWTJ5uU3G0fYtt5GjrXfmoQMLXzxFGX7k8DMKfRyWCPjNt9PAgF/Sw58ewA/Bw+AipMzk5JRwzW9FK8POhH344KEuq1+TrgTmEHDAyQH0D9kHCE6VL7InAqTbRHbOHvRssIUGi7937BdEOAdwVCY3CWguWrRYQZ9tojEOLHDSGI/vIiUHRhelUHa+GjSeyMafyepltkhGhk9ZAWBA3wcSBihUDHXAEi6fCVW+al6+eqkaPsbhJxqX+IAxoHzu3LmESVvERhhVS5TVpotFAwhuXOkh2kL+RUA5t4pZxwApXwHk//DRw+Tc2fPJqdOndN9+TuTS7YZFzZEBBNGQ0xc7NPT5AG8jgWKpsDyFgA9bnj57uFb2v8uAkEbUGQNJLwJ+RsmP0+IdJ4p0mmu/jxXwgfycMyzS462IJVixejvVemFRGMY5ZkQPo6Ojys2z0On8hQsKhgAuQLpnz55ktxwnSBj01F22j1rjOTEArcvAx8bGBIznyQlU85Mbwu0ynwHos28LIh/AmoICQi6q0S8h+cJAnAKoq2hHZO18KTGoOLBzcPm+ffuyLwjqQPrK4UsexGMgYLDA+F4xlI1Baf/+/QlpAOxw2ohh4PKpI4MGnLuvtsXuA9TEa9n2WjR7GNA2C7cOgG8VQ/n5+iAdOPybN28lt+DwZdUq6X8mk7abNm9SLp+JYP2SWr9OBhDZLpu5kLCZlMMPHPAcKQG6PIdX8Sn0Kdoj4Bfp8dE+RcBvvulmJuB379qU22TpBRhRAiGHZmLzNiIHMcicL168qOCFuIHjAgF0FZ0IN31KtFd+++23bF9/DgrnWMEvvtiXfL53r8nYReRCODhkRDCYLwSMP5e0GBB4ZlETeQGccMsAO/JxLsrLgIJ2y2K+CESV0bVkTM9+iUyEXtE0VMQkXydHvjmSfHX4sIZduHCR1gGwVVGRiJ9WyX4wq4V7hwLQggGBLxCdaxCRzbfffSvn4X6toh0WV12QYxNPnzmd1ROwXyWc+ToB5UzEJV8MDFgPHtomY3wd7Nkj9NqzW/Kgnu+0HHwtMPhcv3ZdxEartZ7+RQLQU28V6Uj8uTIw5YCvyC4FrmjjCsCvCKX07PQTAb8TdT4ivwj4zTfWTAX8jh1dPdsDvsrwBfDhZAHZ08KNAtaIJdYKCO8VEN8jgD/+3CZJmcw8fvx4Gv6+gPgeBeNDhw4pl+xHDzrg22TuAuW++RpQUZCIgy6kXwoq0xYg3b4DtcrtWaO5SMg5Zf/S8IEBwL98+bJqkty9czf57vvvkm+OHNHFTHDycNUMOMjnEbv4FwJgT9/wyVQvz3ffSfxvvhEuHhn8cuXMqQODzu1bt1UEAwe/Y3RUy+lfzgD5H1f/kEHzrQ5kBw4cUDogx2dwuirbYZOXlfeKcPLr9OsJmjKQMtFLOJ80Vi0mBmilxCcF+ONSW97WsoESfM5ELR19J9r8RMBvQ5gBnGcW4CuSa20oV7fLOPxyKMDPANBEI4+S347/lhwTQPfJScQcALVz+AD+sWPHBLiRbT8xEYbI8I8I2AL6LtsGcBGJAOgYwA3Q9slLuO+zspIVkGcOYFeqtYKoggvu+4oA+h3RYwfQR8dMjRFZOcYBnz1vMP/wD/+QfPftt8YhC8AD9pTTt5/WgUvqQb9A4whx05nTZ0ykJLL277//XgGf8AAwXDmAT9537t7RAYNBg3rwteGAf1m+VC7IFxEiIsxXX32VHJYvDRXRyKCJ6MlBny+njRtk8ldEOS6CYkBE3KQDkwxOHELCXwR8IYKBP69DBHyo0OmKgN+JOv35zTTAV2jMf7pUSiDEUETDOaAwEDCJ+VxkzuzXD0iif05d4Yy/FMBHVONaNKcESH/77YSsPjU1X+fQEakA+KhAosFz6eIlAcIL2VyAHy7unDvgh9hkmyyWchBHa4V8AT8Hcuewd4yaWuToqAE/gI9YSP0BfAHsb1PAJz4D09GjR3XgQhzjcw3I6wFr8j9/7rxO+D4bfyZfB98kX339lQ0QAvhnU8B/BJCL2AaQx3j+DvheDt/q4eDBg8khMZtTDRzc0cVnUGCQY3IWURnzDQxC6O4jxtF6S90j4GdA74BvdyA/5/79XceNy+/29Cn+RsBvvtVnHOALQPR+GfDngG8pwJmjO464BqDEjnwdufvu3bvEbvry5wUI2WNmHpOL82yFKAALZ3vw4AHVjUdrxidNXZSCaiUaLID075fEXP5dQRewZ8JTOWIRIfmKVTSAUKd0LRtPhzsGcQ6ikgzwhcMH8ClLCPho1CxdsjQZ2zmWjI2NZZy5fkHIoAFwYxisDoo4ZslSVuoK4MsXygkZ3NDQeSbqtIiumM/wLxLiQJ8//rgqZbmiXDzgj0gH0PcBTgFfJpcRYZ09e04HwM3C4QP40JYJ7DlzhbPXtpTBDtAXg2w9u6ZJhk++upfOxOtMe4oJauY+pmGlbbVIpwj0DvpOGu8Afnf3T+8eAb/5NqdDYAAU1yd3GbX7lXPFHS56fLx1e+TB1DKtLOX8uj0XRTuAivUVFiWx8yRiFkQxrjYJcMF5s7oW3XWffFy6TBYaCZC+EI4ePfV9TNoKgLnWjKsz4oa8mi8BFhjB5TJo/C6AfVG+AtiXBrC3ScvVWhxoxoDzWswrGYgYjNB+wRB+g4hFAHtA1LcugMP/RgHfMAFxDIMX/YA6U4ctYpigRivpgaif3n9wX8U3iK/gtgF1JnxpU+LztcNXD/MI1AOjWjhCEwd8xDUMPi5i+v/bu9c3S47iXPQts+1zDmYLc79IgpEECCQhsMHXD7b/+G0/vhuQQCB0QxJ3bDYY9jY2xqd+Wf32xOTUuq/VvXoma56cyMqMjIyM6nozKjKrFrCXMjF4onn9tTdmD38aN8//8ccfmxa6J7tMKeEc1y1/Q35f9grwC+7fc239LdaCdnJPyb31l7z3ifOEd9X3RZvE2qcrrOlc/gBKe1lsCk/ZwfTbv+0FuPnjabX7Q/OP/Oa/B+AfYsQB+IdYb7nt1Q35gAE+mACEtlDOHvirbccO7zT70jP2ef/9/267TdS1XTLTtkUA98QEhMIfYtkNaKdQ0bPPPdu82eyuERvnPb8+ecNAu754RF6O7O7JBIXPoqm3knmdQjJkZTdPAD/tTVrCOiYLnrhJRfqNF82mTyLME8q0O+hD866bPEEAYLtkvnoZEgL2wlnzhDADvqeSewH/tWm9Yfqc8vTU0kI609NCs8cTj0+e/1vticbkZrL7+GMfn+z0xBQmm54Yph098/sGrsClKyuGPwF+i7/dh84ZHfYO8EtVy66obyInkL/vuOSvH09jW9/+tzvpGjz8n09azYaYjVEXae+WzzxRX7kjdD57GP8fgH/8qx7Qu80efoBkvuX9P98r7fs4PPh37G9/u3msvFaHcf/O9D2d356+q5Mju2USu26Ls4++dwrD/Gvz8i1+8pznxclnmudsrz2vHPC96XvzE0BmMVdsGyA3bab+GuBPk1B75X8C4OyBT/8tBj/JCeBbdLVwbILwt5+QzH/9et4W6kUy2x/rNXQdjaMm2ym1f/FrL1780+ThV8C3DsDDD+CbIGcPfxXgP9G2Yr4+jTX6fuyjH2ugHw//LuBPI2uXA+DP12Qtil0CdOxxH11R36777QF8oO9gippa4WWZ/FpThfmBpgPwj395K1jcvpDOdKs3QGGXOcw0oWMrUgIoJSGSH067UnikFlV/9vMphj3F5Hno4uEN2KfQjBezADTAe+P1N+b2kzS8Eo88i5NCIfnkQfbfz0D5+rztcwJSIRexfCAsjp1PHwBEHre9+MItvHWphnToLH4P8P3d/9d//Xralvly26ljQdq47H8XNuLB+13a/3cai2toEpDmCevRqV+Lur9uIR0hoQb40yJ0C01NIZ+VgG8Cm9YnmocvpDOtM+B9553vTnH+OYbviYTN2C4hJDF8Y2wee4MtgD9fo7UotgLQtWzHivqzB/z5wcXQgf0A/Plqbv5/AP5mG+3KcZsBH+g5ZiyZAX8uA4hqZmD0/Rdx+OyTt/gqved33zPtGf/di088YRvlY9O+9I+2HSevveZFrVevtiW2TxhMni/P/cknn2yx6k9NgN6AfAJui6VtkrgM6TR5U+jDWoEEkE0OdtPw8tMOOJtwGuBPYRprAAB2nqB+2LZU/v60y+bXk0cvRm9hub74lTdoyRajJ08SRpJMBr6nM78p7MWxr09bVL/Sdi8J6TTAn8bxiQnEH5/0/c//mBZtp3HOsfvJw58A//XXXr94flq4rjH8H0yfU3h7An1gL8zkSUVfAP+ZZz4z6fD/tbeM24+jX+7WmT386aLMl8zFuf9YAehXjCvq50u9IPiS/8ZDOgPwry7hTpkB+DuZayvm2w/4bvT5jgL27Z+ilmcCnzSYP4om7GIB95VX5lj5eyegevS9j17tLpm/bfOh+UlgCtMAPrtvbCsE0kBPOMdWRsDfpE/95LdiLXQCbJ41wI2Hn0XwxPB5vyaBvBfwn/9pO+h/XgLt61e7SXj3dgqJrZt08uKViUMK4Ec+4Jd8793LT3YR8b5/a+rPE0YmDB6+ZAKTslbR1jymJ403picc48gTi1060hPTpPDYY483/XxD5+VvTN/meenF1qfQVuQ9Oq1HGNv8jZ53Xz3hzJB8CcyXpBkx/60A9FS3J4ark7uZJmqe4e8Wyg3Av9cet+1sAP7xr9ihgO97+HZtfHfymPORLQuQ+30eeQLu6Sbd9og3D/AdOXfvz/lZ0uyh/6oBOdC3W8Xi5+wJv296qeiFi+en787Q/wNTXPy1yasVnwaw+HjhPofw+39gm+YLLawhtBEAz7dtApAB5ISKADIgbn+/k4cv9EImMJaie5tgJqD1hrD0B9NnEbzwxOv2FCCG/+KLL7X3BXjjLYY/7TL5H4B+mkDyzZ8G/NO57994wsiLWkJGvHIvnP3yF7+8uPPknYs7d7xli8945tDPdy536bzpRbFp0nvu2efaQrUdQUJUP/kXH4j7cduZ9NLk4ftqJ/0s3loLmNcPPjDR+aukzdMX4pmOK5xfA9CNcem/SwDvqwbg9xZ5QM4H4B//Qu4F+BPA8qR//vP5q44WRIVIgFfblnn5Kj+v+F3Tfuy7R8AcIt8tvcqtuKGv6rtMf6Pn/MrLn/iNL8AcQM5ul4Q+vjDtQHlu8mCdv3fy+MWn8YYvnriXj56dJoZ8hC2/6RqP2WKvLZ7/+zKE9D+m7X4tnj1t+ePRtyeQCejmxdr/OYHnBKBTGKktck6AaOLUrx1BtpD6+Jnv+uQFsYRQch9kwmhrAlP7/zuFafD6+UKT3J0JzKV87tk1En6KvsBZ8iQikQv033575jMebSzsCv9kEfpn0xvJ/zqN0VPAt6cnofZZ5ylkZueL7/vMax0fmWSS/bE22XnHwTFf9ukKLVz/R6Y/j/lZrbHe/9/EkL+gWpnrXstaHv/UoIXMfjX/iHnbpTM9fbjW17ZLZ1ab6umQvq4AAEAASURBVCOGf99FWlOQP/Q84ia2Ov+h3v0loioinl5orTtFPgCqP9v97N3mAdr7LM7pD80ND0Tw3vQRfYGz+G++8MgrTd39Ok56T+PzGd/q4TfAn3aI+M678QF7cu8e819+BeS7dZd++i42mXS4BzeuzmdAqfa1UyWfFHj99fmN1gA5QHv66acmr3taxJ1s8MNp6544OnCUsv1y3pY4f27496YvRLZfyppAMt/ayT7/UH+f/lZzxJ7tO/XT30K+Nx/AtkfcZxf8Zqy/G59p9iQxfxvnp1ehJvrw2nnbwFV7svOk4XPQ9uM/PoVfHnv8scvtlLMcus0A+KsWEvrA9ITg+0IWednImJoe0/d2AuQmA08KQmCurR+M+T/TewoJZWUbq78Zfz/ZIWQyo58njjrhLaJ2M9IM0LHXXTr/3cztlu6Z6a+g/CHM2fnzyOzyH/8xPYFMayR+PtJ1veYXrzKLuREC+oYmX5MyRwYYOpc+jP8PwD/+VQ8I7Qr4JjSTWAA/Hv6HLgHfTUXm1U//uQunm89f8SrANzr6bHv0k/h83jq6R0STOP1HV7ttvMn6wyn9P5eLnLxc4CksAph+NvEA3H+ZvhjpZSYgZjLMD4q0EM8UktGf5O8SjSeej5fZF69srv/NZSz7t+YniWnizxMGOwFtuuk3n3JIfbZpJuQTQG2LwpPutnmyGz6Alo+fNU97egM2sXWTj8mpvag1rQEk1ONaSe0Xtaax+NEYk4cnBmNoi79TqMtirB9GsYhMBk/fWE0i3lVw0INDI5yV3ULs6lMLs73mH0PPNbnnQk1/HcuXf6G8APy9MoL9Z/E9/PnFq/nP3pCleEA5D80wnDtC57OH8f8B+Me/6ocCvlf084tXH/LCzwdmD78C/oSF7Wh/we2Onj3wfjRNl75wzTmxQOTqmPL+Xd0r3XmeCH/5y19Mcexftq2MgGgOsTx6+UTyrisPOKGP7DYB9IDfpACgc0QH4RB75NubtBNQCq0A2Rno/rtNfl5AMoFkEgGgAez5iWB+KtDuXVMYRF9vvWUX0LwTyMJwC8Xwuifv34thQclMDL50+fobr7cQjA+bfXraegn0W2x/CjO5j3jyWewN5eH/ZtrymY/FZS3CU491B7pIxoMvn6bIRBeo/Z3fmcfHXu+eks8smNRcKm2vkGz+g4gZL4dxVbu+nLA1h9p80uFXk4dvTO3rqZce/jWFdOYfMb8X8DNAtKaMptan7OGkA/CPf90PA3yfVugWbXn4PMYppDN7+PnhixmIrzy4pft1qsxf+zYjbSLKjd+A9RLwyfFbr8ruHvNEI6bvpawAZQCPLRwzoE2hmkvAbsDRnlbuDVE17qsBEccTndYMJu/Xnvv8vUbmXI9vfvKJfeb7vnXd/mvjmPT+9a9NGL9uX9h8dYqXZ/unpxE/MOKTBvLRuy32Tl7+21PcnZc/x9I/On8k7amn2s8cAmAW0Uf6b3TSu02XU3kLVU36h887A3b66IctAtlMS04b7zTmtPcZBTub3vVb0+6gCezbuKcrq/7eg726kr6gVXd8+r1P1r1yVM/2fqT9mMuvLmP4noDsIromwP9lG/H8Z22kSZRNPjQDcO4Inc8exv9zA7kR462hs8cyYvj7/E3kpnDT7xLDd6Pb7WHh9u1psdGvPQk1eIwH+OLjAZRZL3/6840LKJaO9he+eMMvcU9lk6Aqik6g4N57ZeKZitQZq2Pu5yrX6dlYGn/+3mKjtJj7JPSyt0lulZ0fFcc/6zTLXPqfSk3tSZiJYO4L5yPz2sD0991CNJONAb6wTt74zfZPdtZOOEiIxSTsycvXOO9ML0tlt47r64liYm6qzCRgOqOSOjoL7xhn9G96NbXmtnROewNo/1AV7Yjc1mjmvbLXJUuHaVfyUn1J7y+fBaWnjn06Tc2sgzWLePgN8KeQ0zV9PA3gXxq2DZbxZgPONOcpM5TkQ5U9nEduwAH4x7v+M8Ds9vE0f5Nu7Pl78r9on8rlVTbAnxYBbcm8H/BnnfV3FxTuHUf7C5/v7nsrVp01oLlbuSSXOBik7u5YeapTKPWyr7kdsLory0lO53azHGASvvSnfvZ8L9uXtkXilJ3b9v05lzJBRs88YQAp6w4N+CfQD3+eTLQTYhJvl2b5F+1b/U8++eS8e2qajH9n+oyEsE5DoCs7Zzx3Jxw6NxltHKm/O5LIj56h0WvmrGO925YNgmnz9a51l9h4H9TdWz6ptf5oeru8c7sG+BPoewIK4FuPuYZdOv+nqTqPx/9J9E8+NGNy7gidzx7G/wfgH/+q52YFGtt7+ADhon0t08Itz9OWQt69Bb57Pfz6dzvdgE6ntkv3LF12PQI+Ebokl7LK57Gi8aTp88gcemkhHr1fergGWNoBdMrf1VH9PI4Adfhn4LOQO4m7lEFyGii+OhrTdNbEX8q/lBsA/TeLuVPyeQgvPPkd3l9eLga7J+hEh9giu3iyqOtt4ndPXwGd9dTHZUx9autpJDrOQzT+SZ979J7Pr3R2OiX8TXFk4Zj1aZyXtfdOHnPz9v9V67v2vSpqmfvLyV11zDK1kUQB4uFb5/Bk5KU1f68n/lpmAD+DRPt8LTOgWr9qgA9H+QD841/n3BQ7Af50r01rdpce/gz4wjreWn30fz7a3vJ8zwQyiVXPWk83n0z+nBeH4gZdrFgsnLFyvvHn/Mx2JWOqUuv8fsDAO/fX9ulPi60Y8QZoZ2lz20wSV7uOUknKJYDqjR4WP2cZsyzlTZHS5p7s1ZjT/1Q7CWrXZoqFz9so/6PtnJm3+Npt9G8NyLylO7Vqus+Lqu+aFqGnzzZPYQs7pjx1eR9AXQ5yPeH85nKRlnL0Nvbp/yndC8xpt5beFXAvWy2f8v7dPeaBz/9PpbMCd6svc7NaV1z31S8VEJXrMn8P/1cX83bVnzSnZA4/vv8S8G0bvbsIvyRvn7JHfvPf/7eNdlbd/0kRl/OZYy5NPjS8Dx8dgH/8a74X4E9q2KVhF4uwzttvTzH8KaTz29PXJ4UNWqx4ihf/lkW7Fl/u9V79t+xGhRFAx/2xhAG1/j7JTbR2aetXrni077oEYYuSvjb56zaG/E3d9ZQJuNt27n/VeXpP/Xx+V796Ht4l2gNu5bm7iOqbMP/+77+agN7H1qxdGYdtjvMRD/7uLpn5Wz33XofoWp5k7gPhGZTncUT6TJs9uh8vmbkv6wt7X17PC9s92fqXsYp/vsSV8x4R7Tor8VTGJvkls2x7tZvMy3Pzpyne336hy6ToMFH72znGMQH+v7cxzOL8XwUnv678GGrcXhm5OUcM/3jXcB/Ajwec7Xh+09VLOK6Punn73/SrR9PNJjn0oy7HuptqE1+tjzw0MjOmUN6tGLd2dOQxz1sg58X/lIcvNO1rH7WflKffnPd0Xb2+63h63loXXtQ4clQeZbF79O9p+EMjp6dL9bN+PUb1LY9zvtR/JPd2SjmqnQTwbXk1udvxlDUOLwjawZT3HPJiWNquk1372ZSfAP9XawBf8yVD1olgUxcPdv0A/ONf34ABkNg2hu9mCnACz/xkn33bJuMADm37myc3cV++68giZ1M7/QBwN3X+fkxU2WOfF6PU5YUqdpCPjqF9X8pTF9rz5HypPmNApSov7VJez5NfkrlUV/nk02940VoWfmV9+Vx3GeevAk6Zp0eRH/1K0f3Zqc1k0GbTOcQ2/yaApzuxeyEda012PHEG8l6F8W4l//4e7yu5BPxJiVa1BORLZZGTupw/fDQ37PDwj3ft/XFL+wB+AN52QI/L2SpLuwoUVdtV5ZVHft1NV2XUfGSkDJVyQ7vZ6WyhWQrop78sNgMBC5/RITTyQ5WnLjR1la6rq7qu4qvlyaNJta/IS1l/nvJtqLa1/d3+JiyqCLyNsAN45q76DrfHw8lUk63mvyl/5/monUndC3DKYldq1vwBal9MgP8fTetA/iSa+AWZq8oXWB+iogH4x7/YuYl3BXxAAEBdE4/KdkHMsfHphZ0OKKJ1BY9VZdvebFVW34ZOVb/83dBRCuADfzpnzQHgW+wEArY8Rm5odA7ty/vz8KHqqs61ruYjI7TWyffl/Xn49bWqLjyVVt3SrpaF925dSm6K9hPAsh6TGZodLLbTXcr1rqGcjCs8y9J2K33kN7/5zxnwTTftCK2CUhZa6x7ufG7c4eEf7+8gf+D7AD5AkAKc8q6RI2ARuq/G27TPzZo+4snTS8qTR9YcUJOUUI+UF5nyMbWUkxfZoeljFd2Wb1V75atk7FLObqv41/V9W+q2+bswltghXjybeOLLOZpDXWwWmrp96CXgE6r5KkBPeeg+XT2YbQbgH/+65o98F8CnRW44NNdlSbt1N05kLLXbt4xMAN9etrn06OPZz9sbf3UlWtimfe9lovJZw2CLxHTDvG4c4TkG3bef2q7atZYfQ79zkFHHt60+sUMoGclHhvOaUr4vnQD/1x4wNgB+xA/AjyVCAyzDw49FDqf5A98V8NOzG6e/ASMTPeTo5a6SFR0SUuK98+ID9PHw8yQSYOfZS3nEB/K8++if/g4dR+QMeh4WgCP5m4lGuca59jlP/T60AL4b4bCbYR8FbnubAfjHv4L5A98X8GnUA/MxbpYqd5P8AH1CNe0XnaZ3BFJubHTK4m0WZSvQq4ve4T++tYfETRbor/Um/n3qV4E9WfkbCN1HftoMwI8l9qQD8Pc03Jpm/rClQwB/jfidq+oNvyofof3fw/xtn3+7+i59AD6fIs63ZwL4WbTLzR0giE3Sz6DXZ4F6zU/Za+0n1z/99ecp35UOwN/VYh1/f4PnUV05b27pyIUNXeI5ZlnAQn++XGjL4oP3i1fHtNj9stgu1yu0crnWrnleoMoLNQnhpF58nhefWD3AB/JJJjmpHvo71g1f5Y78/hZY+hvYX9rmlse6/hPg/1fZpTNCOptNfy/HAPx77XGMs0xQ5+LhG5MbPDd5zbv+zk301nESwgng5+8jnnti9IBfyu6bjFlfx7q5yRrH6SyQv4fT9XBX8rH+Jh6Z3vhqgD/i93eNu0suN/RYtN3Faut5A37nBviudY7E4i26Bugr2Kde6EYK0Gc/fYC+9+hzY4fqD7DU8+gw6LDArhaYAH/6axrH3hYYgL+36VY2PEfAd53dKpJ8JvhstQT2UkJ6idUDenvpvUAlpTwAnrHmNqzlMZC6lKds0GGBfSwwAH8fq5U2A/CLMY6UDQiek4dfrzOwF7IRnwfyqDLefgA9sfpstww1poxvyVzr6gbwL1lslO1igQH4u1hrgbcCQbw7VLnH+qUj3lzoEs8xywIi+jv3RVu6OtCbBHy2yvVBs18euGdPve/euNa8fEAvTJNtldl1k9ANiidjqzT9pCw2aMzlP3yr6grbyA4LrLTAAPyVptmu4rYBfn5jNL8z6tegfJLV91qEHm4aUNI/KgVAs31RmYmggmR/pVYBY2Tjr+17fueZsAP0AXbbLKV4+AHyfAIh2y0Tu884KtV/dAlV5ujP59Lx/7DAcSwwAP9AO+4K+MCkgs2B3W/VPGCj39sA+AE9NKGQLHYmJGLgq+yY8siJkep5eELD41wSopHy6YNsr0ysPouyQje2WPraYf3IWSaCqie50WEVjR6DDgucwgID8A+06gD8Aw3YNQeEFQwPAfwqOjJrWcA9Zc7j2Qfg49HHwzfhSPHgs70yTyIJ7dRxkOtYAvz0vaRf6gYdFjiWBQbgH2jJAfgHGrBrXoFS/lSAHxB2/QL08oA9i7LCNgBfrD4ePW9eynfqA/xZrK36Z2jpqwJ+6kIH4McSg57SAgPwD7TuAPwDDdg1r4B5bMCvoBqgD5ADeikAn3MgLQnReHkqi7EJ5SwBfe3H8AL43VDvOe3b3FM5ToYFjmSBAfgHGnIA/oEG7JoDvoAfegoPHwBXoF/y6APSWSymR8I3qHLevYOe4c95q7j8r9bV8prPmGvZyA8LHNsCA/APtOgA/AMN2DUHfAE/9FiAH9BFXbMsxuYnBYVvJPUSUNd3Ur51k08kZFE2i8hpV/XvhjZOhwVu3AID8A+8BOcC+AHJDAcA5QgIKbNLZ+njaYlJh1fbKiOyTk0zjuhxKOAHiOPRo7ZaBuD7EE76y5uxORe6CbjTLXlUSj/R+9R2GvKHBfaxwPTxtHxLZ5/mo805Az4QCgChzv2wd0Af/cAHPtC2FNpHLj4dflcW/3Uf+ncESLMoigqjLOlX9Uz7lGUffTz6AL1dOMpMAK4hj13KomyN0SvPEfkB/KoPntSHf9BhgXOywAD8A6/GOQB+QCYU2EWvUMNU7seyebVevEK9dGUPeYAunmwANzIPNNPG5n0/+qdLYuhLgJ8xLQnPuIG6BdgAfTx6E4EkRKMPk50UoFemjl4S22US0V/KK13SY5QNC5yTBQbgH3g1AiwW/rKzA1XOe+yPHjj6+n3OK+hEPjCjU/+iEODj3Qb4AnRCF3UxUl4K8O+j17ZtlvRPvwFkVMqEpI2jgnD6U+YaAPvE6I3Z2DMBkM9zN/76cbN4+lUn+dg1fdR6ZdEn9YMOC5yjBQbgH3hVzhXwA3g/+clPLqSEMDIxmQiAH082YROgD/y8MZpPLgRkDzTT2ubAMgAfewZQA/AoMI7nnfIAfgA5sXrgboyZ2NjD2MnHa6ySsSZeb+w58OCNHpGf+pTX8+QHHRY4VwsMwD/wygSgAqSARVJ+XR6+IQCgUOAE4AHed77znZaEcKQAH7CXgCjwBPo8+o997GMXH//4x1v66Ec/2sqB/ikPugN8egSQA7ixayaErDVkkkoMHvVUk3EF8HM90ocJQ8oTTIA/E0kdJx1iV+XOc9TylFW6qb7yjvywwHVZYAD+gZY+F8DPMACNBPB4t9/+9rdb+u53v3shmQgkQCrhBaZCGzzdZ5555uLpp5+++OQnP3nxxBNPNHAEhqc8ogM9gKoEvIG1RWbrDgFfi8zvf//725MInfEBe7zA3rilAH/0zgSRtQpAr6wP4YT/UGpM4xgWODcLDMA/8IqcG+ADTUc8/Ndee+1CevXVVxvwx9MH9sASP9D70Ic+dPHhD3/44otf/OLFs88+28Cet58ngAPNtLF5BUjgHg/9+9///oWkzPH444+3pw+gb8E5E5enGW2MG9iTJ1Wg59U7B/aeJiRHeJNvhQf8V8dygJjRdFjg6BYYgH+gSQER0E/oIFTZqpBO32XArC/f5zyATw8A+Pbbb1+8+eabF9/4xjcuXnzxxYsf/OAHLdFNAnpCNk8++WTz6r/0pS9dvPDCCxcf+chH2iSwBIbH0LcHRfYiN/a0ZdTk9Prrr1+88cYbzcbs4emDrtEv9g7gGxNZ8eB59IA+1FhNYjnSp/PoFBqeXeghbXfpZ/AOC+xjgQH4+1ittAlg8CoDPugqwNdUm3r057Vu1zzAkRIS+fGPf3zxwx/+8OLrX//6xde+9rUG/gCUjsBRuMbCJa/+s5/9bAP7z33uc1eLmdGtAlnKdtWt8ld5ymOveOyZmF555ZWLb33rW61eG3p++tOfbl4+0A9/QjuJzSd0A9wD8nlayaRY9Um+16s/D98S3YV3qf0oGxY4tQUG4B/BwsAKgFbQVyatA8eluqWyqLgOUNIuPAFQMXCeMg//pZdeamEdACouTmdx+w9+8IMXf/AHf3Dx/PPPXwB7gCr0YTLIGMiV9JO+otc+NHqmbZ44PJXYSmmx2cT0zW9+s+lOD23oaJ3BGoPwTvQC4p5Wsusm203JD0/y6TM6hPb1PV/Ol2iVsVQ/yoYFzsECtwLwAczSDbWq/LoNC4yySBiPU1nAkj6rQDLlS+Or4whfLevzVQZ+/Qt1ANDE8V9++eXm7f/oRz9qC6Li9o899tjFl7/85ebd37lzp8Xv4xVnHGRL5G6jS69bf151VacfXrrJ6V//9V8v4tmjkgnBYTJ66qmn2tOIfLaPmpxMUjz8hHOcO9bpW/XIGFujFf9V/hUsrXhbvnUyRt2wwLEtcGsA38DrTVRv4lp+bANtkhcAXAX42ocnsqruKTvFGPTDi+c126Ejnh9P37mwiXg4b1nsnvdsK6ZJIB4zGcC46rekf8axLwX2bGgiskgbPd+c1h9qDJ9XL/3+7//+xXPPPXfxiU98op0nhGOiymTF44+uPe31NL46xppf4u3L+vN17XvecT4scF0WuFWAzyi5ca/LQJv6oY+UcE718FMXnXtaZW8DENvwRGb6Tiyf1yyeL0TCywf+AJ+3DPSBp1CJzywI8wBL/SWRS+YuOkSXJRpbRK6nEGGmvDeQJxE6/8u//EvrWxu7c8TuTVCf//znLz7zmc+0MdifL4nTSyas6Fr7Sn+pq7r1Zf053qWyJRmb+GqbkR8WuC4LnCXg1xtUPomn6aj112WoVf1Et8TwAT6QpWvqqr41v0rmUvmuAJJ+EhsPoNqXL0Tyzjvv3AP4gP/OFM5JOARg1kQnMnfVI2Pp25GVxFYmJMBu+2jCOCYnerNteHnywjgBfAvNJqp8EyiAX/vTdumoPOvqN/Fpi2cpLckdZcMCN2WBswP8HiidB7TQ1N+UwZb6BSjx8IE90A9ALYHNUtmS3G3KNoFR9ACa9qgLkUi8e96zkIgYviScw7OvQO+8hkY29bek81Kb6JXrS5/vfe977QnEjqK33nqrPYWozzXXRlzewmwWl4G9WL4wlKReWtXnkn59WW27Kt+3ic3qTqBt2/ayxvmwwKkscJaAHxAIeAKrhErc9OrrzRTjqNv3WJK3rSz60FEyKdE7uoRW+SnbVj6+dW2q7MhUVsvpyIZ5kYk3bYFUeARQeoOV55x+tAViqwA/ssOfflfRqo82Ep1QNssagx1EAJ9+UtqlTfbUewvYJJW3gn0OwotinlAkR3SsOpGz7ujb1POar3Lk2QnYZ8KRt5aQo7ZN2aDDAtdtgUemm239HXDNGgEBicdssdHnAbKFEGAtHW6megMu8WxTtu9Nqe9MSsBLqkfk7qPnqnHV8iX5wFp5KJ1MREBeEiph32xjFLe3ldERecnX85ShOaouynr+8NXygL22dPOBNwu2PHspb8zGcyYDbzzo7M7xhrBtpZm4smibvkKjwzq6ild5P0bnUv5e6SWxY9YT2FPbVXLX6TLqhgVOYYGzBHwAYDshoI8nCqykCgD9jdTflNsarJezbbvw6ZduCeUAgRzb3vCrdKhjkg9fLU9Z+lQXoOd5yrOpBEgBfeyZ7YyoVPWtfUR2aPpcxxNeNPwp064m7wtIgN81T1293pFDFk+aJ5/dORZzTQL4jbnvr57XfPRZRcMbfcKXc3Zk1+hpArWekG/+aB8ZaTvosMBNWeDsAN+N5CZy83u93s2P5obqPTiGc0Npd+ix642ZPlE3ffVao8uSzKpv6tHkyUs+ctBV5T0PPslRQzL0Y1s0+mZCCO31qLKTX9ItdetobRf9omtCdvlEQuTUNvJpl3HFs87+ezz+VhyVP+eVytcjsmtZ+u/rnMeemTzRhJysh0hVnyp35IcFbsICZwv4wg4//elPG+Dz9OPR1Rs7N+NNGC59BgjQmk/9Eq1AlDGE4pev50sy+rL0j9aJJyGQ8Fcdk1dX+6x99zyRsy9dJTv9mIiknq8/r/2rywRQ+cJDdspDU1dpdKj8tb7m8UiZqITITFZ5B8C7AtYY4qjUtiM/LHBTFjgrwM8N54a3TQ/gS24msVGPy/keuhtp3c17nQaN3vqs+f6cvqmP7s4BdI6MS33lUZ/z8GobeWRI8dwjpwK+9uGPjCVa+6n8tXyp3SFl6QdNvte3P6/9qTPmbY6lcaTPbdqHR5sAvr9XKXoAewvJdDIZjWNY4BwscPaAz9MXcxYXFaP1YhDQdyNte4PfpKEDYAGZHlgSDghQx0OMx1r5I8N4Ijc0wIOSmZh85IUv8siKvORzHvmxmzZ93Sp5kaVtbRNZDxplbwv2Fpx9pC52Afh2DeU6PmjjHuO5nRY4a8DnMYnfB/Dzcg1vP4AfAOvNfxNg0wNjdIqOocrjkRtbFlLtTMpHv/ICVB1HlS8vxavPT/l5GiLPxOiJiBzgn4nAxKJdPH+AFC+0eqKRnzGgdMnElIkq48jEQgbZeKvuvZx6vk1+SRYdcyzVp25XSu6SvKXybMcF+BJ74BPS4eHHvrvqMPiHBU5hgbMH/CUPvwf8pRtx6YY9hQGrzCU91CtPil4AE1hkcdo4xYDt7pCyvQ8/QK7tlTkHLuQAc5OjBW4hMGseWTT0NGTdIzHmAH/WQvIkAKSlyI3e+orOaICerlLkZaKy1kJmJpFqn6V8ZC/V1bIlPrrmWKpP3a6U3CV5S+WuoYnaS2wV8POeADlsMY5hgXOwwCPTDXz3rrlhjXID8yIBGPAChMAq2+6yb9xNlBtp6UbcZijpr/Iu3ei1vuZr+6V2qUfj+UXvePXeMPUylHCAsfrEgY+ZCV/VbYa1X32RKQEbsryl6nMJXmCytdE3ZryUxG5sBpAkII0/E0vWRIA93QAYEI9nGqpOv5mo9EGeJwtPKcIX9sIH+LWTtjmWbLdNu3PgqYDvGuaIhx+7pXzQYYGbtMBZAz7Qj+cbwM/HvYCEm+mQI4Dcy9gGgJba9u0CymgAPwAKJIHlm5dfgwTWQNQHwXwfJi8UBTgjOzSygTcQ90VJvw4lAX8/VeiDaECY7ciXPFHgF2P2FJB1ETYgM6EhoaCEleKx69tkYJIxsUiujzZPTh9g49Um7Ba9e9vWc/1lPLX8NuUD+MCeh+8wpuzSkb/tY7xN12Pout4CZwv4CU+sAvxjeE4Apx5LALTqZsVb24cvNHLDhwL96A2oPbn4WJjk65XG/IUvfKH9qhOgBvr40watfeoD+JID6Kus/FQhUA/gA2jgrG8euToA7QlAmUkIaJl46gSrPjoE8POJBhMImQE48iT823r4sRXaj6/Wyff27evrOVnr+Nf1tW07gC/1gG9ClWK3qtfIDwvclAUG4F9aPjd/qOIKGLUcGPTn+JUnpT0+SSgE4AdIgEQA3xcsAT6g9ctTvPx8KiD8oXlSyDk5PHaAT47k0wR/9Ed/1Lx8oO7TAwFovNrkY2PWCoRhTKxCaJ4UPAkAK4uOmXjisQfwE7MG9iYK8kxQeWIAdFLsFDuwS39kLKFpg6/mnYdH3lHr1SXNtffzp7xvW8vl+35qfe2TLU26Jsrq4Q/ArxYb+XOxwNku2vJ2l0I6vMcs2q67KbcxcL1x5ZMCqqiUnSnq9RmvTV7sGxjK1xTZgB5I8qABAx51ZAKLhGGArDEDaoDPAwegeOlATmShOSJHaEjyaWGTxx//8R83wAc8QDtrIgH8rBEI1xhD/VqlX8fKd/KFaQB/wjvRw+QgGZNxuC4Jt1kXME5HbIdKsUv0z8TQU/WxU65H2sSGsY36tDeWrEfkOkVW2m9Do/8Sbx1DBfzE8LXNE0/VYUnWKBsWuE4LnDXgA8C6LVOYIaCSG/wQY9UbN6ASYHIjS4AaBdrq4umigMW3XOx4CdC42aXI4f0CWaEPu2cc+sWjT0CfHyPBA6hfeOGFFm4B+AH5yEGl6Bs5PHiyEsP/kz/5k/arUACblw+c2TKAH4CmD1mZMPzQuR8fyWeH71z+5GHsjt/hiYC+AJ+OWUwH9mxijGygPpOdfOxCBt1t55TylclQ7emVtto5z5HzTECxv2uh/8jRh0Re7B4Z66g2qw5ycgzAjyUGvQ0WOHvABywAjkd6asAHKAH5hDjiyQb4K9ALhST0ktBILjp+4JrdLB73hUH0ATAAEpDKk4zJwKQC8MXxhUiMOYBJD156knL85PDSgS+dxenJ/LM/+7P2O7U8TYCv3KQgjKStycROHcBJjlCQHxzxQ+fopz71qeblmzAigxyAqj99GBt5rk8NEQF9dpSib+zJLpLDpA2c2VHYiT558qAXME97OpPHdmyYc7Lk6cQW0YMck1om6ID0OiDPtUPX8UUWPjrp3/UdHj6LjOOcLXC2gA9MqodfAR+guJEBxiFHvXGBiASkgZgQRxbi3MwBFv3pV4iDHncuPWDAD7QCFAFoQMvzBrYAX594tOfZ8rqBPYBz/qd/+qcN8IEfwFIn0YUMurANkAHUABjQOad7tkr++Z//+cUf/uEftp0zQFCYhvdPlrEk1KNfoAXkfYe+Ar6xCefgffJyF46JDUizj2ScZNpKanLg6bMLXcT3jd+uIddSqnZkS7IkISzJ5IKyE93YjgwTGnnKpfrkY8IxebJfJih6SyYCKUeuT85X0XV8+s8xAD+WGPQ2WOBsF22BGu8uYQjevRRAOQXgAxigIgXQAA1AAwBudEAGYFCAC6AkHjHQAzx4hWnyq00ACy+QqrFwYBEQB9rAFOD7gW6Th3MADuzJAn7akJUQhkmKXB60RF/1f/EXf3EhrAMAyfLDIkCdPU1owJze5DjU58dHrAMAeDwBzgB6PHzj8/uz9AP6tpL65alMCK6dujendQV8bCvliUSe3sYjmSQkctgSeNMtP3nIBuRpL2WiiF1zXUyS/k6EpLyHELnG6LqsA3I8OdbxLQF+rpP22rIt23EO1slKf4MOC1yHBW4V4PPyxZLdxKcEfABfPWmABGQAEHDjqfJaTUpCI7x7+96BDD5HABbYA6vEuOkvhGFSAdB2xQBEZcYnFAPw5Y0TsL55CZr6DNAFWONJZ4IC5iaBv/zLv2yAD3gAPu89vySlb6AK1MnjAXsCAPTi93TPb9xmtwkqpIMXiOEHxvoF7tlOahwmNeOmu/Gh9DWePLkE6AElewJ/QEqO9wfwk/WNb3yj6U2GCY/9gDqbs73DeF0vsuhmsiDn+eefvwoRBXi3Bd91fEuAr3/JoW3sln5bxfhvWOCGLTAA//ICuIkBh5ADDx4YA0Zl6oCYSQbgAxagCIgBPDC37/3ZZ5+9AnyLnxJ+cu5M3rLfjwW++Mk3YfC6yQIMvOd4+ICNbLF1QKxPbQA4MDEhAEWTk3LhGuAqbwxCOnb84AWMQjUvvvhik8PLj0eeicUThPb4gD5v3YTAs9dn4uvMBZwzoSWskx8Vz8SYCQSYswEZkvASD5xnLgylXxMesMQbwAfo+NgH6AN7SbjHxBO9gKtrFDkJ/Zg0LX4nps++Ad91YN7fj0u8A/B7K43z22KBAfjlSrmReZ7AiKfMe1Ym8RoBBkAFvrxloOfg9WY7pTz+f/iHf7j4yle+0sDXOSDzw9sAH5hn4gDCAA1IA5dsp+QNe6IAwOoTQjKp+GwCMAzgk0UXydME0KuLtvrUj6QeP+/XEwlg5THzyIGmSUp/CYkAfWGheOhsQ9c8MQBqNrFeYIwJEdEbD1AXvjHB0DuLxeSwtYkqYRuTBJDGC9DpZrID+vQT/qKPidMTiknUAfDJMTmaFPB5n4E+wiomCZO1xMZLIN4ELfy3xOt65jAGYxwefiwy6Dlb4JHpxrv713vDmuZGAhC8PQmY8LgBnHSqGH6GznuVeOUB/YAtkFIOUAEMzxQg8My//OUvt1CEiQEAAfx//ud/bpOEpwP1wAy4JqQDeIEij9pY9ZOJI08UX/3qVxvom2yUkWHiMGkIx2hDH2AP8OhkQgoAA2veeTz8eOQBVqDKyweSwiZ0xpuJJd/20Zf+szhMb3x58rBeAGBdQ/Yjh+5sY/ISpgHk+qJ7Yvj0ZctMNIBc7D0TDcA3IdDPE5Enj8rD1kDXZGH8KJkA3xg94QB8E9GpAF//AN9k6vA34WlmxPBzVw16LhY4W8DPou0S4PM284h+iCEzwVQZ8TyFPQApUJY36UhubiDLk3SDAxEALqQBiAELMIuHDyiBfPbX012ZyYR83qskPq+vOnHQz1MCYAWawNJagX6c65cuwjqADjBKvGEhDV484ImHTw7g1E+eOIRHyDURGNM//uM/NvD18pd+AD6PGnAL17AB3ckK4LNPnkyAvScAcv7pn/6phVT0kW8E5UnB2NjJJAOg8RurCUoC7Po1HmPz90BvOuXDcJ4C9Oea4DM5SPjzxnIFfNcGGC957fVvoOaXeOvfjb5Ngia+AfjVciN/jhYYgH95VdzEvEUevAQAE64AzOokEwJAU2exUggH+ALYHvB5uLxZYQweN9CrwAmoE4oB0uTh412b0IBZPHyTBuAG1DzleNx0AcDi7wmPAFF85AC83sPXj4lDfTz8JcBXz9sGvLx7Ty/6Yx9hHwnQAXx686jZx6QAwHn5JhwAbvKht/FLDoBv3AA/TwS8cZ4xLx6g89qBuT70S0bWF8hmI4CbscfLdz08VZBljHSXBuBf/sEP8lBa4KEF/OqlufIBc6EVICaeDYyAKUABUkAPoMWjA5zx8AEMMAIqQCiesjCUhUOeO9ALcMYz55ECKd51PHx8Dt5jAJ8XbuJIKAbg87gD+EAT6PNu6Y7PBBTAFzLhkQP2Cvjx8Hmnxvv3f//3zdPWHuAHePVlbMAc8ApDAXyeNzBOyIptAvg8dpMF4A7gGz9Zjgr4xikBaMlEY6JISEef5FpbiE4APxPwm9MCep5y0ExoJhD2NzEPwG9mH/89xBZ4KAE/YB/q+sdTBLwAE3jylIGT0Ang5CkmpIMHL4DjjQshAFigAsiEM4CsNQcedkI1AersrknsHRB7khDDB7YOffF8LbYKhQD9hGKcZy2ALPrGyxceSugHKJp0smi7BPjqAbe6v/7rv27hqAA+b/rOtDjKDkAzExXAlwL4eYJhR5NQPHwTCtCN3sYvmWDxxtaJ4etLMkmwOfsA/R7wTSTGlpAKwOflmzzRPOGcAvBdm/ztpP8R0mGVcZy7Bc4a8HnbvEeeHVCSACiwOySGn5u10oQieIcJCwB0YRRAz3sHQsAMwCa2DIgAV0IxAB+YAWogxqOlrwlBiEH4Rxlv3vgAGlnOjdPiJ7AVeiA3coAtgFdnYhEqItckIdEb4ANQIAzwedXVwwf6ieF7IuHBA2R25fXz8v/X//pfF3/7t3/bdOVNB/CBNL3pGA8f4Cekk4nK2IGgCY/urlcmKv3RmQ2MDZ8nEwBNFrsnZAPM2d36BhuxefXwef8BfNckcgbgnzvkDP1u0gJnC/iABAgBfF4lL/nYgM/wQF8C+PoBGDxK4CnEEQ81i4jxzDMpACHtLVqK0fOEnQeoefvCPuoAKAAUHgLKABZQS8DPJJbdLhYYyTFp2BED1MgC9sIdJiKgzz4mi3j37EZHExAvF+CzGzkSLx6/CQgA84DVm3zU/dVf/dXF3/3d3zUvm6etL1RfdKcnOwnnBPBNOPQ2iTjoKZxjgpF3mOyMX1/WI8hhO0AtmahMRvHMhWFMFFnUDuBbsBXSAfjGRg7bxMPPREyOPl0/E8cxQjquRz2c61/qt2WajISmXNOlhd8qZ+SHBa7LAmcP+Nmlcx2AD4B6wM+LO7YJApgALK8UyJgoAHo8c2DuJk/sHRgCpCx+Ak3eMoAF+oDOxAIUtDVxACsTBzlA1QQEUPQdz5Y9AGcmIE8jQlD6E2aKHMCDlz4A3yTDpksePsD/m7/5mxbH18aaAbAXPgGayhKKAfjA2Bgq4JuoHJkQ8pSW/fNkAn22loSfJDJMJNEL2HsSMH79GKd6Ey/AN64AvvG6Fq5JBfxMaPoE+NIhi7arAF//JlrXyKGPAfjNFOO/M7PAI5N3cq/bcoMK5obiFQISYAGcACaQkHiagAAYSvsc6adSIYYAB28ZcPA8AS+A5gnzqoUzgI+bm45ubqGOLMoKWQjrAGmhCCCKD9AnnAHYjQmAAXFJGyGbLDYaI4AyIUh54qCP9vG4TTg8THaSyGS/ui2R3sDeoi1d9JdFVECu3tOUusTejctExkOW7kzAD2D1r9xTCRu5Rha29UememOh75sTCNMdoLOhFL3jGQN67Y3dmHnwJgfnZAH7xPCNDdhn8nVNjF/Sl2TCRuniacj4TNp0kk4B+MPD3+cuHG1uwgJnC/g8pniHPEHeJcAPcB4K+AF7RpcHkgAfkPO448G7mXm1vGmAjSdgTS8gAshqyMYEEKDmdZNnQiEHr/oAj37VAXdALoZt77u+8AJhXjlwpZM+6QQQpdiBDIlu+hHOAJ5Akbds8pEAuwkre9njcQNeE4HwEe88QGzc2gNaoE8v+huXpA0gBq5kGgOgZkeTHfCV6CWp156OSa5BdueYVOjMrplYjNukYOx08JSTUA37AXy6ZGKUz/qD8fnb2Rfw6eZa1b8XZTn8PUjDw49FBj1nCwzAv7w6wAdgAhaACDR4ptkdApCBRo4AAFACcIDIY3w8U3Fy4Ar0gB85ZAt5kBPgc06GQz5AlokhTxRCNvQBsMr0KYWPDOAPFI0jwAmsgbRJR0poBMACVoCe2Ly2QNPYTbbGAJyNKaGkjM/YJGMyARk7ebGTSUAy/oSRPIHkyESVcfDCM6l7Csh4xPWNOxNGPPbw5rplgtGflF08xifFzploo0eluaa1DH+Ovt65sUurAF97Yx3HsMA5WOCsAZ93m9iuG1w61MPPTRuai+Bciseo7/QP1ACLA3BI8RjdzM55ksAVkAM9AAXwgKYE7AB1AABQC2EAPPzk69/4lANa5cCEBwlcow+bAEQ6AOCAsHP9agM0pUwI0QGok0dX9frCo39jB/RJ2hgfuQHa6EuO8enLBBN59JKMhUy6GjuZxpAQDJnspm/6R1/jZsMArbb0oLO+gDdek5ikDwlfeNF49mQbYyYYciM71x6l76oD/1K9MjpJS4BvAky/q2SP8mGB67TA2QM+jxa4COccA/AZd+nmjdEDIEAeoAEaSbl2buCAGppzICUFyIAgcCMnIAsYHAAkwJn25DsC9OSQT45EF3IkoB4gwS/hBaD6ANwmC30oUxcPWR150RdfJhw6ZNzpLwCZiYgsydj0FbuQRw/8dHPIp19yJf1LkRM9Ue2NW2JrKXqknTHhQ6Xw6Sd2ls9ERi55dKJP9GqZ7j+ywtNVLZ7ijx0q4GPOom21x6KQUTgscI0WODvAd4MAJDcQj3Yd4OPd9gZ1c647qhy8dAjIoMqAW/oMgAR4USCW8wAhQCAr59EhgJfz0LRH9aWdFF2iF371Acjwhy/n+KI7mpSJIDqHR3t9pB/lDuCqrxzhd06PyEl9+o/u7CA5T5u0S1ttkjLu6BI9Uq+N9pIj40672CU8oY15w3+RuYGtVZv0pAB+9BQCG9syt7Hg4LlOC5wd4Bu8m1dMNiEMnpudJDz8PMrvcgOTuc1NHB43bQAt+dzIZDnCGz1Ca13aAqGl9pGhTepTFpq6yApNP/gCrspqX+rqubbKkgKezh3qA5i1H3UBZXmH+npEZsoiM/2Hqo8e8uGrY6iyazv89ah9ahNeefIyKfRt6vmmfPRb4lMXwPf3aq2CDg5rCNZR6riWZIyyYYHrtMBZAj6vLh6+GLBH9Ar4HtfX3YhLBlzHv66uysJXwajWyacOjczQnjf8qa9tl3jDhyYfGUs0MgBQQEhZBaDIqvLSDl1VXnk25QPC6WuJP2PHU/nDW/XAm6Q+ciMjdRlnyiMrber5pnztv/IqD+AD+wC+Pr2VLawTPWq7kR8WuCkLnCXg8/AD+AnpAHxxfB5+D/i5qVfdmIy7rq7Wr5NFRurrBUtZpekvNHXOa1nykdef13abeNSHP7zOA/jyvXznKQvVtpZHFlrlV/7KU/NLAF7rl/K1j23qo0ffTnlftiRvXVlkV56UoQH87BJKf9klhAfoj2NY4BwscNaAb1eHHRoW7rK9DtjbeZGbLjdYjJnynFe6ri58kdfz1vPKI5/zSiu/fPhWeXzhD40+lfZ1kVt5okPK0m+lqauUrCTlfT5yQ9WHr2UW/kufC1WtSH3krONZVbdteXRe4t/Uf98m/KFZtBV+lByusRh+QjoD8HsrjvObssBZAr6QTrYGAv3sO7c7A9jbEVKPTcCx7oavcnITb5JX28hX+fI5j7zKX8vkw59yNPmlduvqokv6r1Set51UZcun39DUZ4KKnimvetR8ZKVv58lXvpRF3hINf+gSz65l6XdbmfiktNNf2qI8fKDv/QZ/p9l1lF06sd+ueg7+YYFTWOBsAZ9nLwF8YZ3ceNm6t60xcqOGbttuHz591FRlBCRSlvPw1/LU1TL5lIf29RljLxOfMmBfd704DyCRWfNVtrrITjkaPUJT15+nPDTyInMd/yqdtmm7JDft6JL60OjXU/VL7fCxZ3Ygyee9AnvwvUSn7Sb5fX/jfFjgVBY4K8A3SDeWGD5vSfISjYVbNxOA6m+eel5vyl0Ntqltra99Rud4znTHm9Tr0bdNe3Sprm+/DV/VtbZXnn3xeZEp++cB66pdLfSKzKpj8qG1r1V6hjfy0ibloSmPXmgF/7Tv+fvzyFlFd+Xv5dDDtUcla0zeWciLgvgP7aPvc5wPC+xrgUemG//e/XX7SjpSu9xAHpVtxwT6XtjJozNAdYPl2HQzkXfqQx/xnEMDAkt9b9K5tjmW/ulT6CEvQQH/vLWaffnhqzrI9+U5D93EvySjtomc0PDTqyb1lafKSJuUreMLz7Fo9Mqb4EubC47V15AzLLCvBc4O8A2kAmiAPgCqrgfB3Nh9+b5GWWq3TrY6ekZXj/j9xFRlRt9ati6/ru917WqdPskRHpNMpHW7qxeVljz8KmMpv+1YNvGlvqd5gaq+McvTj03wp02v36rynu8Y5/SR8iYwvek8jmGBc7LAWQI+A+UGyo0dqm6XG7m203bdsU7uOjnqgGfCJAF8oN8f6/roeev5uv4r36q8fsnIzieevicosWbfnQmgLul3aN90WpJbdU19TwP4+ZRCQjtLbWuZfGT15ac455BIeVI6RR9D5rDAoRY4W8A3sAo0ye96E6fdJkNtkrtOjrrExoE9T3+Vh7+pn1V6rut/VZtarl8y7H6yLtIDPkBd5ZEe2nfVY1U+dunpJsAP/5LcdXVL/IeUsZGUdYZDZI22wwKnssBZA/6pBn1suW70AH5CO7y9Y3r4dD4EeIGf9ksevk8TLwF+35/zQ0C0yluSU8vkJYDPa84H03oPv7Y59nXdVd6h9tm1v8E/LLCrBQbg72qxBX43OsAXIuHh5+uaQH/p2BekKmAuyV1Xpk/tA/h2PiWk49PHvPvq4S/1pWxb3Zf4qsyl+r7MOZ16wK988vWcDWo/62xyzDp9SvHwqw69fsfsd8gaFtjFAmcJ+G6WepP05/0AN9X3/Mc+1z/wBPqrPPw6nmP3v4289J/v0gvpeIPZFx2rh28s0q5H5G/bbhV/LZe/bYBPZ6AfOzqvY9rWPoNvWOAUFjhLwD/FQE8p87YBvhfaePi3BfCFddYt2p7y2u4i29/BErgvle0id/AOCxzLAmf34tWxBnadcirgZ6dOdm3Q4xxu+OgQD78P6SSGbyw5aj5lq2jkr6rftrzKkU+o6TYA/tIY63iW6kfZsMB1WmAA/hGs3QO+OH5dtL2Om54OSwCtbylhhgB+Den4BEAF/MhakrfKXIeOMe1D9SPPuwf60a9/V6Dyr9LtHMpvi57nYKuhw+ksMAD/CLYFjInh8/AD+KsWbY/Q5T0iAswVqAMwqATwHb7oaOE2gO+LjgF84OqoclrBHv+l/22bRs/Kr6wHfOPIWPDu2k+Vf53526Lnddpk9HX9Fhgx/CPYHEBmW+ZSSOcIXWwUEdA3yQSwNQKOAVPlPPzE8E1SFm3t0okHnY4iL+e70l0BLjr2/UQvFPgPwO8tNM6HBba3wAD87W21khM4xsOvu3R6D39XEFzZ4UJFADovfAX4KyseYJ8P0gXwvWkLTAOo9KwTRTzq9FFlrsrvOtZ1gE+vAP8A/FUWH+XDApst8Mjkmd5dpdvMPzgWLAAIN3n4uwLgQjcbi+gB6IG+j7iZfISXJECp3nd0LNjmWzq2ZAJ8Bx2Bq5h5aD5cpv6mAD8x/ExImYCiM3rux3Vc/3O3wdDv5i0wAP8I1wAQLnn4uwDkoWoAFP0F8OkjAXZJneRLmc5tyRR+8tORfk0sbwX7RTEp33XPLpm031bPXQEO/1KbhHKGh7+t5QffsMBqCwzAX22blTXArx7O4+EnpKOsD+nUNsfOByz1C7yBuoXZH/zgB+3HtQG8CYB+WWfg+fsFMeCuvR0wYvo+qPa+972vfTo53j650rZH9NmFf6lNgD4UT/Xwe/lLMnqedePYpn0vb9X5MWWt6mOUDwvsYoERw9/FWhNvBYvkUSCaBFSVJe3Yxc7sARZUnyYaYRux+jfeeKMlPwpvwTbhHhQfkM+nC4D/M888c/H000+3MI8f8QD46g8dS3RcNbjUh4YP0Afs6aJ+HeBr18uILNQ4Nh3r2m9qm/pjyIisQYcFjmWBWwX429ysxzLMKjlLwKcsXnM8fGAafUNXyTy0POCC6kvfQjfi9a+++urFK6+8cvGd73ynJU8idAzgA0+ALpZvt87nP//5i89+9rNXgG9CkByHjCM6rhpr6kPDVwE/MfyeJ7yhm+rDtw3dV9a+7bbRafAMC+xrgVsD+D3Y5Dx0XwPs2k5/6bNS4RFAGhq+8GzTzy68VV7ABSUD4Cd+/+1vf7sB/ssvv3zx9a9//erHttOXNgD/M5/5zMVTTz118cUvfvHi2WefvXj/+9/fkgkhHnXa1L63zUfHdfx4ej6AD+hD6dLz9DI31ff86863ldXz9efr+hh1wwLXZYFbBfgBnFW0Gi08tewYeXIju9IAPc9ZvtbpN+frdNiGZ1X7AAwZAN/kA/Tfeeed5tm/+OKLF1/72tdaTF9oJ/zAVCjnC1/4wsXnPve5FtL51Kc+1X6X1c/0VYA9hn6r9FdOp+gVPvpJWTwOT+WreqU8NHJORdMPupQ/Vb9D7rDAPha4VYCfMIkbPMmgc8OH1rJ9jLKuTfrt+wLytkICfKnqUHmXZG+qX2rTl0UGKtFFmAm4W7j96le/evGVr3ylgb9JwAGg7MjhzX/5y1++eOGFFy4++clPXjzxxBNtEvAD5wEx/OlDftejylnVFk/P5+lDCvCHJzTjjcy+fcp3obvKwJ8noUyQu8rYRb/BOyywrwVuDeAn5gz0a6o3fAApdF+jrGtX+wufsgB9dKt1ya+jh+qc9tGPPkDfTh2Lt8I5L730UgvvfOtb37p6ChG393kFgC9+L5/v4wPZeqSPWrZtfhsAxNPzZQ0hgFp55A/RaZXuvQ6Vr9bVPFuZmKJvravtR35Y4CYtcKsAP6AKyACr8wBcpac2aA8y6Ttg39dflz7RQ3+xDy/flkwLt+L43/jGNxrwC/eosyPnySefvPjSl7508fzzz1/YmcPjD3BVmYeMaxsADE+ocQTo5R2pC1V2iF7a1yNyQ5fqlKmvPEJO1hnYDfDXuipj5IcFbtICtwrwgRiwlwL+Af2A7amNuQpcjgWM++pf9ZKPPdhHPP+tt95q2zMTy7dPX7kdOZ/+9KcvnnvuubZw++ijj7YwT0ITxxrXtgDYAyl7pC1dkt/XTpvaRX5o+ndeU1+e3UTsBvRr+019jvphgeuywK158aoC2BLoZwJYZbgKiKt4HoTyjJO9kmebH/7whxff//7328It0Bfqse5gR0723ovf++1YqR6RE1rrts1vAsBaX/ORr+++//48vNvQpT60S3ml8pkA88ShLElZ3UUU3m30GDzDAtdpgVsF+G5wQAbAqpevLOeMF3AIjUErQOSGTt2DQDO+0IyJfXwS2aeRxe+Fd4R0AD4PX1jHJ5J9Uye7YXoZZC2VpY9NdJO9a33NR66++/778/BuQ5f6SDt1qQ9489rl473Lpw7N4nLK0j4yBx0WOAcL3BrAzw2PBvQr0MfDT32ladsb/EG7KftxZnzsJITj7dv6ApZJEtjz7IVypCw8shV5kZHz3oarzmu7VTy1HP+6Nv3YtFW277Gur+iCVqAPyCtLeQA+dbXtvrqNdsMCp7LArQF8BsgNjgKxAH/AHq3lyaMzyZJUAAAXIElEQVS1fTuZ/lt304fnNtGAIlrH5twbtrz6H/3oR83T592zSzx7WzClAJdxL8nZ1h61/23aBChX8WZstV7ZvseSflWH2KGCe/KhAfvaLnJD99VvtBsWOIUFbhXgVwMEAIBWAD/5hHdqecAhlKwH7abM2EJjL+dsAuTF7qVMgrx6L1hlW+GxbLKrHPzr2hjD0rgyxlV0ncxalzwqxYMPuOfJJ+dLYF/1i7xVeo3yYYGbsMCtBXzGcoMBrtAK+MAN4AO68OSGDH0Qb8qMLbTaiR3yLZ38sYnZA/sAXAAv9fvSXW27qV/jqWPKuDbpV/VYlScj/cezRwPuoUA/9eGvMqt+tXyTjqN+WOC6LHCrAZ+RAgShAXmAD+zj7fegf10Gvql+Aj49ZR+2CGBFvwBUX66ejNSHv6eb6nv+/nyp38qT69uX1fOlfPSq8lOGP/kAeU97zx4/nrSrfcbWVW6tH/lhgZu2wK0HfAYMGKDATArYB/ADdOGpN+dNX4RT9L80PmVL5Zv612YJ4Gq7TfWVdymv/ToZS7pvM5bIjPxVNN67+gr68e5TlvZLYxhlwwLnboFHpoW8/Ve+zmh0AYRQoB9vv4J+gF/9NoCRIe7CmzbA4dyPOq6aj95LZamr9NCxrgLS2n/N67s/r/okH7mVxkNXFiAH+EJbKVuikRHZgw4L3DYLPDCAz/ABADSefkAf7dMuoB/Zu1xgAHHuRx1XzS/pva7+0LGuAtPaZ83Trz/vdY7MSgPwyuSzdpHQTcorre37Psb5sMBtssADBfgxPCBIqp6+/CpvP217WkGl5nu+eg4gHKG1rs8vydRuVfm69tv017fPuf6W+kw9uq7+kL7J1n5JxpJe6/QgK0dkLnn0AXp1Ceeg2lT+6BQa2YMOC9xGCzyQgO9CBBSqp59wDtDvJ4IAS9rlYuY8NOXraMAhdB1v5IamTc61TVlolbfEV+u3zZNTZS21W1e/pNuSjFVl2i/JWNJrnR5VPnnAOwCOBuhR9QF75/KO6BJ9QqvskR8WuI0WeGABPxcjgBGA7ynwl/CpC+3bO++BZhUQpDw0snoaeZVqI0WXnEdWaG0TuakLTfk2NPJW8W6qX9Vu2/J1Ovd99+fpQ3nkhFaAD/j3Zc6TIivtQ1M+6LDAbbbAAw/4Lg4gSIqXH+DPeeL7ypPSBo2clrn8bxUYpDy0tqn5Kjd9pU0FfG3ipaZ9+J3La5eEd9cjuqxrtw3Puvbr6jLuJZ6+3/48bVJOVsAdDZivK8skEFmh6/QKz6DDArfFAg8U4Lvh192g6qUAOhrAr2GeWh7gDZi4sH0/6TM8OUdTpl3KI0NddEk+PM4lIKUsKeWhZDkqmMk7IqudHPhf39+B4o7ePPrFThXk+zyeWuY8du4VO6YNe9njfFjgui3wQAH+JuMFFPAFyAO4AX4UXzx+E0HKlNejB4PUpxxNmXYpl4/8/PC5c7rkiMcprixPjtTr0/OFX1+1v8jdl6b/fdufsl0dZ8bNLrGFfOwUYM8EGf7ICKVvzZ9S/yF7WOC6LPDQAX4MGwBDA/qhAVbneWM3ddqrD1DkPHLX0QCI9oBe8kEzv0jl16ec6wcY+SZ9Pmjm8wfamBTw+zxCnkjw5cc38AE5KYBW9SEjR3TJ+SaqbW2/if/U9dE/NEDuXKp2COCjqQ+lp3yO5ENTPuiwwINggUcmsLmLAg/CiNaMoQJW8gGyeg5044ED1njVysKfbmq7lK2j+MkP0P/0pz9t36pH/fasvvD4Nr30wQ9+8OJ973tfE6l/37X3w+RA3yTx3ve+9+L3fu/3Gs3njZcAP3pGt10BTfteRmTdBKW/lIktgJ/zHvBTn3GH0r3ml85vYnyjz2GBU1jgoQf8atSAGhrQR+PlB/CVVd4AYWiV2eczkfzyl79s36j/8Y9/3D5Z/N3vfvdCMhEA/Tt37lx84hOfaOnjH/94AyVt/WrVD37wg/bFS4BfJwaTQ/VmgVyO6OscwPUgF75VdJux9W33adPLWHUeYM94cx6qvE58GfOmcW+qX6XPKB8WuA0WGIB/eZXqjQ6oAurx7kOVL6Vc7E0gB7TJ4qEL5fDqeexvvPFGSzx4k8GT0w+L+2GSp5566uKJJ55onqx+/VShSUL4h6wAvh8e5+0H8NCMKTqFpjw0uq+jabuOp6/bp00voz+ns2R8AD2Aj2bs6lMeXnLkl45V5Uu8o2xY4DZb4KEFfBetApKbvt746qQANApwl6iyKit/EEtlkeepAWj7Nv3Pfvazi29/+9sXr776avPyATrvHtB/5jOfubgzefsAzGFyEP6hK8Dj1X/gAx9ov1b1u7/7u/eMAX/GIe/IGOt4UzZzHOf/vt9DpUZHtIJ9Bf0APho+NG2XdFhXt8Q/yoYFbrMFHtpF21y0gPISMKiLNw+oa1LOU8ej3HkPcpGNBlgiD9Uunv6bb7558frrrzfgl+eti91/+tOfvrgzAX4WZIV8hHKAu4QHbxZv9ZU+oq9zR8aIBihTFnsci/a2OERudAygx5vPGNAlkFfm0L7SdjL+GxZ4CC3w0AO+a14BOeCQv4UAVwA6FNgnX6m8NjlqXll/Tg4AF79/++23L15++eWLb37zm002YHtyCu3w9N/znvdcvPvd725ilQvhAHu/VgX4lUn6lzxB5CkiumocPjt7TCIB0V6v1tHlf71Nal3y2ifFBmiAmIwAcNqso7VP+egdSlYAXxmemsjOefLr+ht1wwIPgwUeKsBfdUEBFXBYdQTI0HjzwKx60CkPDehFpraO2o8yfABZ7N7vzb722mstCesI3wjXSGL1KG/ebhyAb3dOtmQGCMmTAvZCRn68PE8GJg1JW5OFdsAz+lW9A5ibgDrjMHaTlyRcRYfo59PDdYKJXULTf/oM1XfAPZ58xpq66Bfb9jR97EMja5+2o82wwLlZYAD+DlcEKAXcAqxoD/wAPGUBjACa7voyvBZwgfNbb711IaQjpg/8gRzQFNN//PHHL+zY+djHPta8e6Ad8KvArS+AK1xk0vjJT37SFofJ10b6yEc+0iaQvl3GQ8ceUGOq6J9z/RkzgNeH9Itf/KL178nEBOUpxEQTrzxtQ2MfstN3xpY29acYo5v2VZ+aj+xD6LHlHaLLaDsscKgFHqpF20ONpT1g6lNAMiCPAkApvHhyVBBJPV4AbReOrZcvvfTSxde//vXmnfOYP/WpT7XwztNPP9127wBt3n5kBbijY+TZwkmeJwhAbJFXAvgf/vCHG6iTQY+MA1UmBXSr7ukzZaj+TDKeTKS8V6AfTyeZaALetW3Nkw3Mw4cG6OXVRbfoQfeUVVnHyKePY8gaMoYFbtoCA/D3uAIAxhGwrmDZg37OgWiAqe8ycoCmbZoA86tf/WpL3/ve95qHDvBt0fzc5z7XwF9Ih+ecAzBX0ONtmyisC0jk2u4JgJMAf9rQL4BP55T3IFs96/SNF9hL9LUeYZIxjjyZZPsoPQG4Q7v+IB+PfgP20UF5BXxtY7vo28s79HxJx0NljvbDAjdlgQH4e1geyORIHq2AGaAH4lLOewCp7fHYosk7tnBrAVeIB3jGI//sZz/bAP+jH/1o85wDdKEBROAL8IWHvvOd77Q8PYSEtM2Ekf4zIUVf4yMTyAZoA8ZoPfAF8N95550LySQD/L1LIAlDGQOwl6Knto7on76AfPoO4Nc2aaetMdRzZcc6TiX3WPoNOcMCu1hgAP4u1rrkDUjWpikD2gF+lKctBUh7AAnQao/HAitvHEh7GQtw8pjF8X1bh6efsM5jjz12BcbRJYAJ7IWIbPUE+voFtNYBgG9i6vqvOkTfjCfAGwp0K+BnPNoB/YC9fk1WdL1z584FXfVr4bYu3gbEIzc04wgNn/6SMuZT0ozvlH0M2cMC12WBAfh7WDpgWJsqqylAagIIiAL0HOENXzxksXYpi60WXOWzCMo7l5555pkGpiYBe/BzBDDtyhGzB7wmD3wWUG3x5OVn90z6D6UHfTPGAL3Jonra6S/U2LRNSMeCs4nmycs3hgF+7TfeO32TRwPmGUfOe5p+Tw3Ip5afcQw6LHAdFhiAv4eVA4a1aQA8ZTkHhAF9+bQNwKpTnl06wjkAH3jy0MXdAbewjgS4baf8/Oc/fyG8k22aAcj0b4IQHgK6PG189u2LqefJAMDShy55MvFkoO/oH6APTT89EBqDicIiMdAH+J5QhHMSx+fh5yug+s5kUvObgD31GWevR8qPRU8t/1h6DjnDAttYYAD+NlbqeALaXfEVmCsPYAbYAaJ8ygP0AfZ49sAd+Adg8eEBoLx1k4CyxPKBt9i4MIk2Dv1k4hAOAsJi9pKQjicEQAa8oxOZEsCXomf0QKV44doGfFFtjdEuI/1lW2kAP08WJiypgj2ZSQHYyG4DKv+lXlHNF5ajZq+jj6MqPIQNC6yxwAD8NcZZVbUK8PHXuuTRAKp8znnE+WomkASWQBOvHThSQNki7re+9a3GA8x5zZKY/p0pRi5cA0gj20tcdsmgQkLZJQPsbceMrgBff6EBfOcOwBywD+AD53j6Af6016dx0NW3gQL48fLpaD9+AF77mg/AhjYlFv7bVL/QZK+i6+pnL+VGo2GBHS0wAH9Hg2EHqquOvi7nAdW0d85zB8a8e544oEzII7togCEw5d0LkSREY9FVmMY2TR9Ys8VSGwfZCQFZA7AQnN054cvEgrcmOkkOugP5CvrJV5AG2njJySRjgvJUYjIC9oCflx8PX/uAPSpVcJWXYr+m0OV/la+WnyJ/nX2dQv8hc1igWmAAfrXGlvklEErTVXVAO14zHt49bxrIA+eEXgLIwFvMPWCqXiye5yxcArCB0XPPPdfCOzVUox+7e+yYAfZCRMBW+McLUJ4c9C9V4NdOWQDfmOLdB+jreQVsY9Ie4Eu2lAL8LNqiAXyTWm0r3x/GFrCtNk1Zz3+q8+vu71TjGHKHBVhgAP4efwcVgPrmq+oCiKHAXjgHkEtCLzz9fDMngM8TdmQxNJ6+RVkyAqg8aIAOkB0mB6CPB6gnhu6pwKIvb7yCfbz8TAJkALsAfCjgB9AB7ACicS15+LZl0jF6ZndQZKCRoc/YT1ktV3cTxznocBPjHn0+mBZ4ZAKd1fGJB3PMB48qoLQkaFNdgJHXDbTtaOGJ21FjAvCBNJ69xBMH+EBH6MekEM8dPxmJzVfAx28rJtCXJyPf4RHrFw7ijScF7OskYGza9p59QjHqpBxkaU/HxPB5+D7v7A1hSWgngJ/2oeTEdmgtTx83QesYb6L/0eewwDEtMAB/D2sGmJaabqoLyPKk7bixACvxxIVSsqgp7AEcecAOoRkgLybvScA+e/z4ALhQkElC/zx3gO/JIWsCYvh28ySGHiDDLwX06SXl4NkH9FHteq8cb8YF7IG+0BPAz24iHj7Az4tX2gTUqy7Kz+mIbuek09BlWGBfCzwyeZnDw9/ReutAnah19YAxAAuYATfgD2DyoONFV2DlzXsCSALKQDoADPSBe/bue2qwNpDdPvbAexoI4KYfukj6J49cejl3APkk4B+QVlfBEL928fBfeeWVttAM8L0klt06dftoL8N5PdbZsfKdMl/HeMp+huxhgeuwwAD8I1s5IBVKfJ93LgVkAW14KqBGNXWAXOLVo/HI8WgT75v3L/wD7C2eWguQbMcE+InFA/yAWdUHaAfwleMjW7u0iY6VBvCtNXiysCXTUwawT1iHh5/+M7ZNNHapfNG7lo38sMCwwGYLDMDfbKOdOQKgGi4B1lJZD2IANHLQhFrigQN8PDkCuNYEgD1PW6gIyAv3COfIB7wD1lVH/ZAL8OXJBPKeNCrg58mDjEwC2tFN354uLC6jwN7CbX6MvQd8/Tj68bfCy//Cs4mvthn5YYFhgfstMGL499vk4BIAFZAKrUKXymp98pUPCAfs5auHj8857x/g87J5+eL++cUsL1sB/njs+gjIph8UyEvyEnCX0k6blIUqq4AP9C0Y0+XOtA9fOAe1U6gCfu2XjOiT8Q86LDAscFwLDMA/rj2btIBlRAfYVp2nfIkGBAPwKMAP6KevPAEAWwunFnjtAsr2TsAvH49dX6v0quUBYu0k5wH6yHJOHxNOXryih7y1AwnYo4nh1z7kM87QJVuMsmGBYYHDLDAA/zD7LbYGYBXQMG06D08ANoIDgPG8Ab58gJ9c5wAf4Pq0spRv8thzXxN5AHpJx+iAhi/6VMBXFrAPpQ8dTDTZeUSPTDjCSSYdHr6wUvoiK0fNp2zQYYFhgeNZYAD+8Wx5JWkJTHvAx9yXOQ/ARljOIzNgnwkg5wF8u36yo8firp07vl2D8q57ebWf5NF48aEB9rTPuXpl9KOLXUTpH7V7SP8mHe8AAHttc2jrCE35oMMCwwLHt8BYtD2+TRe95x7c0+1SeQ9+AdS+TcA+3nXCOvb0A3s0MXMgC2wjOxMImSlDkwL0qLZJqUfDI+8gMxOPpw1hHv17nyB6RF7GnbahTdD4b1hgWOAkFhiAfwKzVjCt4gNytUy+lm8CPvXh0Q7YJyW2n3g6Gt6+z6VzvAHxAHyl6tL/Es1YTER0Q7XXLkf6CK9zR2g7Gf8NCwwLnMQCA/BPYFZgV0G8drGqvPL0+R4M63nANaAfrz/evvPwpO/Q2g+ZFewTeglNPZqkfc07j2xU6uv788hAxzEsMCxwWgsMwD+BfSvo9eJT15evOgeQ9ejPUxdgD+Cj1eOv9dEhlMwK9rxyQB+wdx6grlTfS/pEbnSrtOfvzyvvyA8LDAsc1wID8I9rzyatAl7Nq+zP13W/BIZLZZFLtlTBHejH+0dT1+uR0A3gD+CjOddvkv5W6dGPp/aTNqE97zgfFhgWOK0FBuCfwL4V5Go+XS2VpS50FSiuKk87spOAe0C+gr68I3qQ2QN+gD6eP358m/rH1x/6SbvQnmecDwsMC5zeAgPwT2DjACnRNb/U1VL9OlBcVxf5kYkCfbQCv7Ic4a2AH5BHHekzNG030fDrI/lNbUb9sMCwwOksMAD/BLYNiEZ0f57y0Fq/CRg31UdmpeQnlAP4a3/4nFePXh9JVc4u+X303EX+4B0WGBbY3QID8He32cYWPaBqsFS2UdACw75Aqn8pwF/lKI9Xvw/QV1kLKo+iYYFhgTOxwAD8E1yIJXBfKtun60PBNSGeCux0y3mVv43OlX+f8Yw2wwLDAtdngQH4J7J1D5b9+Ym63UpsAL5n3ha8t+Xr5Y/zYYFhgZu1wAD8E9q/B/n+/IRd7yx6WxDflm9nBUaDYYFhgZNb4JHpq4rjJw5PaOZNIL9Uf86ges66nfAyDtHDAg+EBQbgX8NlXAL1dNvXnTugnrt+seugwwLDAvdbYAD+/TY5SUkP7Omklp8rmJ6rXrHhoMMCwwLbWWAA/nZ2OgpXBfcITNm5guq56hX7DTosMCywvQUG4G9vq6NwBuAjLOfnBKznpEvsNOiwwLDA4RYYu3QOt+HOEgLyaej8XED2XPSIbQYdFhgWOJ4FBuAfz5Y7SepBf6fGJ2IeYH8iww6xwwJnYoEB+Dd4Ic4J9AfY3+Afwuh6WOCaLDAA/5oMvaqbcwH9AfirrtAoHxZ4cCwwFm3P4FqeA+gPwD+DP4ShwrDAiS0wAP/EBh7ihwWGBYYFzsUCA/DP5UoMPYYFhgWGBU5sgQH4JzbwED8sMCwwLHAuFhiAfy5XYugxLDAsMCxwYgsMwD+xgYf4YYFhgWGBc7HAAPxzuRJDj2GBYYFhgRNbYAD+iQ08xA8LDAsMC5yLBR75+c9/Pn4A5VyuxtBjWGBYYFjghBYYgH9C4w7RwwLDAsMC52SBAfjndDWGLsMCwwLDAie0wAD8Exp3iB4WGBYYFjgnCwzAP6erMXQZFhgWGBY4oQUG4J/QuEP0sMCwwLDAOVng/weDJ53OwFxc/wAAAABJRU5ErkJggg==)"
      ],
      "metadata": {
        "id": "f4Lea1IrYJfw"
      }
    },
    {
      "cell_type": "markdown",
      "source": [
        "Since during **back propagation**, addition distributes gradients equally to both of the branches."
      ],
      "metadata": {
        "id": "jOFzsBtRYDQR"
      }
    },
    {
      "cell_type": "markdown",
      "source": [
        "This means that during backpropagation, the gradients can bypass certain layers, maintaining their magnitude and ensuring that the earlier layers receive meaningful gradient updates."
      ],
      "metadata": {
        "id": "hKk0L7QQaDqW"
      }
    },
    {
      "cell_type": "markdown",
      "source": [
        "This direct path prevents gradients from becoming too small (vanishing) or too large (exploding) as they propagate through many layers."
      ],
      "metadata": {
        "id": "MBHK45zxakxm"
      }
    },
    {
      "cell_type": "markdown",
      "source": [
        "The residual blocks are initialized to contribute less at the start but more as training progresses."
      ],
      "metadata": {
        "id": "l-l3DFlLZWx8"
      }
    },
    {
      "cell_type": "markdown",
      "source": [
        "Although not a formal requirement, one implicit design is that at the very start of training, the transformations applied by the residual block (like convolutional or fully connected layers) should be close to the identity function"
      ],
      "metadata": {
        "id": "xcU1PviqbyRX"
      }
    },
    {
      "cell_type": "markdown",
      "source": [
        " This means the layers within the residual block should initially perform minimal transformation. This is typically achieved by initializing the weights in such a way that the output is close to the input when the network starts training."
      ],
      "metadata": {
        "id": "R62Zi_dScoR4"
      }
    },
    {
      "cell_type": "markdown",
      "source": [
        "As the training progresses, the layers within the residual block start to learn useful features. They gradually move away from the identity function and start contributing meaningful transformations. The residual connection still ensures that the original input is combined with these new features, which stabilizes the training process and allows the network to benefit from both the original and learned information.\n"
      ],
      "metadata": {
        "id": "3UxUCtIBc3h1"
      }
    },
    {
      "cell_type": "markdown",
      "source": [
        "- Besides the All this, we also add a self projection layer on top of the attention and feedforward block, so that the linear layer is used to retain dimension and introduce further representations, features, and flexibility to represent itself."
      ],
      "metadata": {
        "id": "gMOo1Wf0hR47"
      }
    },
    {
      "cell_type": "markdown",
      "source": [
        "#### LayerNorm"
      ],
      "metadata": {
        "id": "dOMro9Y4iLFh"
      }
    },
    {
      "cell_type": "markdown",
      "source": [
        "Opposite to batch normalization, which normalizes across columns(batches), layer norm normalizes across rows(each individual example)"
      ],
      "metadata": {
        "id": "n-Ccu5QMllYq"
      }
    },
    {
      "cell_type": "markdown",
      "source": [
        "Also, training and validation will have no distinction, and we don't keep the running buffer"
      ],
      "metadata": {
        "id": "GtEq8Lp9mQfB"
      }
    },
    {
      "cell_type": "code",
      "source": [
        "class BatchNorm1D:\n",
        "\n",
        "  def __init__(self, dim, eps=1e-5, momentum=0.1):\n",
        "    self.eps = eps\n",
        "    self.momentum = momentum\n",
        "    self.training = True\n",
        "\n",
        "    self.gemma = torch.ones(dim)\n",
        "    self.beta = torch.zeros(dim)\n",
        "\n",
        "    self.running_mean = torch.zeros(dim)\n",
        "    self.running_var = torch.ones(dim)\n",
        "\n",
        "  def __call__(self, x):\n",
        "    # Forward pass\n",
        "    if self.training:\n",
        "      xmean = x.mean(0, keepdim=True)\n",
        "      xvar = x.var(0, keepdim=True)\n",
        "    else:\n",
        "      xmean = self.running_mean\n",
        "      xvar = self.running_var\n",
        "    # Normalize the layer\n",
        "    xhat = (x - xmean) / torch.sqrt(xvar + self.eps)\n",
        "    self.out = xhat * self.gemma + self.beta\n",
        "\n",
        "    if self.training:\n",
        "      with torch.no_grad():\n",
        "        self.running_mean = (1 - self.momentum) * self.running_mean + self.momentum * xmean\n",
        "        self.running_var = (1 - self.momentum) * self.running_var + self.momentum * xvar\n",
        "\n",
        "    return self.out\n",
        "\n",
        "  def parameters(self):\n",
        "    return [self.gemma, self.beta]"
      ],
      "metadata": {
        "id": "onbuZ3fwPYLx"
      },
      "execution_count": 1,
      "outputs": []
    },
    {
      "cell_type": "markdown",
      "source": [
        "This is the original Batch Norm layer, and now we change it into Layer Norm by:\n",
        "- No training or validation difference\n",
        "- No running mean\n",
        "- Change mean and var dimension to be 1(across every example)"
      ],
      "metadata": {
        "id": "3R8sLcXroMZj"
      }
    },
    {
      "cell_type": "code",
      "source": [
        "class LayerNorm:\n",
        "\n",
        "  def __init__(self, dim, eps=1e-5, momentum=0.1):\n",
        "    self.eps = eps\n",
        "    self.gemma = torch.ones(dim)\n",
        "    self.beta = torch.zeros(dim)\n",
        "\n",
        "  def __call__(self, x):\n",
        "    # Forward pass\n",
        "    xmean = x.mean(1, keepdim=True)\n",
        "    xvar = x.var(1, keepdim=True)\n",
        "    xhat = (x - xmean) / torch.sqrt(xvar + self.eps)\n",
        "    self.out = xhat * self.gemma + self.beta\n",
        "\n",
        "    return self.out\n",
        "\n",
        "  def parameters(self):\n",
        "    return [self.gemma, self.beta]"
      ],
      "metadata": {
        "id": "ehhZkXr7oLQU"
      },
      "execution_count": 2,
      "outputs": []
    },
    {
      "cell_type": "markdown",
      "source": [
        "So This is similar to the pytorch version of the layer norm"
      ],
      "metadata": {
        "id": "TnX06WospLCT"
      }
    },
    {
      "cell_type": "markdown",
      "source": [
        "Nowadays people do **pre-norm formulation**, which means to apply the layer norm before the input goes into the self attention layer and the feedforward layer"
      ],
      "metadata": {
        "id": "Vh2RDRrApkYD"
      }
    },
    {
      "cell_type": "markdown",
      "source": [
        "Now given our data is B * T * C, the layer norm is going to normalize across the feature dimension, in this case it is C, the embedding dimension, which makes the layer normalization to be a per token normalization"
      ],
      "metadata": {
        "id": "gn_8RvwRrDCx"
      }
    },
    {
      "cell_type": "markdown",
      "source": [
        "And if we are applying batch normalization it will be normalizing across both the Batch dimension and the Time dimension(Chunk or Block size) together"
      ],
      "metadata": {
        "id": "pHESjgTXrlab"
      }
    },
    {
      "cell_type": "markdown",
      "source": [
        "Also although we are using the pre-norm formulation, we still need a final layer normalization in the end of the transformer decoder block"
      ],
      "metadata": {
        "id": "hbN33Qzss4gt"
      }
    },
    {
      "cell_type": "markdown",
      "source": [
        "#### Drop out"
      ],
      "metadata": {
        "id": "J_SVSHXS0QHi"
      }
    },
    {
      "cell_type": "markdown",
      "source": [
        "[Dropout: A Simple Way to Prevent Neural Networks from Overfitting](https://www.cs.toronto.edu/~rsalakhu/papers/srivastava14a.pdf)"
      ],
      "metadata": {
        "id": "ADp8pQxT0S96"
      }
    },
    {
      "cell_type": "markdown",
      "source": [
        "Dropout is a way to prevent overfitting by training with randomly deactivated neurons, which aims to make the neural network not fully dependent on any single neuron, and the ensemble-like structure will make the generalization better"
      ],
      "metadata": {
        "id": "AjVz1gBM0ZyP"
      }
    },
    {
      "cell_type": "markdown",
      "source": [
        "We can add dropout right before residual connections"
      ],
      "metadata": {
        "id": "Lmj4svcj4SLf"
      }
    },
    {
      "cell_type": "markdown",
      "source": [
        "#### Why Decoder only we are using"
      ],
      "metadata": {
        "id": "8bOiNmYOZnS7"
      }
    },
    {
      "cell_type": "markdown",
      "source": [
        "This is because we are just generating text according to a given data set, and the model is not dependent of anything else."
      ],
      "metadata": {
        "id": "WBX58RGMaElc"
      }
    },
    {
      "cell_type": "markdown",
      "source": [
        "The triangular mask makes it a decoder transformer."
      ],
      "metadata": {
        "id": "XmkgkoexayUY"
      }
    },
    {
      "cell_type": "markdown",
      "source": [
        "The reason that the original paper has a encoder and decoder is that it is a machine translation paper, thus, it expects encoder to encode with input as a language, and decoder output another language"
      ],
      "metadata": {
        "id": "XECSqSb_btUC"
      }
    },
    {
      "cell_type": "markdown",
      "source": [
        "GPT also is a decoder only language model"
      ],
      "metadata": {
        "id": "khLMyA5hdSVS"
      }
    },
    {
      "cell_type": "markdown",
      "source": [
        "##### Machine Translation"
      ],
      "metadata": {
        "id": "kwgI2Yt6c25y"
      }
    },
    {
      "cell_type": "markdown",
      "source": [
        "Machine translation uses the encoder to let the tokens in the original sentence to talk to each other as much as they want(self attention), and then the decoder uses it as the keys and values, and with its own queries and the whole original language sentence, generates"
      ],
      "metadata": {
        "id": "evrSanvYc733"
      }
    },
    {
      "cell_type": "code",
      "source": [],
      "metadata": {
        "id": "F1XWF6raaxz9"
      },
      "execution_count": null,
      "outputs": []
    }
  ]
}